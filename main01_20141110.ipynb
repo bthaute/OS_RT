{
 "metadata": {
  "name": "seminar01",
  "signature": "sha256:4ed26466e8e992cfb77de762c68b2641d86a55dc0797f9057557492b77c02c30"
 },
 "nbformat": 3,
 "nbformat_minor": 0,
 "worksheets": [
  {
   "cells": [
    {
     "cell_type": "code",
     "collapsed": false,
     "input": "import sympy as sp\nimport symb_tools as st\nimport model_tools as mt\nimport numpy as np\nfrom numpy import r_,pi\nfrom scipy.integrate import odeint\nimport pylab as pl \nimport matplotlib.pyplot as plt",
     "language": "python",
     "metadata": {},
     "outputs": [],
     "prompt_number": 1
    },
    {
     "cell_type": "code",
     "collapsed": false,
     "input": "t = sp.Symbol(\"t\")\nx1 = sp.Symbol(\"x1\")",
     "language": "python",
     "metadata": {},
     "outputs": [],
     "prompt_number": 2
    },
    {
     "cell_type": "code",
     "collapsed": false,
     "input": "q1 = sp.Function(\"q1\")(t)\nq2 = sp.Function(\"q2\")(t)\nqq = sp.Matrix([q1, q2])\nFF = sp.Matrix(sp.symbols(\"F1, F2\"))\nparameter = sp.symbols(\"I1, I2, m1, m2, l1, l2, a1, k1, k2, g\")\n#Bill: was bewirkt diese Zeile? Quasi um jedes Symbol, was oben angelegt wurde als Listenelemente ansprechen zu k\u00f6nnen\nI1, I2, m1, m2, l1, l2, a1, k1, k2, g = parameter",
     "language": "python",
     "metadata": {},
     "outputs": [],
     "prompt_number": 3
    },
    {
     "cell_type": "markdown",
     "metadata": {},
     "source": "Geometrie (karthesische Koordinaten der Schwerpunkte)"
    },
    {
     "cell_type": "code",
     "collapsed": false,
     "input": "ex = sp.Matrix([1, 0])\ney = sp.Matrix([0, 1])",
     "language": "python",
     "metadata": {},
     "outputs": [],
     "prompt_number": 4
    },
    {
     "cell_type": "code",
     "collapsed": false,
     "input": "# Rotationsmatrix\nmt.Rz(q1)",
     "language": "python",
     "metadata": {},
     "outputs": [
      {
       "metadata": {},
       "output_type": "pyout",
       "prompt_number": 5,
       "text": "Matrix([\n[cos(q1(t)), -sin(q1(t))],\n[sin(q1(t)),  cos(q1(t))]])"
      }
     ],
     "prompt_number": 5
    },
    {
     "cell_type": "code",
     "collapsed": false,
     "input": "s1 = l1*mt.Rz(q1)*ex\ns1",
     "language": "python",
     "metadata": {},
     "outputs": [
      {
       "metadata": {},
       "output_type": "pyout",
       "prompt_number": 6,
       "text": "Matrix([\n[l1*cos(q1(t))],\n[l1*sin(q1(t))]])"
      }
     ],
     "prompt_number": 6
    },
    {
     "cell_type": "code",
     "collapsed": false,
     "input": "s2 = a1*mt.Rz(q1)*ex + l2*mt.Rz(q1+q2)*ex\ns2",
     "language": "python",
     "metadata": {},
     "outputs": [
      {
       "metadata": {},
       "output_type": "pyout",
       "prompt_number": 7,
       "text": "Matrix([\n[a1*cos(q1(t)) + l2*cos(q1(t) + q2(t))],\n[a1*sin(q1(t)) + l2*sin(q1(t) + q2(t))]])"
      }
     ],
     "prompt_number": 7
    },
    {
     "cell_type": "markdown",
     "metadata": {},
     "source": "kinetische und potentielle Energie"
    },
    {
     "cell_type": "code",
     "collapsed": false,
     "input": "q1d = q1.diff(t)\nq2d = q2.diff(t)\ns1d = s1.diff(t)\ns2d = s2.diff(t)",
     "language": "python",
     "metadata": {},
     "outputs": [],
     "prompt_number": 8
    },
    {
     "cell_type": "code",
     "collapsed": false,
     "input": "T = (I1*q1d**2 + I2*(q1d+q2d)**2 + m1*(s1d.T*s1d)[0] + m2*(s2d.T*s2d)[0] )/2\n#T = (I1*q1d**2 + I2*(q2d)**2 + m1*(s1d.T*s1d)[0] + m2*(s2d.T*s2d)[0] )/2",
     "language": "python",
     "metadata": {},
     "outputs": [],
     "prompt_number": 9
    },
    {
     "cell_type": "code",
     "collapsed": false,
     "input": "V = (k1*q1**2 + k2*q2**2)/2",
     "language": "python",
     "metadata": {},
     "outputs": [],
     "prompt_number": 10
    },
    {
     "cell_type": "code",
     "collapsed": false,
     "input": "mod1 = mt.generate_model(T, V, qq, FF)\nmod1.eq_list.simplify()\nmod1.eq_list",
     "language": "python",
     "metadata": {},
     "outputs": [
      {
       "metadata": {},
       "output_type": "pyout",
       "prompt_number": 11,
       "text": "Matrix([\n[-F1 + I1*q1_dd + I2*(q1_dd + q2_dd) + k1*q1 + l1**2*m1*q1_dd + m2*(a1**2*q1_dd - 2*a1*l2*q1_d*q2_d*sin(q2) + 2*a1*l2*q1_dd*cos(q2) - a1*l2*q2_d**2*sin(q2) + a1*l2*q2_dd*cos(q2) + l2**2*q1_dd + l2**2*q2_dd)],\n[                                                                                      -F2 + I2*q1_dd + I2*q2_dd + a1*l2*m2*q1_d**2*sin(q2) + a1*l2*m2*q1_dd*cos(q2) + k2*q2 + l2**2*m2*q1_dd + l2**2*m2*q2_dd]])"
      }
     ],
     "prompt_number": 11
    },
    {
     "cell_type": "code",
     "collapsed": false,
     "input": "Mq = mod1.MM.expand()",
     "language": "python",
     "metadata": {},
     "outputs": [],
     "prompt_number": 12
    },
    {
     "cell_type": "code",
     "collapsed": false,
     "input": "#Mq.simplify()\nMq",
     "language": "python",
     "metadata": {},
     "outputs": [
      {
       "metadata": {},
       "output_type": "pyout",
       "prompt_number": 13,
       "text": "Matrix([\n[I1 + I2 + a1**2*m2 + 2*a1*l2*m2*cos(q2) + l1**2*m1 + l2**2*m2, I2 + a1*l2*m2*cos(q2) + l2**2*m2],\n[                             I2 + a1*l2*m2*cos(q2) + l2**2*m2,                    I2 + l2**2*m2]])"
      }
     ],
     "prompt_number": 13
    },
    {
     "cell_type": "markdown",
     "metadata": {},
     "source": "---\nAlternativer Zugang (Koordinatendefinition wie Prof. Janschek)"
    },
    {
     "cell_type": "code",
     "collapsed": false,
     "input": "z1 = sp.Function(\"z1\")(t)\nz2 = sp.Function(\"z2\")(t)\nzz = sp.Matrix([z1, z2])\n# \u00dcberschreiben von s1, s2\n\ns1 = l1*mt.Rz(z1)*ex\ns2 = a1*mt.Rz(z1)*ex + l2*mt.Rz(z2)*ex\n\nz1d = z1.diff(t)\nz2d = z2.diff(t)\ns1d = s1.diff(t)\ns2d = s2.diff(t)\n\nT = (I1*z1d**2 + I2*z2d**2 + m1*st.norm2(s1d) + m2*st.norm2(s2d) )/2\nV = (k1*z1**2 + k2*z2**2)/2",
     "language": "python",
     "metadata": {},
     "outputs": [],
     "prompt_number": 14
    },
    {
     "cell_type": "code",
     "collapsed": false,
     "input": "mod2 = mt.generate_model(T, V, zz, FF)\nmod2.eq_list.simplify()\nmod2.eq_list",
     "language": "python",
     "metadata": {},
     "outputs": [
      {
       "metadata": {},
       "output_type": "pyout",
       "prompt_number": 15,
       "text": "Matrix([\n[-F1 + I1*z1_dd + a1**2*m2*z1_dd + a1*l2*m2*z2_d**2*sin(z1 - z2) + a1*l2*m2*z2_dd*cos(z1 - z2) + k1*z1 + l1**2*m1*z1_dd],\n[                 -F2 + I2*z2_dd - a1*l2*m2*z1_d**2*sin(z1 - z2) + a1*l2*m2*z1_dd*cos(z1 - z2) + k2*z2 + l2**2*m2*z2_dd]])"
      }
     ],
     "prompt_number": 15
    },
    {
     "cell_type": "code",
     "collapsed": false,
     "input": "s1d",
     "language": "python",
     "metadata": {},
     "outputs": [
      {
       "metadata": {},
       "output_type": "pyout",
       "prompt_number": 16,
       "text": "Matrix([\n[-l1*sin(z1(t))*Derivative(z1(t), t)],\n[ l1*cos(z1(t))*Derivative(z1(t), t)]])"
      }
     ],
     "prompt_number": 16
    },
    {
     "cell_type": "markdown",
     "metadata": {},
     "source": "Das ist die Massenmatrix, die bei Prof. Janschek rauskam"
    },
    {
     "cell_type": "code",
     "collapsed": false,
     "input": "Mz = mod2.MM\nMz",
     "language": "python",
     "metadata": {},
     "outputs": [
      {
       "metadata": {},
       "output_type": "pyout",
       "prompt_number": 17,
       "text": "Matrix([\n[I1 + a1**2*m2 + l1**2*m1, a1*l2*m2*cos(z1 - z2)],\n[   a1*l2*m2*cos(z1 - z2),         I2 + l2**2*m2]])"
      }
     ],
     "prompt_number": 17
    },
    {
     "cell_type": "markdown",
     "metadata": {},
     "source": "---"
    },
    {
     "cell_type": "heading",
     "level": 3,
     "metadata": {},
     "source": "Frage: wie kann man die beiden Massenmatrizen ineinander umrechnen?"
    },
    {
     "cell_type": "markdown",
     "metadata": {},
     "source": "**Variante 1**: Schritt f\u00fcr Schritt: wir nehmen unsere Bewegungsgleichungen (mod1), substituieren die alten $q$ Variablen durch die neuen $z$ Variablen (auch f\u00fcr alle Ableitungen), bilden dann die Jacobi-Matrix bez\u00fcglich $\\ddot z$ und bilden schilie\u00dflich eine Linearkombination der Gleichungen (Zeilen der Matrix), so dass die resultierende Matrix wieder symmetrisch ist."
    },
    {
     "cell_type": "code",
     "collapsed": false,
     "input": "# Transformationsmatrix z = S * q:\nS = sp.Matrix([[1, 0], [1,1]])\nS",
     "language": "python",
     "metadata": {},
     "outputs": [
      {
       "metadata": {},
       "output_type": "pyout",
       "prompt_number": 18,
       "text": "Matrix([\n[1, 0],\n[1, 1]])"
      }
     ],
     "prompt_number": 18
    },
    {
     "cell_type": "markdown",
     "metadata": {},
     "source": "$q$-Koordinaten durch $z$-Koordinaten ersetzen"
    },
    {
     "cell_type": "code",
     "collapsed": false,
     "input": "q_new = S.inv()*mod2.qs\nqd_new = S.inv()*mod2.qds\nqdd_new = S.inv()*mod2.qdds\n\n# Kontrollanzeige:\nst.col_stack(q_new, qd_new, qdd_new)",
     "language": "python",
     "metadata": {},
     "outputs": [
      {
       "metadata": {},
       "output_type": "pyout",
       "prompt_number": 19,
       "text": "Matrix([\n[      z1,         z1_d,          z1_dd],\n[-z1 + z2, -z1_d + z2_d, -z1_dd + z2_dd]])"
      }
     ],
     "prompt_number": 19
    },
    {
     "cell_type": "code",
     "collapsed": false,
     "input": "subslist = zip(mod1.qdds, qdd_new) + zip(mod1.qds, qd_new) + zip(mod1.qs, q_new) \nsubslist",
     "language": "python",
     "metadata": {},
     "outputs": [
      {
       "metadata": {},
       "output_type": "pyout",
       "prompt_number": 20,
       "text": "[(q1_dd, z1_dd),\n (q2_dd, -z1_dd + z2_dd),\n (q1_d, z1_d),\n (q2_d, -z1_d + z2_d),\n (q1, z1),\n (q2, -z1 + z2)]"
      }
     ],
     "prompt_number": 20
    },
    {
     "cell_type": "markdown",
     "metadata": {},
     "source": "tempor\u00e4re Zwischenschritt-Matrix (sie ist noch nicht symmetrisch)"
    },
    {
     "cell_type": "code",
     "collapsed": false,
     "input": "M_tmp = mod1.eq_list.subs(subslist).jacobian(mod2.qdds)\nM_tmp",
     "language": "python",
     "metadata": {},
     "outputs": [
      {
       "metadata": {},
       "output_type": "pyout",
       "prompt_number": 21,
       "text": "Matrix([\n[I1 + l1**2*m1 + m2*(a1**2 + a1*l2*cos(z1 - z2)), I2 + m2*(a1*l2*cos(z1 - z2) + l2**2)],\n[                          a1*l2*m2*cos(z1 - z2),                        I2 + l2**2*m2]])"
      }
     ],
     "prompt_number": 21
    },
    {
     "cell_type": "markdown",
     "metadata": {},
     "source": "Multiplikation von links (=linearkombination der Zeile (also der Gleichungen))"
    },
    {
     "cell_type": "code",
     "collapsed": false,
     "input": "C = sp.Matrix([[1, -1], [0, 1]])",
     "language": "python",
     "metadata": {},
     "outputs": [],
     "prompt_number": 22
    },
    {
     "cell_type": "code",
     "collapsed": false,
     "input": "res = C*M_tmp\nres.simplify()\nres",
     "language": "python",
     "metadata": {},
     "outputs": [
      {
       "metadata": {},
       "output_type": "pyout",
       "prompt_number": 23,
       "text": "Matrix([\n[I1 + a1**2*m2 + l1**2*m1, a1*l2*m2*cos(z1 - z2)],\n[   a1*l2*m2*cos(z1 - z2),         I2 + l2**2*m2]])"
      }
     ],
     "prompt_number": 23
    },
    {
     "cell_type": "code",
     "collapsed": false,
     "input": "res == Mz",
     "language": "python",
     "metadata": {},
     "outputs": [
      {
       "metadata": {},
       "output_type": "pyout",
       "prompt_number": 24,
       "text": "True"
      }
     ],
     "prompt_number": 24
    },
    {
     "cell_type": "markdown",
     "metadata": {},
     "source": "---\nDas klappt offensichtlich\n\n**Variante 2**: (so wollte ich es urspr\u00fcnglich machen):\nWir wissen dass folgende Zusammenhange gelten:\n$$ z = S q$$\n$$ \\ddot z = S \\ddot q$$\n$$ \\ddot q = S^{-1} \\ddot z.$$\n\nDeswegen k\u00f6nnen wir auch schreiben:\n\n$$M \\ddot q + ... = M S^{-1} \\ddot z + ... \\enspace.$$\n\nDiese Matrix k\u00f6nnen wir dann auch von links mit einener Matrix multiplizieren (Linearkombination der Zeilen, also Gleichungen)\nDazu w\u00e4hlt man die *Transponierte* der Matrix auf der rechten Seite. **Hier lag mein Fehler**, weil ich die *Inverse* von $S$ genommen hatte. Ma bekommt\n\n$$\\underbrace{ (S^{-1})^T M S^{-1} }_{\\hat M} \\ddot z + ... \\enspace .$$\n\nDas ist zwar etwas l\u00e4nger zu erkl\u00e4ren aber einfacher zu rechnen."
    },
    {
     "cell_type": "code",
     "collapsed": false,
     "input": "res2 = S.inv().T*Mq*S.inv()\nres2 == Mz",
     "language": "python",
     "metadata": {},
     "outputs": [
      {
       "metadata": {},
       "output_type": "pyout",
       "prompt_number": 25,
       "text": "False"
      }
     ],
     "prompt_number": 25
    },
    {
     "cell_type": "markdown",
     "metadata": {},
     "source": "logisch. Die Massenmatrix h\u00e4ngt ja noch von $q$ bzw. $z$ ab."
    },
    {
     "cell_type": "code",
     "collapsed": false,
     "input": "res2.subs(subslist) == Mz",
     "language": "python",
     "metadata": {},
     "outputs": [
      {
       "metadata": {},
       "output_type": "pyout",
       "prompt_number": 26,
       "text": "True"
      }
     ],
     "prompt_number": 26
    },
    {
     "cell_type": "markdown",
     "metadata": {},
     "source": "Aufl\u00f6sen der Bewegungsgleichungen nach den zweifachen Winkelableitungen"
    },
    {
     "cell_type": "code",
     "collapsed": false,
     "input": "#q1,q2=sp.symbols(\"q1,q2\") # erstmal keine Zeitabh\u00e4ngigkeit",
     "language": "python",
     "metadata": {},
     "outputs": [],
     "prompt_number": 187
    },
    {
     "cell_type": "code",
     "collapsed": false,
     "input": "#externe Kr\u00e4fte einbeziehen ohne Dissipationskr\u00e4fte D*q_d\n#F1 = (m1*l1+m2*a1)*sp.cos(q1)*9.81\n#F2 = m2*l2*sp.cos(q1+q2)*9.81",
     "language": "python",
     "metadata": {},
     "outputs": []
    },
    {
     "cell_type": "code",
     "collapsed": false,
     "input": "#sublistF=zip(FF,[(m1*l1+m2*a1)*sp.cos(q1)*9.81,m2*l2*sp.cos(q1+q2)*9.81])",
     "language": "python",
     "metadata": {},
     "outputs": [],
     "prompt_number": 201
    },
    {
     "cell_type": "code",
     "collapsed": false,
     "input": "eq1 = mod1.eq_list[0]#.subs(sublistF)\neq2 = mod1.eq_list[1]#.subs(sublistF)\neq1",
     "language": "python",
     "metadata": {},
     "outputs": [
      {
       "metadata": {},
       "output_type": "pyout",
       "prompt_number": 215,
       "text": "-F1 + I1*q1_dd + I2*(q1_dd + q2_dd) + k1*q1 + l1**2*m1*q1_dd + m2*(a1**2*q1_dd - 2*a1*l2*q1_d*q2_d*sin(q2) + 2*a1*l2*q1_dd*cos(q2) - a1*l2*q2_d**2*sin(q2) + a1*l2*q2_dd*cos(q2) + l2**2*q1_dd + l2**2*q2_dd)"
      }
     ],
     "prompt_number": 215
    },
    {
     "cell_type": "code",
     "collapsed": false,
     "input": "sol = sp.solve([eq1,eq2],mod1.qdds)\nsol",
     "language": "python",
     "metadata": {},
     "outputs": [
      {
       "metadata": {},
       "output_type": "pyout",
       "prompt_number": 216,
       "text": "{q1_dd: (((-F2 + a1*l2*m2*q1_d**2*sin(q2) + k2*q2)*(I1 + I2 + a1**2*m2 + 2*a1*l2*m2*cos(q2) + l1**2*m1 + l2**2*m2) + (I2 + a1*l2*m2*cos(q2) + l2**2*m2)*(F1 + 2*a1*l2*m2*q1_d*q2_d*sin(q2) + a1*l2*m2*q2_d**2*sin(q2) - k1*q1))*(I2 + a1*l2*m2*cos(q2) + l2**2*m2) + (F1 + 2*a1*l2*m2*q1_d*q2_d*sin(q2) + a1*l2*m2*q2_d**2*sin(q2) - k1*q1)*(I1*I2 + I1*l2**2*m2 + I2*a1**2*m2 + I2*l1**2*m1 + a1**2*l2**2*m2**2*sin(q2)**2 + l1**2*l2**2*m1*m2))/((I1 + I2 + a1**2*m2 + 2*a1*l2*m2*cos(q2) + l1**2*m1 + l2**2*m2)*(I1*I2 + I1*l2**2*m2 + I2*a1**2*m2 + I2*l1**2*m1 + a1**2*l2**2*m2**2*sin(q2)**2 + l1**2*l2**2*m1*m2)),\n q2_dd: -((-F2 + a1*l2*m2*q1_d**2*sin(q2) + k2*q2)*(I1 + I2 + a1**2*m2 + 2*a1*l2*m2*cos(q2) + l1**2*m1 + l2**2*m2) + (I2 + a1*l2*m2*cos(q2) + l2**2*m2)*(F1 + 2*a1*l2*m2*q1_d*q2_d*sin(q2) + a1*l2*m2*q2_d**2*sin(q2) - k1*q1))/(I1*I2 + I1*l2**2*m2 + I2*a1**2*m2 + I2*l1**2*m1 + a1**2*l2**2*m2**2*sin(q2)**2 + l1**2*l2**2*m1*m2)}"
      }
     ],
     "prompt_number": 216
    },
    {
     "cell_type": "code",
     "collapsed": false,
     "input": "#dictionary verwenden um Parameter durch Werte zu ersetzen\nparams_values = {m1:2550, m2:1700, I1:53.125 ,I2:17.354 ,a1:9 ,l1: 4.5 ,l2: 8, k1:0 ,k2:0 }",
     "language": "python",
     "metadata": {},
     "outputs": [],
     "prompt_number": 210
    },
    {
     "cell_type": "code",
     "collapsed": false,
     "input": "q1_dd_expr = sol[mod1.qdds[0]].subs(params_values)\nq2_dd_expr = sol[mod1.qdds[1]].subs(params_values)\n#print q1_dd_expr\n#print q2_dd_expr",
     "language": "python",
     "metadata": {},
     "outputs": [],
     "prompt_number": 217
    },
    {
     "cell_type": "code",
     "collapsed": false,
     "input": "#Umformen zu einer lambda function\nq1_dd_fnc = sp.lambdify([mod1.qs[0],mod1.qs[1], mod1.qds[0],mod1.qds[1],\\\n                         mod1.extforce_list[0],mod1.extforce_list[1]],q1_dd_expr,'numpy')\nq2_dd_fnc = sp.lambdify([mod1.qs[0],mod1.qs[1], mod1.qds[0],mod1.qds[1],\\\n                         mod1.extforce_list[0],mod1.extforce_list[1]],q2_dd_expr,'numpy')",
     "language": "python",
     "metadata": {},
     "outputs": [],
     "prompt_number": 218
    },
    {
     "cell_type": "code",
     "collapsed": false,
     "input": "def force1(q1):\n    return ((m1*l1+m2*a1)*sp.cos(q1)*9.81).subs(params_values)",
     "language": "python",
     "metadata": {},
     "outputs": [],
     "prompt_number": 229
    },
    {
     "cell_type": "code",
     "collapsed": false,
     "input": "def force2(q1,q2):\n    return (m2*l2*sp.cos(q1+q2)*9.81).subs(params_values)",
     "language": "python",
     "metadata": {},
     "outputs": [],
     "prompt_number": 234
    },
    {
     "cell_type": "code",
     "collapsed": false,
     "input": "def get_zd(z,t):    \n    q1, q2, q1_d, q2_d = z\n    f1 = 0#force1(q1)\n    f2 = 0#force2(q1,q2) \n    q1_dd = q1_dd_fnc(q1, q2, q1_d, q2_d,f1,f2)\n    q2_dd = q2_dd_fnc(q1, q2, q1_d, q2_d,f1,f2)\n    print q1_dd\n    #print q2_dd\n    return r_[q1_d,q2_d,q1_dd,q2_dd]",
     "language": "python",
     "metadata": {},
     "outputs": [],
     "prompt_number": 238
    },
    {
     "cell_type": "code",
     "collapsed": false,
     "input": "t = np.linspace(1,80,81)\n\nz0 = r_[pi, 0.25*pi, 0, 0]",
     "language": "python",
     "metadata": {},
     "outputs": [],
     "prompt_number": 240
    },
    {
     "cell_type": "code",
     "collapsed": false,
     "input": "lsg = odeint(get_zd,z0,t)\n#get_zd(z0,0)",
     "language": "python",
     "metadata": {},
     "outputs": [
      {
       "output_type": "stream",
       "stream": "stdout",
       "text": "0.0\n0.0\n0.0\n0.0\n0.0\n0.0\n0.0\n0.0\n0.0\n"
      }
     ],
     "prompt_number": 243
    },
    {
     "cell_type": "code",
     "collapsed": false,
     "input": "fig = plt.figure()\nax = fig.add_subplot(1,1,1)\nax.set_title(\"odeint\")\nax.plot(t,(lsg[:,1]*180/pi),t,(lsg[:,0]*180/pi))\nax.set_xlabel(\"$t$ in s\")\nax.set_ylabel(\"$\\phi_2$\")\nax.legend()              \nplt.show()",
     "language": "python",
     "metadata": {},
     "outputs": [],
     "prompt_number": 242
    },
    {
     "cell_type": "code",
     "collapsed": false,
     "input": "",
     "language": "python",
     "metadata": {},
     "outputs": [],
     "prompt_number": 35
    }
   ],
   "metadata": {}
  }
 ]
}