{
 "metadata": {
  "name": "",
  "signature": "sha256:d38768403e9c7b6740d3ea3854f8f2584aca94fced438601de6063ad0873e7ff"
 },
 "nbformat": 3,
 "nbformat_minor": 0,
 "worksheets": [
  {
   "cells": [
    {
     "cell_type": "code",
     "collapsed": false,
     "input": [
      "import sympy as sp\n",
      "import symb_tools as st\n",
      "import model_tools as mt\n",
      "import numpy as np\n",
      "import pickle\n",
      "\n",
      "np.set_printoptions(linewidth=300, precision=3) # f\u00fcr bessere Darstellung von gr\u00f6\u00dferen 2d-arrays\n",
      "\n",
      "from numpy import r_,pi\n",
      "from scipy.integrate import odeint\n",
      "import pylab as pl\n",
      "import matplotlib.pyplot as plt\n",
      "from IPython import embed as IPS\n",
      "\n",
      "import traj_2dof as traj\n",
      "from parameter_springs import para_g, para_m, para_a, para_k, para_d, para_I\n",
      "\n",
      "from model import mod1"
     ],
     "language": "python",
     "metadata": {},
     "outputs": [
      {
       "output_type": "stream",
       "stream": "stdout",
       "text": [
        "saving parameter\n",
        "read parameters\n",
        "create new model\n",
        "create model by model_tools"
       ]
      },
      {
       "output_type": "stream",
       "stream": "stdout",
       "text": [
        "\n",
        "solving lin equation system"
       ]
      },
      {
       "output_type": "stream",
       "stream": "stdout",
       "text": [
        "\n",
        "..."
       ]
      },
      {
       "output_type": "stream",
       "stream": "stdout",
       "text": [
        "\n",
        "compute lower triangular matrix (Cholesky)\n",
        "calculate determinant and inverse\n",
        "done ... thanks"
       ]
      },
      {
       "output_type": "stream",
       "stream": "stdout",
       "text": [
        "\n",
        "saving model"
       ]
      },
      {
       "output_type": "stream",
       "stream": "stdout",
       "text": [
        "\n"
       ]
      }
     ],
     "prompt_number": 2
    },
    {
     "cell_type": "code",
     "collapsed": false,
     "input": [
      "# Zeit\n",
      "t = sp.Symbol(\"t\")\n",
      "# reduzierte Koordinaten\n",
      "qq = sp.Matrix([sp.Function(\"q\"+np.str(index))(t) for index in range(1,5)])"
     ],
     "language": "python",
     "metadata": {},
     "outputs": [],
     "prompt_number": 77
    },
    {
     "cell_type": "code",
     "collapsed": false,
     "input": [
      "# L\u00e4nge der Balken\n",
      "aa = sp.symbols('a1:%i'%(5))\n",
      "# Koordinate des Schwerpunktes\n",
      "s_Last = sp.Matrix([0, 0])\n",
      "q = 0\n",
      "q_diff = 0\n",
      "for i in range(4):\n",
      "    q = q + qq[i]\n",
      "    q_diff = q_diff + qq[i].diff('t')\n",
      "    s_Last = s_Last + aa[i] * sp.Matrix([sp.cos(q), sp.sin(q)])\n",
      "(s_Last.T*s_Last)[0]"
     ],
     "language": "python",
     "metadata": {},
     "outputs": [
      {
       "metadata": {},
       "output_type": "pyout",
       "prompt_number": 78,
       "text": [
        "(a1*sin(q1(t)) + a2*sin(q1(t) + q2(t)) + a3*sin(q1(t) + q2(t) + q3(t)) + a4*sin(q1(t) + q2(t) + q3(t) + q4(t)))**2 + (a1*cos(q1(t)) + a2*cos(q1(t) + q2(t)) + a3*cos(q1(t) + q2(t) + q3(t)) + a4*cos(q1(t) + q2(t) + q3(t) + q4(t)))**2"
       ]
      }
     ],
     "prompt_number": 78
    },
    {
     "cell_type": "code",
     "collapsed": false,
     "input": [
      "# Masse und Tr\u00e4gheitmoment einer Punktmasse\n",
      "m_Last = sp.Symbol('m')\n",
      "J_Last = m_Last * (s_Last.T*s_Last)[0] #a[3]**2"
     ],
     "language": "python",
     "metadata": {},
     "outputs": [],
     "prompt_number": 90
    },
    {
     "cell_type": "code",
     "collapsed": false,
     "input": [
      "# Kraft ist 0, da die St\u00f6rung durch die Masse am Endeffektor verursacht wird\n",
      "FF = sp.Matrix([sp.zeros(4,1)])"
     ],
     "language": "python",
     "metadata": {},
     "outputs": [],
     "prompt_number": 80
    },
    {
     "cell_type": "code",
     "collapsed": false,
     "input": [
      "# Kinetische Energie\n",
      "T_Last = (J_Last*q_diff**2) / 2 + (m_Last * (s_Last.diff('t').T*s_Last.diff('t'))[0]) / 2"
     ],
     "language": "python",
     "metadata": {},
     "outputs": [],
     "prompt_number": 81
    },
    {
     "cell_type": "code",
     "collapsed": false,
     "input": [
      "# potentiell Koenergie\n",
      "V_Last = m_Last * 9.81 * s_Last[1]"
     ],
     "language": "python",
     "metadata": {},
     "outputs": [],
     "prompt_number": 82
    },
    {
     "cell_type": "code",
     "collapsed": false,
     "input": [
      "# erstelle Modell\n",
      "mod_Last = mt.generate_model(T_Last, V_Last, qq, FF)\n",
      "\n",
      "pdict = {'mod_Last':mod_Last}"
     ],
     "language": "python",
     "metadata": {},
     "outputs": [],
     "prompt_number": 83
    },
    {
     "cell_type": "code",
     "collapsed": false,
     "input": [
      "with open('Lastfehler.npy','w') as pfile:\n",
      "    pickle.dump(pdict, pfile)"
     ],
     "language": "python",
     "metadata": {},
     "outputs": [],
     "prompt_number": 84
    },
    {
     "cell_type": "code",
     "collapsed": false,
     "input": [
      "mod_Last.eq_list=mod_Last.eq_list.subs(zip(a,para_a))"
     ],
     "language": "python",
     "metadata": {},
     "outputs": [],
     "prompt_number": 85
    },
    {
     "cell_type": "code",
     "collapsed": false,
     "input": [
      "# Alle 3 Sekunden f\u00fcr 1 Sekunde die Last aufschalten ...\n",
      "zeit = 30 # in Sekunden\n",
      "if (32%3) <= 1:\n",
      "    m = 100\n",
      "else: \n",
      "    m = 0"
     ],
     "language": "python",
     "metadata": {},
     "outputs": [],
     "prompt_number": 86
    },
    {
     "cell_type": "code",
     "collapsed": false,
     "input": [
      "eq=mod_Last.eq_list.subs(zip('m',[0]))"
     ],
     "language": "python",
     "metadata": {},
     "outputs": [],
     "prompt_number": 87
    },
    {
     "cell_type": "code",
     "collapsed": false,
     "input": [
      "sp.interactive.printing.init_printing(pretty_print=False)"
     ],
     "language": "python",
     "metadata": {},
     "outputs": [],
     "prompt_number": 88
    },
    {
     "cell_type": "code",
     "collapsed": false,
     "input": [
      "T_Last"
     ],
     "language": "python",
     "metadata": {},
     "outputs": [
      {
       "metadata": {},
       "output_type": "pyout",
       "prompt_number": 89,
       "text": [
        "m*((-a1*sin(q1(t))*Derivative(q1(t), t) - a2*(Derivative(q1(t), t) + Derivative(q2(t), t))*sin(q1(t) + q2(t)) - a3*(Derivative(q1(t), t) + Derivative(q2(t), t) + Derivative(q3(t), t))*sin(q1(t) + q2(t) + q3(t)) - a4*(Derivative(q1(t), t) + Derivative(q2(t), t) + Derivative(q3(t), t) + Derivative(q4(t), t))*sin(q1(t) + q2(t) + q3(t) + q4(t)))**2 + (a1*cos(q1(t))*Derivative(q1(t), t) + a2*(Derivative(q1(t), t) + Derivative(q2(t), t))*cos(q1(t) + q2(t)) + a3*(Derivative(q1(t), t) + Derivative(q2(t), t) + Derivative(q3(t), t))*cos(q1(t) + q2(t) + q3(t)) + a4*(Derivative(q1(t), t) + Derivative(q2(t), t) + Derivative(q3(t), t) + Derivative(q4(t), t))*cos(q1(t) + q2(t) + q3(t) + q4(t)))**2)/2"
       ]
      }
     ],
     "prompt_number": 89
    },
    {
     "cell_type": "code",
     "collapsed": false,
     "input": [
      "a,b=sp.symbols('a,b')"
     ],
     "language": "python",
     "metadata": {},
     "outputs": [],
     "prompt_number": 3
    },
    {
     "cell_type": "code",
     "collapsed": false,
     "input": [
      "a**2 + 2*a*b + b**2 == (a+b)**2"
     ],
     "language": "python",
     "metadata": {},
     "outputs": [
      {
       "metadata": {},
       "output_type": "pyout",
       "prompt_number": 4,
       "text": [
        "False"
       ]
      }
     ],
     "prompt_number": 4
    },
    {
     "cell_type": "code",
     "collapsed": false,
     "input": [
      "st.random_equaltest(a**2 + 2*a*b + b**2,(a+b)**2)"
     ],
     "language": "python",
     "metadata": {},
     "outputs": [
      {
       "metadata": {},
       "output_type": "pyout",
       "prompt_number": 5,
       "text": [
        "True"
       ]
      }
     ],
     "prompt_number": 5
    },
    {
     "cell_type": "code",
     "collapsed": false,
     "input": [],
     "language": "python",
     "metadata": {},
     "outputs": []
    }
   ],
   "metadata": {}
  }
 ]
}