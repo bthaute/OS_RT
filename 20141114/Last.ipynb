{
 "metadata": {
  "name": "",
  "signature": "sha256:62bb9645c37aececac6e1470baea7b37d4678737a06bb17d8c492bf70722aec7"
 },
 "nbformat": 3,
 "nbformat_minor": 0,
 "worksheets": [
  {
   "cells": [
    {
     "cell_type": "code",
     "collapsed": false,
     "input": [
      "import sympy as sp\n",
      "import symb_tools as st\n",
      "import model_tools as mt\n",
      "import numpy as np\n",
      "import pickle\n",
      "\n",
      "np.set_printoptions(linewidth=300, precision=3) # f\u00fcr bessere Darstellung von gr\u00f6\u00dferen 2d-arrays\n",
      "\n",
      "from numpy import r_,pi\n",
      "from scipy.integrate import odeint\n",
      "import pylab as pl\n",
      "import matplotlib.pyplot as plt\n",
      "from IPython import embed as IPS\n",
      "\n",
      "import traj_2dof as traj\n",
      "from parameter_springs import para_g, para_m, para_a, para_k, para_d, para_I\n",
      "\n",
      "from model import mod1"
     ],
     "language": "python",
     "metadata": {},
     "outputs": [],
     "prompt_number": 41
    },
    {
     "cell_type": "code",
     "collapsed": false,
     "input": [
      "# Zeit\n",
      "t = sp.Symbol(\"t\")\n",
      "# reduzierte Koordinaten\n",
      "qq = sp.Matrix([sp.Function(\"q\"+np.str(index))(t) for index in range(1,5)])"
     ],
     "language": "python",
     "metadata": {},
     "outputs": [],
     "prompt_number": 34
    },
    {
     "cell_type": "code",
     "collapsed": false,
     "input": [
      "# L\u00e4nge der Balken\n",
      "a = sp.symbols('a1:%i'%(5))\n",
      "# Koordinate des Schwerpunktes\n",
      "s = sp.Matrix([0, 0])\n",
      "q = 0\n",
      "q_diff = 0\n",
      "for i in range(4):\n",
      "    q = q + qq[i]\n",
      "    q_diff = q_diff + qq[i].diff('t')\n",
      "    s = s + a[i] * sp.Matrix([sp.cos(q), sp.sin(q)])"
     ],
     "language": "python",
     "metadata": {},
     "outputs": [],
     "prompt_number": 17
    },
    {
     "cell_type": "code",
     "collapsed": false,
     "input": [
      "# Masse und Tr\u00e4gheitmoment einer Punktmasse\n",
      "m = sp.Symbol('m')\n",
      "J = m * a[3]**2"
     ],
     "language": "python",
     "metadata": {},
     "outputs": [],
     "prompt_number": 18
    },
    {
     "cell_type": "code",
     "collapsed": false,
     "input": [
      "# Kraft ist 0, da die St\u00f6rung durch die Masse am Endeffektor verursacht wird\n",
      "FF = sp.Matrix([sp.zeros(4,1)])"
     ],
     "language": "python",
     "metadata": {},
     "outputs": [],
     "prompt_number": 23
    },
    {
     "cell_type": "code",
     "collapsed": false,
     "input": [
      "# Kinetische Energie\n",
      "T = (J*q_diff**2) / 2 + (m * (s.diff('t').T*s.diff('t'))[0]) / 2"
     ],
     "language": "python",
     "metadata": {},
     "outputs": [],
     "prompt_number": 24
    },
    {
     "cell_type": "code",
     "collapsed": false,
     "input": [
      "# potentiell Koenergie\n",
      "V = m * 9.81 * s[1]"
     ],
     "language": "python",
     "metadata": {},
     "outputs": [],
     "prompt_number": 25
    },
    {
     "cell_type": "code",
     "collapsed": false,
     "input": [
      "# erstelle Modell\n",
      "mod_Last = mt.generate_model(T, V, qq, FF)\n",
      "\n",
      "pdict = {'mod_Last':mod_Last}"
     ],
     "language": "python",
     "metadata": {},
     "outputs": [],
     "prompt_number": 40
    },
    {
     "cell_type": "code",
     "collapsed": false,
     "input": [
      "with open('Lastfehler.npy','w') as pfile:\n",
      "    pickle.dump(pdict, pfile)"
     ],
     "language": "python",
     "metadata": {},
     "outputs": [],
     "prompt_number": 42
    },
    {
     "cell_type": "code",
     "collapsed": false,
     "input": [
      "mod_Last.eq_list=mod_Last.eq_list.subs(zip(a,para_a)).simplify"
     ],
     "language": "python",
     "metadata": {},
     "outputs": [],
     "prompt_number": 69
    },
    {
     "cell_type": "code",
     "collapsed": false,
     "input": [
      "# Alle 3 Sekunden f\u00fcr 1 Sekunde die Last aufschalten ...\n",
      "zeit = 30 # in Sekunden\n",
      "if (32%3) <= 1:\n",
      "    m = 100\n",
      "else: \n",
      "    m = 0"
     ],
     "language": "python",
     "metadata": {},
     "outputs": [
      {
       "output_type": "stream",
       "stream": "stdout",
       "text": [
        "false\n"
       ]
      }
     ],
     "prompt_number": 68
    },
    {
     "cell_type": "code",
     "collapsed": false,
     "input": [],
     "language": "python",
     "metadata": {},
     "outputs": []
    }
   ],
   "metadata": {}
  }
 ]
}