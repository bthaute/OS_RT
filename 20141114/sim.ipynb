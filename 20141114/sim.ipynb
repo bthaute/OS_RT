{
 "metadata": {
  "name": "",
  "signature": "sha256:783849157f56aed49290ac8da65679e6e8e0510f5e93149d0ebbb6519ddd4d6f"
 },
 "nbformat": 3,
 "nbformat_minor": 0,
 "worksheets": [
  {
   "cells": [
    {
     "cell_type": "markdown",
     "metadata": {},
     "source": [
      "Simulation"
     ]
    },
    {
     "cell_type": "code",
     "collapsed": false,
     "input": [
      "import sympy as sp\n",
      "import symb_tools as st\n",
      "import model_tools as mt\n",
      "import numpy as np\n",
      "from numpy import r_,pi\n",
      "from scipy.integrate import odeint\n",
      "import pylab as pl\n",
      "import matplotlib.pyplot as plt\n",
      "from IPython import embed as IPS\n",
      "\n",
      "import traj_2dof as traj\n",
      "from parameter_springs import para_g, para_m, para_a, para_k, para_d, para_I\n",
      "\n",
      "from model import mod1"
     ],
     "language": "python",
     "metadata": {},
     "outputs": [],
     "prompt_number": 36
    },
    {
     "cell_type": "code",
     "collapsed": false,
     "input": [
      "nr_aj = 2  \n",
      "\n",
      "II = sp.Matrix([sp.symbols(\"I1\")])\n",
      "mm = sp.Matrix([sp.symbols(\"m1\")])\n",
      "aa = sp.Matrix([sp.symbols(\"a1\")])\n",
      "kk = sp.Matrix([sp.symbols(\"k1\")])\n",
      "dd = sp.Matrix([sp.symbols(\"d1\")])\n",
      "qq_0 = sp.Matrix([sp.symbols(\"q1_0\")])\n",
      "g = sp.Matrix([sp.Symbol(\"g\")])\n",
      "for index in range(2,2*(nr_aj)+1):\n",
      "    II = st.row_stack(II,sp.Matrix([sp.symbols(\"I\"+np.str(index))]))\n",
      "    mm = st.row_stack(mm,sp.Matrix([sp.symbols(\"m\"+np.str(index))]))\n",
      "    aa = st.row_stack(aa,sp.Matrix([sp.symbols(\"a\"+np.str(index))]))\n",
      "    kk = st.row_stack(kk,sp.Matrix([sp.symbols(\"k\"+np.str(index))]))\n",
      "    dd = st.row_stack(dd,sp.Matrix([sp.symbols(\"d\"+np.str(index))]))\n",
      "    qq_0 = st.row_stack(qq_0,sp.Matrix([sp.symbols(\"q\"+np.str(index)+\"_0\")]))\n"
     ],
     "language": "python",
     "metadata": {},
     "outputs": [],
     "prompt_number": 37
    },
    {
     "cell_type": "markdown",
     "metadata": {},
     "source": [
      "Modellfehler in der Parametrierung"
     ]
    },
    {
     "cell_type": "code",
     "collapsed": false,
     "input": [
      "model_error_on = False\n",
      "if model_error_on:\n",
      "    model_error=0.2*np.random.randn(10,6)+1\n",
      "else:\n",
      "    model_error=np.ones((10,6))\n",
      "    \n",
      "params_values_error = zip(mm,para_m*model_error[:,0]) + zip(II,para_I*model_error[:,1]) + zip(aa,para_a*model_error[:,2]) + zip(kk,para_k*model_error[:,3]) + zip(dd,para_d*model_error[:,4]) + zip(g,para_g*model_error[0,5])\n",
      "params_values = zip(mm,para_m) + zip(II,para_I) + zip(aa,para_a) + zip(kk,para_k) + zip(dd,para_d) + zip(g,para_g)\n"
     ],
     "language": "python",
     "metadata": {},
     "outputs": [],
     "prompt_number": 38
    },
    {
     "cell_type": "markdown",
     "metadata": {},
     "source": [
      "Stelle Modell nach externen Groessen um"
     ]
    },
    {
     "cell_type": "code",
     "collapsed": false,
     "input": [
      "subslist_force=zip(mod1.extforce_list,sp.zeros(mod1.qdds.shape[0],1))\n",
      "sol = mod1.eq_list.subs(subslist_force)\n",
      "FF = sp.Matrix([sol[0].subs(params_values_error)])\n",
      "for index in range(1,nr_aj):\n",
      "    FF = st.row_stack(FF,sp.Matrix([sol[index*2].subs(params_values_error)]))\n"
     ],
     "language": "python",
     "metadata": {},
     "outputs": [],
     "prompt_number": 39
    },
    {
     "cell_type": "markdown",
     "metadata": {},
     "source": [
      "build lambda-functions"
     ]
    },
    {
     "cell_type": "code",
     "collapsed": false,
     "input": [
      "FF_fnc0 =    sp.lambdify([mod1.qs[0],mod1.qs[1], mod1.qs[2],mod1.qs[3], mod1.qds[0],mod1.qds[1],\\\n",
      "                         mod1.qds[2],mod1.qds[3],mod1.qdds[0],mod1.qdds[1],mod1.qdds[2],mod1.qdds[3]],list(FF),'numpy') \n",
      "def FF_fnc(*args):\n",
      "    return st.to_np(FF_fnc0(*args))"
     ],
     "language": "python",
     "metadata": {},
     "outputs": [],
     "prompt_number": 40
    },
    {
     "cell_type": "markdown",
     "metadata": {},
     "source": [
      "alternativer Zugang"
     ]
    },
    {
     "cell_type": "code",
     "collapsed": false,
     "input": [
      "subslist_M = zip(mod1.qdds, sp.zeros(mod1.qdds.shape[0],1))\n",
      "temp = -mod1.eq_list.subs(subslist_M).subs(params_values)\n",
      "Mq_dd_func = sp.lambdify([mod1.qs[0],mod1.qs[1], mod1.qs[2],mod1.qs[3], mod1.qds[0],mod1.qds[1],\\\n",
      "                         mod1.qds[2],mod1.qds[3],mod1.extforce_list[0],mod1.extforce_list[1],\\\n",
      "                         mod1.extforce_list[2],mod1.extforce_list[3]],temp,'numpy')\n",
      "M=mod1.MM.subs(params_values)\n",
      "M_func = sp.lambdify([mod1.qs[0],mod1.qs[1], mod1.qs[2],mod1.qs[3], mod1.qds[0],mod1.qds[1],\\\n",
      "                         mod1.qds[2],mod1.qds[3],mod1.extforce_list[0],mod1.extforce_list[1],\\\n",
      "                         mod1.extforce_list[2],mod1.extforce_list[3]],M,'numpy')\n"
     ],
     "language": "python",
     "metadata": {},
     "outputs": [],
     "prompt_number": 41
    },
    {
     "cell_type": "code",
     "collapsed": false,
     "input": [
      "def calc_F_traj(t):\n",
      "       \n",
      "    states=qq_traj(t)  \n",
      "  \n",
      "    f1 = FF_fnc(states[0],0,states[1],0,states[2],0,states[3],0,states[4],0,states[5],0)[0]\n",
      "    f2 = FF_fnc(states[0],0,states[1],0,states[2],0,states[3],0,states[4],0,states[5],0)[1]\n",
      "     \n",
      "    return f1, f2"
     ],
     "language": "python",
     "metadata": {},
     "outputs": [],
     "prompt_number": 42
    },
    {
     "cell_type": "markdown",
     "metadata": {},
     "source": [
      "# Testzelle\n",
      "w1=qq_traj(2.5)\n",
      "w1[:4].reshape((2,-1))\n",
      "FF_fnc(*([0]*12))\n",
      "sp.Matrix(A)\n",
      "pd_controller(z1,0)"
     ]
    },
    {
     "cell_type": "code",
     "collapsed": false,
     "input": [
      "def pd_controller(z,t):\n",
      "    q1, q2, q3, q4, q1_d, q2_d, q3_d, q4_d = z\n",
      "    \n",
      "    \n",
      "    k=1e7*np.ones((nr_aj,))\n",
      "    states=qq_traj(t)  #sollzustand\n",
      "    \n",
      "    states2=states[:4]\n",
      "    states2=states2.reshape((2,-1))\n",
      "   \n",
      "    # Fehler\n",
      "    e=states2-z[::2].reshape((2,-1))\n",
      "    e=e.T\n",
      "    #man=np.ones((nr_aj,1))\n",
      "    \n",
      "    f_regler=np.dot(e,k)\n",
      "    #f_regler = np.clip(f_regler,-3e5,3e5)\n",
      "    f_steuer=FF_fnc(states[0],0,states[1],0,states[2],0,states[3],0,states[4],0,states[5],0)\n",
      "    #f_steuer = np.clip(f_steuer,-3e5,3e5)\n",
      "    f = f_regler+f_steuer\n",
      "    #f = np.dot(Bk_opt,z)[0::2]+FF_fnc(states[0],0,states[1],0,states[2],0,states[3],0,states[4],0,states[5],0)\n",
      "    return f_regler, f_steuer"
     ],
     "language": "python",
     "metadata": {},
     "outputs": [],
     "prompt_number": 43
    },
    {
     "cell_type": "code",
     "collapsed": false,
     "input": [
      "def get_zd(z,t):\n",
      "    q1, q2, q3, q4, q1_d, q2_d, q3_d, q4_d = z\n",
      "    f1 = 0 #force1(q1)\n",
      "    f2 = 0 #force2(q1,q2)\n",
      "    fr, fv = pd_controller(z,t)\n",
      "    \n",
      "    \n",
      "    # Stellgr\u00f6\u00dfenbegrenzung\n",
      "    #f1 = np.clip(f1,-3e5,3e5)\n",
      "    #f2 = np.clip(f2,-3e5,3e5)\n",
      "    #global f,temp_zd\n",
      "    #if temp_zd:\n",
      "    #    f=np.array([[f1,f2]])\n",
      "    #    temp_zd = False\n",
      "    #else: f = np.concatenate((f,np.array([[f1,f2]])),axis=0)\n",
      "    #q0=r_[pi/3, 0, -pi/2, 0, 0, 0.0, 0,0]\n",
      "    #qq_dd=mod1.A_para.subs(sub_qq_0)*(z-q0).reshape((-1,1))+mod1.B_para.subs(sub_qq_0)*np.array([[f1],[0],[f2],[0]])\n",
      "    if linear: # lineares Modell in Ruhelage\n",
      "        f1, f2 = fr\n",
      "        A_schlange=A   #A_fnc(q1,q2,q3,q4)\n",
      "        B_schlange=B   #B_fnc(q1,q2,q3,q4)\n",
      "        qq_dd=np.dot(A_schlange,z-z1)+np.dot(B_schlange,np.array([f1,0,f2,0]))\n",
      "        return qq_dd\n",
      "    else: # nichtlineares Modell\n",
      "        f1, f2 = fr + fv\n",
      "        rhs_eq = Mq_dd_func(q1, q2, q3,q4, q1_d, q2_d, q3_d, q4_d,f1,0,f2,0)\n",
      "        M_eq = M_func(q1, q2, q3,q4, q1_d, q2_d, q3_d, q4_d,f1,0,f2,0)\n",
      "        qq_dd = M_eq**-1*rhs_eq\n",
      "        return r_[q1_d,q2_d,q3_d,q4_d,qq_dd[0,0],qq_dd[1,0],qq_dd[2,0],qq_dd[3,0]]\n",
      "    "
     ],
     "language": "python",
     "metadata": {},
     "outputs": [],
     "prompt_number": 44
    },
    {
     "cell_type": "markdown",
     "metadata": {},
     "source": [
      "fr, fv = pd_controller(z0,0)\n",
      "f1, f2 = fr + fv\n",
      "qq_dd=np.dot(A,z0)+np.dot(B,np.array([f1,0,f2,0]))\n",
      "fr, fv = pd_controller(z0,0)\n",
      "f1, f2 = fr + fv\n",
      "qq_dd=np.dot(A,qq_dd)+np.dot(B,np.array([f1,0,f2,0]))\n",
      "qq_dd=get_zd(z0,0)\n"
     ]
    },
    {
     "cell_type": "markdown",
     "metadata": {},
     "source": [
      "Simulationseinstellungen"
     ]
    },
    {
     "cell_type": "code",
     "collapsed": false,
     "input": [
      "tt = np.linspace(0,10,1000)\n",
      "\n",
      "error_q11 = 0\n",
      "error_q21 = 0\n",
      "q11_t0 = pi/3 # -pi/4\n",
      "q21_t0 = -pi/2 # pi/4\n",
      "z0 = r_[q11_t0 + error_q11, 0.05, q21_t0 + error_q21, 0, 0, 0, 0, 0]\n",
      "z1 = r_[q11_t0 + error_q11, 0, q21_t0 + error_q21, 0, 0, 0, 0, 0]\n",
      "\n",
      "q1_end = q11_t0 # 3*pi/4\n",
      "q2_end = q21_t0 # pi/2\n",
      "\n",
      "qq_traj=traj.calc_traj(tt[0],tt[-1]/2,q11_t0,q1_end,q21_t0,q2_end)\n",
      "q0=r_[pi/3, 0, -pi/2, 0, 0, 0, 0, 0]"
     ],
     "language": "python",
     "metadata": {},
     "outputs": [],
     "prompt_number": 45
    },
    {
     "cell_type": "markdown",
     "metadata": {},
     "source": [
      "Berechnungen f\u00fcr lineares Modell"
     ]
    },
    {
     "cell_type": "code",
     "collapsed": false,
     "input": [
      "import pickle\n",
      "if 0: \n",
      "    sub_qq_0=zip(['q1_0'],[q11_t0])+zip(['q2_0'],[0])+zip(['q3_0'],[q21_t0])+zip(['q4_0'],[0])\n",
      "    #A=st.to_np(mod1.A.subs(params_values).subs(sub_qq_0))\n",
      "    A=mod1.A.subs(params_values)\n",
      "    A=A.subs(sub_qq_0)\n",
      "    A=st.to_np(A)\n",
      "    #A_fnc = sp.lambdify(['q1_0','q2_0','q3_0','q4_0'],A,'numpy')\n",
      "    #B=st.to_np(mod1.B.subs(params_values).subs(sub_qq_0))\n",
      "    B=mod1.B.subs(params_values)\n",
      "    B=B.subs(sub_qq_0)\n",
      "    B=st.to_np(B)\n",
      "    pdict={'A':A,'B':B}\n",
      "    #B_fnc = sp.lambdify(['q1_0','q2_0','q3_0','q4_0'],B,'numpy')\n",
      "    with open('A_lin2.pcl', \"w\") as pfile:\n",
      "        pickle.dump(pdict, pfile)\n",
      "else: \n",
      "    with open('A_lin2.pcl', \"r\") as pfile:\n",
      "        pdict = pickle.load(pfile)\n",
      "    A, B = pdict['A'], pdict['B']"
     ],
     "language": "python",
     "metadata": {},
     "outputs": [],
     "prompt_number": 46
    },
    {
     "cell_type": "markdown",
     "metadata": {},
     "source": [
      "import pycontroltools.linearcontrol.robust_poleplacement as opt\n",
      "eig = [-1,-2,-3,-4,-5,-6,-7,-8]\n",
      "Bk_opt = opt.opt_place_MI(A, B, eig)"
     ]
    },
    {
     "cell_type": "code",
     "collapsed": false,
     "input": [
      "# Einbetten von Graphen direkt in den Browser\n",
      "%matplotlib inline "
     ],
     "language": "python",
     "metadata": {},
     "outputs": [],
     "prompt_number": 47
    },
    {
     "cell_type": "code",
     "collapsed": false,
     "input": [
      "print \"simulate\"\n",
      "linear = 1\n",
      "lsg = odeint(get_zd,z0,tt)\n",
      "\n",
      "# Zeit mitspeichern\n",
      "lsg2 = np.concatenate( (tt.reshape(-1, 1) , lsg), axis=1)\n"
     ],
     "language": "python",
     "metadata": {},
     "outputs": [
      {
       "output_type": "stream",
       "stream": "stdout",
       "text": [
        "simulate\n"
       ]
      }
     ],
     "prompt_number": 48
    },
    {
     "cell_type": "code",
     "collapsed": false,
     "input": [
      "deg=180/pi\n",
      "fig = plt.figure(1)\n",
      "ax = fig.add_subplot(1,1,1)\n",
      "ax.set_title(\"odeint\")\n",
      "#ax.plot(tt[:],(lsg[:,2]), label= r\"$q_3$\")\n",
      "#ax.plot(tt[:], (lsg[:,0]), label= r\"$q_1$\")\n",
      "ax.plot(tt[:],(lsg[:,1])*deg, label= r\"$q_2$\")\n",
      "ax.plot(tt[:],(lsg[:,3])*deg, label= r\"$q_4$\")\n",
      "ax.set_xlabel(\"$t$ in s\")\n",
      "ax.set_ylabel(\"$\\phi_2$\")\n",
      "ax.legend()\n",
      "plt.show()\n",
      "#np.save('lsg_outfile_linear_q1_error05',lsg2)"
     ],
     "language": "python",
     "metadata": {},
     "outputs": [
      {
       "metadata": {},
       "output_type": "display_data",
       "png": "[encoded data removed]",
       "text": [
        "<matplotlib.figure.Figure at 0x7f10221692d0>"
       ]
      }
     ],
     "prompt_number": 65
    },
    {
     "cell_type": "code",
     "collapsed": false,
     "input": [
      "# Fehler\n",
      "\n",
      "qq_soll = qq_traj(tt)\n",
      "e1 = lsg2[:,1]-qq_soll[:,0]\n",
      "e1_d = lsg2[:,5]-qq_soll[:,2]\n",
      "e2 = lsg2[:,3]-qq_soll[:,1]\n",
      "e2_d = lsg2[:,7]-qq_soll[:,3]\n",
      "\n",
      "fig2 = plt.figure(2)\n",
      "a1=fig2.add_subplot(2,2,1)\n",
      "a1.set_title('e1')\n",
      "a1.plot(tt,e1*deg)\n",
      "a2=fig2.add_subplot(2,2,2)\n",
      "a2.set_title('e1_d')\n",
      "a2.plot(tt,e1_d*deg)\n",
      "a3=fig2.add_subplot(2,2,3)\n",
      "a3.set_title('e2')\n",
      "a3.plot(tt,e2*deg)\n",
      "a4=fig2.add_subplot(2,2,4)\n",
      "a4.set_title('e2_d')\n",
      "a4.plot(tt,e2_d*deg)\n",
      "plt.show()"
     ],
     "language": "python",
     "metadata": {},
     "outputs": [
      {
       "metadata": {},
       "output_type": "display_data",
       "png": "[encoded data removed]",
       "text": [
        "<matplotlib.figure.Figure at 0x7f10229efa90>"
       ]
      }
     ],
     "prompt_number": 50
    },
    {
     "cell_type": "code",
     "collapsed": false,
     "input": [
      "def control_effort(lsg2):\n",
      "    \n",
      "    ti=lsg2[:,0]\n",
      "    \n",
      "    for schritt in range(len(lsg2)):\n",
      "        if schritt==0:\n",
      "            f_contr = np.array([pd_controller(lsg2[schritt,1:],lsg2[schritt,0])[0]]) \n",
      "            f_feedforw = np.array([pd_controller(lsg2[schritt,1:],lsg2[schritt,0])[1]])\n",
      "        else:\n",
      "            f_regler, f_steuer = pd_controller(lsg2[schritt,1:],lsg2[schritt,0])\n",
      "            f_contr = np.concatenate((f_contr, np.array([f_regler])), axis=0)\n",
      "            f_feedforw = np.concatenate((f_feedforw, np.array([f_steuer])), axis=0)\n",
      "        \n",
      "    fig3 = plt.figure(3)\n",
      "    ay = fig3.add_subplot(1,2,1)\n",
      "    ay.set_title(\"Regler, Vorsteueuerung: q1\")\n",
      "    ay.plot(ti,f_contr[:,0], label= r\"f_contr q1\" )\n",
      "    ay.plot(ti,f_feedforw[:,0], label= r\"f_feedfor q1\")\n",
      "    ay.set_xlabel(\"$t$ in s\")\n",
      "    ay.set_ylabel(\"$M$\")\n",
      "    ay.legend()\n",
      "    az = fig3.add_subplot(1,2,2)\n",
      "    az.set_title(\"Regler, Vorsteueuerung: q2\")\n",
      "    az.plot(ti,f_contr[:,1], label= r\"f_contr q2\" )\n",
      "    az.plot(ti,f_feedforw[:,1], label= r\"f_feedfor q2\")\n",
      "    az.set_xlabel(\"$t$ in s\")\n",
      "    az.set_ylabel(\"$M$\")        \n",
      "    az.legend()\n",
      "    plt.show()\n",
      "    return f_contr,f_feedforw\n",
      "\n",
      "f_contr,f_feedforw=control_effort(lsg2)"
     ],
     "language": "python",
     "metadata": {},
     "outputs": [
      {
       "metadata": {},
       "output_type": "display_data",
       "png": "[encoded data removed]",
       "text": [
        "<matplotlib.figure.Figure at 0x7f102202efd0>"
       ]
      }
     ],
     "prompt_number": 51
    },
    {
     "cell_type": "code",
     "collapsed": false,
     "input": [
      "f_feedforw = np.array([pd_controller(z0,0)[1]])\n",
      "f_feedforw"
     ],
     "language": "python",
     "metadata": {},
     "outputs": [
      {
       "metadata": {},
       "output_type": "pyout",
       "prompt_number": 52,
       "text": [
        "array([[ 189037.62145195,   57751.09457695]])"
       ]
      }
     ],
     "prompt_number": 52
    },
    {
     "cell_type": "code",
     "collapsed": false,
     "input": [
      "np.save('lsg_outfile',lsg2)"
     ],
     "language": "python",
     "metadata": {},
     "outputs": [],
     "prompt_number": 53
    },
    {
     "cell_type": "code",
     "collapsed": false,
     "input": [
      "a = sp.Matrix(A)\n",
      "b  = sp.Matrix(B)\n",
      "r = [a**i*b for i in range(8)]\n",
      "Q = st.col_stack(*r)"
     ],
     "language": "python",
     "metadata": {},
     "outputs": [],
     "prompt_number": 54
    },
    {
     "cell_type": "code",
     "collapsed": false,
     "input": [
      "Q.rank()"
     ],
     "language": "python",
     "metadata": {},
     "outputs": [
      {
       "metadata": {},
       "output_type": "pyout",
       "prompt_number": 55,
       "text": [
        "8"
       ]
      }
     ],
     "prompt_number": 55
    },
    {
     "cell_type": "code",
     "collapsed": false,
     "input": [
      "Q1 = st.to_np(Q)"
     ],
     "language": "python",
     "metadata": {},
     "outputs": [],
     "prompt_number": 56
    },
    {
     "cell_type": "code",
     "collapsed": false,
     "input": [
      "np.linalg.svd(Q1, 1, 0)"
     ],
     "language": "python",
     "metadata": {},
     "outputs": [
      {
       "metadata": {},
       "output_type": "pyout",
       "prompt_number": 57,
       "text": [
        "array([  1.60825410e+07,   1.58646187e+07,   5.43626362e+06,   5.40361866e+06,   3.36380409e-05,   3.36372468e-05,   1.05000834e-05,   1.04997747e-05])"
       ]
      }
     ],
     "prompt_number": 57
    },
    {
     "cell_type": "code",
     "collapsed": false,
     "input": [
      "np.linalg.eigvals(A)"
     ],
     "language": "python",
     "metadata": {},
     "outputs": [
      {
       "metadata": {},
       "output_type": "pyout",
       "prompt_number": 58,
       "text": [
        "array([ -1.72310323e-03+58.72357881j,  -1.72310323e-03-58.72357881j,  -7.35731708e-04+54.1744193j ,  -7.35731708e-04-54.1744193j ,   1.01770539e+00 +0.j        ,  -1.01770539e+00 +0.j        ,  -1.09592335e-11 +0.87955383j,  -1.09592335e-11 -0.87955383j])"
       ]
      }
     ],
     "prompt_number": 58
    },
    {
     "cell_type": "code",
     "collapsed": false,
     "input": [
      "A"
     ],
     "language": "python",
     "metadata": {},
     "outputs": [
      {
       "metadata": {},
       "output_type": "pyout",
       "prompt_number": 59,
       "text": [
        "array([[  0.00000000e+00,   0.00000000e+00,   0.00000000e+00,   0.00000000e+00,   1.00000000e+00,   0.00000000e+00,   0.00000000e+00,   0.00000000e+00],\n",
        "       [  0.00000000e+00,   0.00000000e+00,   0.00000000e+00,   0.00000000e+00,   0.00000000e+00,   1.00000000e+00,   0.00000000e+00,   0.00000000e+00],\n",
        "       [  0.00000000e+00,   0.00000000e+00,   0.00000000e+00,   0.00000000e+00,   0.00000000e+00,   0.00000000e+00,   1.00000000e+00,   0.00000000e+00],\n",
        "       [  0.00000000e+00,   0.00000000e+00,   0.00000000e+00,   0.00000000e+00,   0.00000000e+00,   0.00000000e+00,   0.00000000e+00,   1.00000000e+00],\n",
        "       [  1.74941277e+00,   1.29559347e+03,   7.54951657e-15,   1.77635684e-15,   0.00000000e+00,   6.49213713e-04,   0.00000000e+00,   0.00000000e+00],\n",
        "       [ -1.61766014e+00,  -2.93558140e+03,  -4.44089210e-15,  -1.11022302e-15,   0.00000000e+00,  -1.47146343e-03,   0.00000000e+00,   0.00000000e+00],\n",
        "       [ -1.26803582e+00,   1.63885164e+03,  -1.13628319e+00,   1.17982087e+03,   0.00000000e+00,   8.22249717e-04,   0.00000000e+00,   1.17936763e-03],\n",
        "       [  1.05968153e+00,   1.05968153e+00,   1.05968153e+00,  -3.44809604e+03,   0.00000000e+00,   3.34934701e-18,   0.00000000e+00,  -3.44620648e-03]])"
       ]
      }
     ],
     "prompt_number": 59
    },
    {
     "cell_type": "code",
     "collapsed": false,
     "input": [
      "B"
     ],
     "language": "python",
     "metadata": {},
     "outputs": [
      {
       "metadata": {},
       "output_type": "pyout",
       "prompt_number": 60,
       "text": [
        "array([[  0.00000000e+00,   0.00000000e+00,   0.00000000e+00,   0.00000000e+00],\n",
        "       [  0.00000000e+00,   0.00000000e+00,   0.00000000e+00,   0.00000000e+00],\n",
        "       [  0.00000000e+00,   0.00000000e+00,   0.00000000e+00,   0.00000000e+00],\n",
        "       [  0.00000000e+00,   0.00000000e+00,   0.00000000e+00,   0.00000000e+00],\n",
        "       [  3.31981038e-05,  -6.49213713e-05,   3.17232674e-05,   0.00000000e+00],\n",
        "       [ -6.49213713e-05,   1.47146343e-04,  -8.22249717e-05,   0.00000000e+00],\n",
        "       [  3.17232674e-05,  -8.22249717e-05,   1.14064907e-04,  -1.17936763e-04],\n",
        "       [  1.25600513e-19,  -3.34934701e-19,  -1.17936763e-04,   3.44620648e-04]])"
       ]
      }
     ],
     "prompt_number": 60
    },
    {
     "cell_type": "code",
     "collapsed": false,
     "input": [
      "A_neu=np.array([[  0.000e+00,   0.000e+00,   0.000e+00,   0.000e+00,   0.000e+00,   0.000e+00,   0.000e+00,   0.000e+00],\n",
      "       [  0.000e+00,   0.000e+00,   0.000e+00,   0.000e+00,   0.000e+00,   0.000e+00,   0.000e+00,   0.000e+00],\n",
      "       [  0.000e+00,   0.000e+00,   0.000e+00,   0.000e+00,   0.000e+00,   0.000e+00,   0.000e+00,   0.000e+00],\n",
      "       [  0.000e+00,   0.000e+00,   0.000e+00,   0.000e+00,   0.000e+00,   0.000e+00,   0.000e+00,   0.000e+00],\n",
      "       [ -4.530e-03,   4.388e-01,   4.899e-03,  -1.733e+00,   0.000e+00,   4.520e-09,   0.000e+00,  -1.733e-06],\n",
      "       [  1.344e-02,  -4.945e-01,  -9.563e-03,   3.892e+00,   0.000e+00,   4.185e-07,   0.000e+00,   3.892e-06],\n",
      "       [ -8.881e-03,  -7.409e+00,   1.462e-02,  -1.994e+00,   0.000e+00,  -3.837e-06,   0.000e+00,  -2.536e-06],\n",
      "       [ -3.646e-04,   7.760e+00,  -5.060e-03,   1.252e-01,   0.000e+00,   3.892e-06,   0.000e+00,   2.130e-07]])\n",
      "B_neu=np.array([[  0.000e+00,   0.000e+00],\n",
      "       [  0.000e+00,   0.000e+00],\n",
      "       [  0.000e+00,   0.000e+00],\n",
      "       [  0.000e+00,   0.000e+00],\n",
      "       [  3.320e-05,   3.191e-05],\n",
      "       [ -6.492e-05,  -8.260e-05],\n",
      "       [  3.191e-05,   1.144e-04],\n",
      "       [ -1.733e-07,  -1.182e-04]])"
     ],
     "language": "python",
     "metadata": {},
     "outputs": [],
     "prompt_number": 66
    },
    {
     "cell_type": "code",
     "collapsed": false,
     "input": [],
     "language": "python",
     "metadata": {},
     "outputs": [],
     "prompt_number": 72
    },
    {
     "cell_type": "markdown",
     "metadata": {},
     "source": [
      "$\\dot{\\vec{x}} = A \\vec{x} + B \\vec{u}$\n",
      "\n",
      "in unserem Fall\n",
      "\n",
      "$\\dot{\\vec{x}}_{1,2,3,4}=\\vec{x}_{5,6,7,8}$\n",
      "\n",
      "das hei\u00dft wir k\u00f6nnen das \u00fcbrige System folgenderma\u00dfen umstellen\n",
      "\n",
      "$\\dot{\\vec{x}}[5:8]=A[5:8,:] \\vec{x} + B[5:,:]\\vec{u}$\n",
      "\n",
      "naja B hat nicht vollen Rang, das zu l\u00f6sende lineare Gleichungssystem hat trotzdem eine L\u00f6sung bei Anwenden der Pseudoinverse ..."
     ]
    },
    {
     "cell_type": "code",
     "collapsed": false,
     "input": [
      "Bstern = B_neu[:,:]\n",
      "np.rank(Bstern)\n",
      "#np.linalg.det(Bstern)"
     ],
     "language": "python",
     "metadata": {},
     "outputs": [
      {
       "metadata": {},
       "output_type": "pyout",
       "prompt_number": 79,
       "text": [
        "2"
       ]
      }
     ],
     "prompt_number": 79
    },
    {
     "cell_type": "code",
     "collapsed": false,
     "input": [
      "b  = sp.Matrix(B_neu)\n",
      "b_inv = (b.T* b)**-1 * b.T \n",
      "b_inv = st.to_np(b_inv)\n",
      "(b.T* b)**-1* b.T"
     ],
     "language": "python",
     "metadata": {},
     "outputs": [
      {
       "metadata": {},
       "output_type": "pyout",
       "prompt_number": 85,
       "text": [
        "Matrix([\n",
        "[0, 0, 0, 0,  7016.80474123627, -12010.6600900897, -343.615625953895,  9954.96730224309],\n",
        "[0, 0, 0, 0, -1114.88791127485,  1106.63405393988,  3377.34569177925, -6265.78425520024]])"
       ]
      }
     ],
     "prompt_number": 85
    },
    {
     "cell_type": "markdown",
     "metadata": {},
     "source": [
      "$\\vec{u} = B_{reduz}^{-1}(\\ddot{\\vec{q}}-A_{reduz}\\vec{q})$\n",
      "\n",
      "$\\ddot{\\vec{q}}=\\vec{0}$"
     ]
    },
    {
     "cell_type": "code",
     "collapsed": false,
     "input": [
      "z1=np.array([  1.047e+00,  -5.481e-03,  -1.571e+00,  -1.438e-03,   0.000e+00,   0.000e+00,   0.000e+00,   0.000e+00])\n",
      "a_redu = A_neu[:,:]\n",
      "a_reduq = np.dot(a_redu,z1)"
     ],
     "language": "python",
     "metadata": {},
     "outputs": [],
     "prompt_number": 86
    },
    {
     "cell_type": "code",
     "collapsed": false,
     "input": [
      "-np.dot(b_inv, a_reduq)"
     ],
     "language": "python",
     "metadata": {},
     "outputs": [
      {
       "metadata": {},
       "output_type": "pyout",
       "prompt_number": 87,
       "text": [
        "array([ 755.17831688, -300.84532932])"
       ]
      }
     ],
     "prompt_number": 87
    },
    {
     "cell_type": "code",
     "collapsed": false,
     "input": [],
     "language": "python",
     "metadata": {},
     "outputs": [],
     "prompt_number": 64
    }
   ],
   "metadata": {}
  }
 ]
}