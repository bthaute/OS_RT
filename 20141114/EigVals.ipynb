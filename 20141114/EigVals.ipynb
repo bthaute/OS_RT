{
 "metadata": {
  "name": "",
  "signature": "sha256:fc493e1f6e3e4873f86d6f1b56d0de6d9068a1b02580bd30507ef8674fdf245f"
 },
 "nbformat": 3,
 "nbformat_minor": 0,
 "worksheets": [
  {
   "cells": [
    {
     "cell_type": "markdown",
     "metadata": {},
     "source": [
      "#Eigenwerte der Systemmatrix f\u00fcr 2 Ausleger"
     ]
    },
    {
     "cell_type": "code",
     "collapsed": false,
     "input": [
      "import sympy as sp\n",
      "import numpy as np\n",
      "import symb_tools as st\n",
      "from numpy import r_,pi\n",
      "import pylab as pl\n",
      "from model import mod1\n",
      "from parameter_springs import para_g, para_m, para_a, para_k, para_d, para_I"
     ],
     "language": "python",
     "metadata": {},
     "outputs": [],
     "prompt_number": 18
    },
    {
     "cell_type": "markdown",
     "metadata": {},
     "source": [
      "Matrix A importieren"
     ]
    },
    {
     "cell_type": "code",
     "collapsed": false,
     "input": [
      "A=mod1.A"
     ],
     "language": "python",
     "metadata": {},
     "outputs": [],
     "prompt_number": 19
    },
    {
     "cell_type": "code",
     "collapsed": false,
     "input": [
      "nr_aj = 2  \n",
      "\n",
      "II = sp.Matrix([sp.symbols(\"I1\")])\n",
      "mm = sp.Matrix([sp.symbols(\"m1\")])\n",
      "aa = sp.Matrix([sp.symbols(\"a1\")])\n",
      "kk = sp.Matrix([sp.symbols(\"k1\")])\n",
      "dd = sp.Matrix([sp.symbols(\"d1\")])\n",
      "qq_0 = sp.Matrix([sp.symbols(\"q1_0\")])\n",
      "g = sp.Matrix([sp.Symbol(\"g\")])\n",
      "for index in range(2,2*(nr_aj)+1):\n",
      "    II = st.row_stack(II,sp.Matrix([sp.symbols(\"I\"+np.str(index))]))\n",
      "    mm = st.row_stack(mm,sp.Matrix([sp.symbols(\"m\"+np.str(index))]))\n",
      "    aa = st.row_stack(aa,sp.Matrix([sp.symbols(\"a\"+np.str(index))]))\n",
      "    kk = st.row_stack(kk,sp.Matrix([sp.symbols(\"k\"+np.str(index))]))\n",
      "    dd = st.row_stack(dd,sp.Matrix([sp.symbols(\"d\"+np.str(index))]))\n",
      "    qq_0 = st.row_stack(qq_0,sp.Matrix([sp.symbols(\"q\"+np.str(index)+\"_0\")]))"
     ],
     "language": "python",
     "metadata": {},
     "outputs": [],
     "prompt_number": 20
    },
    {
     "cell_type": "markdown",
     "metadata": {},
     "source": [
      "Lambda Funktion erstellen zur Auswertung der linearisierten Systemmatrix an ihrer Entwicklungsstelle"
     ]
    },
    {
     "cell_type": "code",
     "collapsed": false,
     "input": [
      "params_values = zip(mm,para_m) + zip(II,para_I) + zip(aa,para_a) + zip(kk,para_k) + zip(dd,para_d) + zip(g,para_g)\n",
      "A=mod1.A.subs(params_values)\n",
      "sub_qq_0=zip(['q2_0'],[0])+zip(['q4_0'],[0])\n",
      "A=A.subs(sub_qq_0)"
     ],
     "language": "python",
     "metadata": {},
     "outputs": [],
     "prompt_number": 21
    },
    {
     "cell_type": "code",
     "collapsed": false,
     "input": [
      "import pickle\n",
      "pdict={'A':A}\n",
      "with open('A_lin.pcl', \"w\") as pfile:\n",
      "        pickle.dump(pdict, pfile)"
     ],
     "language": "python",
     "metadata": {},
     "outputs": [],
     "prompt_number": 23
    },
    {
     "cell_type": "code",
     "collapsed": false,
     "input": [
      "import pickle\n",
      "with open('A_lin.pcl', \"r\") as pfile:\n",
      "        pickle.load(pdict, pfile)"
     ],
     "language": "python",
     "metadata": {},
     "outputs": []
    },
    {
     "cell_type": "code",
     "collapsed": false,
     "input": [],
     "language": "python",
     "metadata": {},
     "outputs": []
    },
    {
     "cell_type": "code",
     "collapsed": false,
     "input": [],
     "language": "python",
     "metadata": {},
     "outputs": []
    },
    {
     "cell_type": "code",
     "collapsed": false,
     "input": [
      "A_fnc = sp.lambdify(['q1_0','q2_0','q3_0','q4_0'],A,'numpy')"
     ],
     "language": "python",
     "metadata": {},
     "outputs": []
    },
    {
     "cell_type": "markdown",
     "metadata": {},
     "source": [
      "Matrizen in einem zweidimensionalen array $\\rightarrow$ 4-dim. array (Test)"
     ]
    },
    {
     "cell_type": "code",
     "collapsed": false,
     "input": [
      "EW=np.array([[[[1,2],[3,4]],[[5,6],[7,8]]],[[[9,10],[11,12]],[[13,14],[15,16]]]])\n",
      "EW"
     ],
     "language": "python",
     "metadata": {},
     "outputs": [
      {
       "metadata": {},
       "output_type": "pyout",
       "prompt_number": 36,
       "text": [
        "array([[[[ 1,  2],\n",
        "         [ 3,  4]],\n",
        "\n",
        "        [[ 5,  6],\n",
        "         [ 7,  8]]],\n",
        "\n",
        "\n",
        "       [[[ 9, 10],\n",
        "         [11, 12]],\n",
        "\n",
        "        [[13, 14],\n",
        "         [15, 16]]]])"
       ]
      }
     ],
     "prompt_number": 36
    },
    {
     "cell_type": "code",
     "collapsed": false,
     "input": [
      "EW[0,1,1,0] #Matrix(0,1),Element(1,0)"
     ],
     "language": "python",
     "metadata": {},
     "outputs": [
      {
       "metadata": {},
       "output_type": "pyout",
       "prompt_number": 37,
       "text": [
        "7"
       ]
      }
     ],
     "prompt_number": 37
    },
    {
     "cell_type": "markdown",
     "metadata": {},
     "source": [
      "Im Arbeitspunkt sind Winkel unaktuierter Gelenke Null $\\rightarrow$ q2=q4=0 "
     ]
    },
    {
     "cell_type": "code",
     "collapsed": false,
     "input": [
      "deg=pi/180\n",
      "SysEig = np.zeros((360, 360, 8))"
     ],
     "language": "python",
     "metadata": {},
     "outputs": [],
     "prompt_number": 90
    },
    {
     "cell_type": "code",
     "collapsed": false,
     "input": [
      "import time"
     ],
     "language": "python",
     "metadata": {},
     "outputs": [],
     "prompt_number": 85
    },
    {
     "cell_type": "code",
     "collapsed": false,
     "input": [
      "if 0:\n",
      "    tic=time.time()\n",
      "    for q1 in range(0,360):\n",
      "        for q3 in range(0,360):\n",
      "            SysEig[q1,q3,:]=np.linalg.eigvals(A_fnc(q1*deg,0,q3*deg,0))\n",
      "    toc=time.time()\n",
      "    toc-tic"
     ],
     "language": "python",
     "metadata": {},
     "outputs": [],
     "prompt_number": 8
    },
    {
     "cell_type": "code",
     "collapsed": false,
     "input": [
      "np.save('EigVals_outfile',SysEig)\n",
      "np.linalg.eigvals(A_fnc(0*deg,0,0*deg,0))"
     ],
     "language": "python",
     "metadata": {},
     "outputs": [
      {
       "metadata": {},
       "output_type": "pyout",
       "prompt_number": 70,
       "text": [
        "array([  0.00000000e+00,   0.00000000e+00,   0.00000000e+00,   0.00000000e+00,  -1.05472840e+05,  -1.15638038e+04,  -4.99999867e-07,  -1.00000000e-06])"
       ]
      }
     ],
     "prompt_number": 70
    },
    {
     "cell_type": "code",
     "collapsed": false,
     "input": [
      "%matplotlib inline"
     ],
     "language": "python",
     "metadata": {},
     "outputs": [],
     "prompt_number": 9
    },
    {
     "cell_type": "code",
     "collapsed": false,
     "input": [
      "import time\n",
      "tic=time.time()\n",
      "SysEig[q1,q3,:]=np.linalg.eigvals(A_fnc(300*deg,0,300*deg,0))\n",
      "toc=time.time()\n",
      "toc-tic"
     ],
     "language": "python",
     "metadata": {},
     "outputs": [
      {
       "metadata": {},
       "output_type": "pyout",
       "prompt_number": 77,
       "text": [
        "0.05154599999968923"
       ]
      }
     ],
     "prompt_number": 77
    },
    {
     "cell_type": "code",
     "collapsed": false,
     "input": [
      "90**2*0.06/60"
     ],
     "language": "python",
     "metadata": {},
     "outputs": [
      {
       "metadata": {},
       "output_type": "pyout",
       "prompt_number": 82,
       "text": [
        "8.1"
       ]
      }
     ],
     "prompt_number": 82
    },
    {
     "cell_type": "code",
     "collapsed": false,
     "input": [
      "SysEig[0,0,:]"
     ],
     "language": "python",
     "metadata": {},
     "outputs": [
      {
       "metadata": {},
       "output_type": "pyout",
       "prompt_number": 83,
       "text": [
        "array([  0.00000000e+00,   0.00000000e+00,   0.00000000e+00,   0.00000000e+00,  -1.05472840e+05,  -1.15638038e+04,  -4.99999867e-07,  -1.00000000e-06])"
       ]
      }
     ],
     "prompt_number": 83
    },
    {
     "cell_type": "code",
     "collapsed": false,
     "input": [
      "332.33/60"
     ],
     "language": "python",
     "metadata": {},
     "outputs": [
      {
       "metadata": {},
       "output_type": "pyout",
       "prompt_number": 88,
       "text": [
        "5.538833333333333"
       ]
      }
     ],
     "prompt_number": 88
    },
    {
     "cell_type": "code",
     "collapsed": false,
     "input": [
      "for q1 in range(0,3):\n",
      "    print q1"
     ],
     "language": "python",
     "metadata": {},
     "outputs": [
      {
       "output_type": "stream",
       "stream": "stdout",
       "text": [
        "0\n",
        "1\n",
        "2\n"
       ]
      }
     ],
     "prompt_number": 89
    },
    {
     "cell_type": "code",
     "collapsed": false,
     "input": [
      "t1=time.localtime()"
     ],
     "language": "python",
     "metadata": {},
     "outputs": [],
     "prompt_number": 92
    },
    {
     "cell_type": "code",
     "collapsed": false,
     "input": [
      "t2=time.localtime()"
     ],
     "language": "python",
     "metadata": {},
     "outputs": [],
     "prompt_number": 93
    },
    {
     "cell_type": "code",
     "collapsed": false,
     "input": [
      "t2-t1"
     ],
     "language": "python",
     "metadata": {},
     "outputs": [
      {
       "ename": "TypeError",
       "evalue": "unsupported operand type(s) for -: 'time.struct_time' and 'time.struct_time'",
       "output_type": "pyerr",
       "traceback": [
        "\u001b[1;31m---------------------------------------------------------------------------\u001b[0m\n\u001b[1;31mTypeError\u001b[0m                                 Traceback (most recent call last)",
        "\u001b[1;32m<ipython-input-94-838f44954e98>\u001b[0m in \u001b[0;36m<module>\u001b[1;34m()\u001b[0m\n\u001b[1;32m----> 1\u001b[1;33m \u001b[0mt2\u001b[0m\u001b[1;33m-\u001b[0m\u001b[0mt1\u001b[0m\u001b[1;33m\u001b[0m\u001b[0m\n\u001b[0m",
        "\u001b[1;31mTypeError\u001b[0m: unsupported operand type(s) for -: 'time.struct_time' and 'time.struct_time'"
       ]
      }
     ],
     "prompt_number": 94
    },
    {
     "cell_type": "code",
     "collapsed": false,
     "input": [
      "t1=time.time()"
     ],
     "language": "python",
     "metadata": {},
     "outputs": [],
     "prompt_number": 97
    },
    {
     "cell_type": "code",
     "collapsed": false,
     "input": [
      "np.save('EigVal_output',SysEig)"
     ],
     "language": "python",
     "metadata": {},
     "outputs": [],
     "prompt_number": 98
    },
    {
     "cell_type": "code",
     "collapsed": false,
     "input": [
      "import numpy as np"
     ],
     "language": "python",
     "metadata": {},
     "outputs": [],
     "prompt_number": 2
    },
    {
     "cell_type": "code",
     "collapsed": false,
     "input": [
      "SysEig=np.load('EigVal_output.npy')"
     ],
     "language": "python",
     "metadata": {},
     "outputs": [],
     "prompt_number": 5
    },
    {
     "cell_type": "code",
     "collapsed": false,
     "input": [
      "5263.430781126022/60/60"
     ],
     "language": "python",
     "metadata": {},
     "outputs": [
      {
       "metadata": {},
       "output_type": "pyout",
       "prompt_number": 7,
       "text": [
        "1.4620641058683395"
       ]
      }
     ],
     "prompt_number": 7
    },
    {
     "cell_type": "code",
     "collapsed": false,
     "input": [
      "from mpl_toolkits.mplot3d import Axes3D\n",
      "from matplotlib import cm\n",
      "from matplotlib.ticker import LinearLocator, FormatStrFormatter\n",
      "import matplotlib.pyplot as plt\n",
      "import numpy as np"
     ],
     "language": "python",
     "metadata": {},
     "outputs": [],
     "prompt_number": 68
    },
    {
     "cell_type": "code",
     "collapsed": false,
     "input": [
      "fig = plt.figure()\n",
      "ax = fig.gca(projection='3d')\n",
      "X, Y, Z = np.ones((360,360))*np.linspace(0,359,360),(np.ones((360,360))*np.linspace(0,359,360)).T,SysEig[:,:,7]\n",
      "ax.plot_surface(X, Y, Z, rstride=8, cstride=8, alpha=0.3)\n",
      "cset = ax.contourf(X, Y, Z, zdir='z', offset=-100, cmap=cm.coolwarm)\n",
      "cset = ax.contourf(X, Y, Z, zdir='x', offset=-40, cmap=cm.coolwarm)\n",
      "cset = ax.contourf(X, Y, Z, zdir='y', offset=40, cmap=cm.coolwarm)\n",
      "\n",
      "ax.set_xlabel('X')\n",
      "#ax.set_xlim(-40, 40)\n",
      "ax.set_ylabel('Y')\n",
      "#ax.set_ylim(-40, 40)\n",
      "ax.set_zlabel('Z')\n",
      "#ax.set_zlim(-100, 100)\n",
      "\n",
      "plt.show()"
     ],
     "language": "python",
     "metadata": {},
     "outputs": [
      {
       "metadata": {},
       "output_type": "display_data",
       "png": "[encoded data removed]",
       "text": [
        "<matplotlib.figure.Figure at 0xa53f2b0>"
       ]
      }
     ],
     "prompt_number": 10
    },
    {
     "cell_type": "code",
     "collapsed": false,
     "input": [
      "fig = plt.figure()\n",
      "ax = fig.gca(projection='3d')\n",
      "X = np.arange(0, 360, 1)\n",
      "Y = np.arange(0, 360, 1)\n",
      "X, Y = np.meshgrid(X, Y)\n",
      "Z = SysEig[:,:,6]\n",
      "surf = ax.plot_surface(X, Y, Z, rstride=1, cstride=1, cmap=cm.coolwarm,\n",
      "        linewidth=0, antialiased=False)\n",
      "ax.set_zlim(-1.01, 1.01)\n",
      "\n",
      "ax.zaxis.set_major_locator(LinearLocator(10))\n",
      "ax.zaxis.set_major_formatter(FormatStrFormatter('%.02f'))\n",
      "\n",
      "fig.colorbar(surf, shrink=0.5, aspect=5)\n",
      "\n",
      "plt.show()"
     ],
     "language": "python",
     "metadata": {},
     "outputs": [
      {
       "metadata": {},
       "output_type": "display_data",
       "png": "[encoded data removed]",
       "text": [
        "<matplotlib.figure.Figure at 0xa53f240>"
       ]
      }
     ],
     "prompt_number": 11
    },
    {
     "cell_type": "code",
     "collapsed": false,
     "input": [
      "from mpl_toolkits.mplot3d import axes3d\n",
      "import matplotlib.pyplot as plt\n",
      "from matplotlib import cm\n",
      "\n",
      "fig = plt.figure()\n",
      "ax = fig.gca(projection='3d')\n",
      "X, Y, Z = axes3d.get_test_data(0.05)\n",
      "ax.plot_surface(X, Y, Z, rstride=8, cstride=8, alpha=0.3)\n",
      "cset = ax.contourf(X, Y, Z, zdir='z', offset=-100, cmap=cm.coolwarm)\n",
      "cset = ax.contourf(X, Y, Z, zdir='x', offset=-40, cmap=cm.coolwarm)\n",
      "cset = ax.contourf(X, Y, Z, zdir='y', offset=40, cmap=cm.coolwarm)\n",
      "\n",
      "ax.set_xlabel('X')\n",
      "ax.set_xlim(-40, 40)\n",
      "ax.set_ylabel('Y')\n",
      "ax.set_ylim(-40, 40)\n",
      "ax.set_zlabel('Z')\n",
      "ax.set_zlim(-100, 100)\n",
      "\n",
      "plt.show()"
     ],
     "language": "python",
     "metadata": {},
     "outputs": [],
     "prompt_number": 47
    },
    {
     "cell_type": "code",
     "collapsed": false,
     "input": [
      "Y"
     ],
     "language": "python",
     "metadata": {},
     "outputs": [
      {
       "metadata": {},
       "output_type": "pyout",
       "prompt_number": 54,
       "text": [
        "array([[-30. , -30. , -30. , ..., -30. , -30. , -30. ],\n",
        "       [-29.5, -29.5, -29.5, ..., -29.5, -29.5, -29.5],\n",
        "       [-29. , -29. , -29. , ..., -29. , -29. , -29. ],\n",
        "       ..., \n",
        "       [ 28.5,  28.5,  28.5, ...,  28.5,  28.5,  28.5],\n",
        "       [ 29. ,  29. ,  29. , ...,  29. ,  29. ,  29. ],\n",
        "       [ 29.5,  29.5,  29.5, ...,  29.5,  29.5,  29.5]])"
       ]
      }
     ],
     "prompt_number": 54
    },
    {
     "cell_type": "code",
     "collapsed": false,
     "input": [
      "(np.ones((360,360))*np.linspace(0,359,360)).T"
     ],
     "language": "python",
     "metadata": {},
     "outputs": [
      {
       "metadata": {},
       "output_type": "pyout",
       "prompt_number": 53,
       "text": [
        "array([[   0.,    0.,    0., ...,    0.,    0.,    0.],\n",
        "       [   1.,    1.,    1., ...,    1.,    1.,    1.],\n",
        "       [   2.,    2.,    2., ...,    2.,    2.,    2.],\n",
        "       ..., \n",
        "       [ 357.,  357.,  357., ...,  357.,  357.,  357.],\n",
        "       [ 358.,  358.,  358., ...,  358.,  358.,  358.],\n",
        "       [ 359.,  359.,  359., ...,  359.,  359.,  359.]])"
       ]
      }
     ],
     "prompt_number": 53
    },
    {
     "cell_type": "code",
     "collapsed": false,
     "input": [
      "X.shape"
     ],
     "language": "python",
     "metadata": {},
     "outputs": [
      {
       "metadata": {},
       "output_type": "pyout",
       "prompt_number": 31,
       "text": [
        "(120, 120)"
       ]
      }
     ],
     "prompt_number": 31
    },
    {
     "cell_type": "code",
     "collapsed": false,
     "input": [
      "Y.shape"
     ],
     "language": "python",
     "metadata": {},
     "outputs": [
      {
       "metadata": {},
       "output_type": "pyout",
       "prompt_number": 32,
       "text": [
        "(120, 120)"
       ]
      }
     ],
     "prompt_number": 32
    },
    {
     "cell_type": "code",
     "collapsed": false,
     "input": [
      "X"
     ],
     "language": "python",
     "metadata": {},
     "outputs": [
      {
       "metadata": {},
       "output_type": "pyout",
       "prompt_number": 33,
       "text": [
        "array([[-30. , -29.5, -29. , ...,  28.5,  29. ,  29.5],\n",
        "       [-30. , -29.5, -29. , ...,  28.5,  29. ,  29.5],\n",
        "       [-30. , -29.5, -29. , ...,  28.5,  29. ,  29.5],\n",
        "       ..., \n",
        "       [-30. , -29.5, -29. , ...,  28.5,  29. ,  29.5],\n",
        "       [-30. , -29.5, -29. , ...,  28.5,  29. ,  29.5],\n",
        "       [-30. , -29.5, -29. , ...,  28.5,  29. ,  29.5]])"
       ]
      }
     ],
     "prompt_number": 33
    },
    {
     "cell_type": "code",
     "collapsed": false,
     "input": [
      "np.ones((4,4))*np.array([0,1,2,3])"
     ],
     "language": "python",
     "metadata": {},
     "outputs": [
      {
       "metadata": {},
       "output_type": "pyout",
       "prompt_number": 36,
       "text": [
        "array([[ 0.,  1.,  2.,  3.],\n",
        "       [ 0.,  1.,  2.,  3.],\n",
        "       [ 0.,  1.,  2.,  3.],\n",
        "       [ 0.,  1.,  2.,  3.]])"
       ]
      }
     ],
     "prompt_number": 36
    },
    {
     "cell_type": "code",
     "collapsed": false,
     "input": [],
     "language": "python",
     "metadata": {},
     "outputs": []
    }
   ],
   "metadata": {}
  }
 ]
}