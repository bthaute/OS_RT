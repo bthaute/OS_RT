{
 "metadata": {
  "name": "",
  "signature": "sha256:1069517f8211189c5b0f71a5efc04da796b8ac7547a65901fc6b6d4f5508fa4d"
 },
 "nbformat": 3,
 "nbformat_minor": 0,
 "worksheets": [
  {
   "cells": [
    {
     "cell_type": "code",
     "collapsed": false,
     "input": [
      "import sympy as sp\n",
      "import numpy as np\n",
      "from numpy import pi"
     ],
     "language": "python",
     "metadata": {},
     "outputs": [],
     "prompt_number": 1
    },
    {
     "cell_type": "markdown",
     "metadata": {},
     "source": [
      "#Herleitung der Federkonstante und D\u00e4mpfung\n",
      "Tr\u00e4gheitmomente, L\u00e4ngen der Anordnung ... LLaden aus paramenter_springs"
     ]
    },
    {
     "cell_type": "code",
     "collapsed": false,
     "input": [
      "from parameter_springs import para_g, para_m, para_a, para_k, para_d, para_I"
     ],
     "language": "python",
     "metadata": {},
     "outputs": [
      {
       "output_type": "stream",
       "stream": "stdout",
       "text": [
        "saving parameter\n",
        "read parameters\n"
       ]
      }
     ],
     "prompt_number": 2
    },
    {
     "cell_type": "code",
     "collapsed": false,
     "input": [
      "para_I"
     ],
     "language": "python",
     "metadata": {},
     "outputs": [
      {
       "metadata": {},
       "output_type": "pyout",
       "prompt_number": 3,
       "text": [
        "array([ 8655.295   ,  8655.295   ,  4549.26375 ,  4549.26375 ,\n",
        "        2765.413125,  2765.413125,  1841.8275  ,  1841.8275  ,\n",
        "         721.448   ,   721.448   ])"
       ]
      }
     ],
     "prompt_number": 3
    },
    {
     "cell_type": "markdown",
     "metadata": {},
     "source": [
      "Bewegungsgleichung f\u00fcr erstes unaktuiertes Gelenk aufstellen"
     ]
    },
    {
     "cell_type": "code",
     "collapsed": false,
     "input": [
      "# Variablen\n",
      "tau, c, k, t = sp.symbols('tau, c, k, t')\n",
      "phi = sp.Function('phi')('t')"
     ],
     "language": "python",
     "metadata": {},
     "outputs": [],
     "prompt_number": 4
    },
    {
     "cell_type": "markdown",
     "metadata": {},
     "source": [
      "Annahme: Bis auf betrachtetes unaktuiertes Gelenk sind alle anderen Gelenke starr und befinden sich in der Ruhelage $\\varphi=0$"
     ]
    },
    {
     "cell_type": "code",
     "collapsed": false,
     "input": [
      "J_steiner = para_I[1] + para_m[2]*para_a[1]**2 + para_I[2] + para_m[3]*para_a[1]**2 + para_m[3]*para_a[2]**2 + para_I[3]"
     ],
     "language": "python",
     "metadata": {},
     "outputs": [],
     "prompt_number": 5
    },
    {
     "cell_type": "code",
     "collapsed": false,
     "input": [
      "phi_d = phi.diff('t')\n",
      "phi_dd = phi_d.diff('t')"
     ],
     "language": "python",
     "metadata": {},
     "outputs": [],
     "prompt_number": 6
    },
    {
     "cell_type": "code",
     "collapsed": false,
     "input": [
      "tau = J_steiner*phi_dd + c*phi_d + k*phi + (para_a[1]+para_a[2]+para_a[3])/2* sp.cos(phi)*(para_m[1]+para_m[2]+para_m[3])*para_g"
     ],
     "language": "python",
     "metadata": {},
     "outputs": [],
     "prompt_number": 7
    },
    {
     "cell_type": "code",
     "collapsed": false,
     "input": [
      "tau"
     ],
     "language": "python",
     "metadata": {},
     "outputs": [
      {
       "metadata": {},
       "output_type": "pyout",
       "prompt_number": 8,
       "text": [
        "c*Derivative(phi(t), t) + k*phi(t) + 182342.3984375*cos(phi(t)) + 65778.8225*Derivative(phi(t), t, t)"
       ]
      }
     ],
     "prompt_number": 8
    },
    {
     "cell_type": "code",
     "collapsed": false,
     "input": [
      "omega_0, k = sp.symbols('omega_0, k')"
     ],
     "language": "python",
     "metadata": {},
     "outputs": [],
     "prompt_number": 9
    },
    {
     "cell_type": "code",
     "collapsed": false,
     "input": [
      "k1 = omega_0**2 * J_steiner\n",
      "k1.subs(zip([omega_0],[2*pi*1]))"
     ],
     "language": "python",
     "metadata": {},
     "outputs": [
      {
       "metadata": {},
       "output_type": "pyout",
       "prompt_number": 10,
       "text": [
        "2596843.82417790"
       ]
      }
     ],
     "prompt_number": 10
    },
    {
     "cell_type": "code",
     "collapsed": false,
     "input": [
      "c = 2*J_steiner/30*np.log(10)\n",
      "c"
     ],
     "language": "python",
     "metadata": {},
     "outputs": [
      {
       "metadata": {},
       "output_type": "pyout",
       "prompt_number": 11,
       "text": [
        "10097.422408213424"
       ]
      }
     ],
     "prompt_number": 11
    },
    {
     "cell_type": "code",
     "collapsed": false,
     "input": [
      "k = (2*2*pi)**2*J_steiner + c**2/(4*J_steiner)\n",
      "k"
     ],
     "language": "python",
     "metadata": {},
     "outputs": [
      {
       "metadata": {},
       "output_type": "pyout",
       "prompt_number": 18,
       "text": [
        "10387762.79961686"
       ]
      }
     ],
     "prompt_number": 18
    },
    {
     "cell_type": "code",
     "collapsed": false,
     "input": [
      "para_d"
     ],
     "language": "python",
     "metadata": {},
     "outputs": [
      {
       "metadata": {},
       "output_type": "pyout",
       "prompt_number": 13,
       "text": [
        "array([ 109436.57074105,   93734.40683394,   79820.73593948,\n",
        "         70226.98787928,   61744.18146271,   55375.74782663,\n",
        "         49662.33827618,   45429.90153319,   41763.41946311,\n",
        "         39371.86095476])"
       ]
      }
     ],
     "prompt_number": 13
    },
    {
     "cell_type": "code",
     "collapsed": false,
     "input": [
      "J_steiner2 = para_I[3]"
     ],
     "language": "python",
     "metadata": {},
     "outputs": [],
     "prompt_number": 14
    },
    {
     "cell_type": "code",
     "collapsed": false,
     "input": [
      "c2 = 2*J_steiner2/20*np.log(10)\n",
      "c2"
     ],
     "language": "python",
     "metadata": {},
     "outputs": [
      {
       "metadata": {},
       "output_type": "pyout",
       "prompt_number": 15,
       "text": [
        "1047.5066894848192"
       ]
      }
     ],
     "prompt_number": 15
    },
    {
     "cell_type": "code",
     "collapsed": false,
     "input": [
      "k = (6*2*pi)**2*J_steiner2 + c2**2/(4*J_steiner2)\n",
      "k"
     ],
     "language": "python",
     "metadata": {},
     "outputs": [
      {
       "metadata": {},
       "output_type": "pyout",
       "prompt_number": 16,
       "text": [
        "6465578.7274673451"
       ]
      }
     ],
     "prompt_number": 16
    },
    {
     "cell_type": "code",
     "collapsed": false,
     "input": [],
     "language": "python",
     "metadata": {},
     "outputs": [],
     "prompt_number": 16
    }
   ],
   "metadata": {}
  }
 ]
}