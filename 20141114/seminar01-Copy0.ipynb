{
 "metadata": {
  "name": "",
  "signature": "sha256:5e432e784430c9059cc4075f3f750b9e17c062a39156e97c1215b9591e269ad9"
 },
 "nbformat": 3,
 "nbformat_minor": 0,
 "worksheets": [
  {
   "cells": [
    {
     "cell_type": "code",
     "collapsed": false,
     "input": [
      "import sympy as sp\n",
      "import symb_tools as st\n",
      "import model_tools as mt"
     ],
     "language": "python",
     "metadata": {},
     "outputs": [],
     "prompt_number": 100
    },
    {
     "cell_type": "code",
     "collapsed": false,
     "input": [
      "t = sp.Symbol(\"t\")\n",
      "x1 = sp.Symbol(\"x1\")"
     ],
     "language": "python",
     "metadata": {},
     "outputs": [],
     "prompt_number": 101
    },
    {
     "cell_type": "code",
     "collapsed": false,
     "input": [
      "q1 = sp.Function(\"q1\")(t)\n",
      "q2 = sp.Function(\"q2\")(t)\n",
      "qq = sp.Matrix([q1, q2])\n",
      "FF = sp.Matrix(sp.symbols(\"F1, F2\"))\n",
      "parameter = sp.symbols(\"I1, I2, m1, m2, l1, l2, a1, k1, k2, g\")\n",
      "#Bill: was bewirkt diese Zeile? \n",
      "I1, I2, m1, m2, l1, l2, a1, k1, k2, g = parameter"
     ],
     "language": "python",
     "metadata": {},
     "outputs": [],
     "prompt_number": 102
    },
    {
     "cell_type": "markdown",
     "metadata": {},
     "source": [
      "Geometrie (karthesische Koordinaten der Schwerpunkte)"
     ]
    },
    {
     "cell_type": "code",
     "collapsed": false,
     "input": [
      "ex = sp.Matrix([1, 0])\n",
      "ey = sp.Matrix([0, 1])"
     ],
     "language": "python",
     "metadata": {},
     "outputs": [],
     "prompt_number": 103
    },
    {
     "cell_type": "code",
     "collapsed": false,
     "input": [
      "# Rotationsmatrix\n",
      "mt.Rz(q1)"
     ],
     "language": "python",
     "metadata": {},
     "outputs": [
      {
       "metadata": {},
       "output_type": "pyout",
       "prompt_number": 104,
       "text": [
        "Matrix([\n",
        "[cos(q1(t)), -sin(q1(t))],\n",
        "[sin(q1(t)),  cos(q1(t))]])"
       ]
      }
     ],
     "prompt_number": 104
    },
    {
     "cell_type": "code",
     "collapsed": false,
     "input": [
      "s1 = l1*mt.Rz(q1)*ex\n",
      "s1"
     ],
     "language": "python",
     "metadata": {},
     "outputs": [
      {
       "metadata": {},
       "output_type": "pyout",
       "prompt_number": 105,
       "text": [
        "Matrix([\n",
        "[l1*cos(q1(t))],\n",
        "[l1*sin(q1(t))]])"
       ]
      }
     ],
     "prompt_number": 105
    },
    {
     "cell_type": "code",
     "collapsed": false,
     "input": [
      "s2 = a1*mt.Rz(q1)*ex + l2*mt.Rz(q1+q2)*ex\n",
      "s2"
     ],
     "language": "python",
     "metadata": {},
     "outputs": [
      {
       "metadata": {},
       "output_type": "pyout",
       "prompt_number": 106,
       "text": [
        "Matrix([\n",
        "[a1*cos(q1(t)) + l2*cos(q1(t) + q2(t))],\n",
        "[a1*sin(q1(t)) + l2*sin(q1(t) + q2(t))]])"
       ]
      }
     ],
     "prompt_number": 106
    },
    {
     "cell_type": "markdown",
     "metadata": {},
     "source": [
      "kinetische und potentielle Energie"
     ]
    },
    {
     "cell_type": "code",
     "collapsed": false,
     "input": [
      "q1d = q1.diff(t)\n",
      "q2d = q2.diff(t)\n",
      "s1d = s1.diff(t)\n",
      "s2d = s2.diff(t)"
     ],
     "language": "python",
     "metadata": {},
     "outputs": [],
     "prompt_number": 107
    },
    {
     "cell_type": "code",
     "collapsed": false,
     "input": [
      "T = (I1*q1d**2 + I2*(q1d+q2d)**2 + m1*(s1d.T*s1d)[0] + m2*(s2d.T*s2d)[0] )/2\n",
      "#T = (I1*q1d**2 + I2*(q2d)**2 + m1*(s1d.T*s1d)[0] + m2*(s2d.T*s2d)[0] )/2"
     ],
     "language": "python",
     "metadata": {},
     "outputs": [],
     "prompt_number": 108
    },
    {
     "cell_type": "code",
     "collapsed": false,
     "input": [
      "V = (k1*q1**2 + k2*q2**2)/2"
     ],
     "language": "python",
     "metadata": {},
     "outputs": [],
     "prompt_number": 109
    },
    {
     "cell_type": "code",
     "collapsed": false,
     "input": [
      "mod1 = mt.generate_model(T, V, qq, FF)\n",
      "mod1.eq_list.simplify()\n",
      "mod1.eq_list"
     ],
     "language": "python",
     "metadata": {},
     "outputs": [
      {
       "metadata": {},
       "output_type": "pyout",
       "prompt_number": 110,
       "text": [
        "Matrix([\n",
        "[-F1 + I1*q1_dd + I2*(q1_dd + q2_dd) + k1*q1 + l1**2*m1*q1_dd + m2*(a1**2*q1_dd - 2*a1*l2*q1_d*q2_d*sin(q2) + 2*a1*l2*q1_dd*cos(q2) - a1*l2*q2_d**2*sin(q2) + a1*l2*q2_dd*cos(q2) + l2**2*q1_dd + l2**2*q2_dd)],\n",
        "[                                                                                      -F2 + I2*q1_dd + I2*q2_dd + a1*l2*m2*q1_d**2*sin(q2) + a1*l2*m2*q1_dd*cos(q2) + k2*q2 + l2**2*m2*q1_dd + l2**2*m2*q2_dd]])"
       ]
      }
     ],
     "prompt_number": 110
    },
    {
     "cell_type": "code",
     "collapsed": false,
     "input": [
      "Mq = mod1.MM.expand()"
     ],
     "language": "python",
     "metadata": {},
     "outputs": [],
     "prompt_number": 111
    },
    {
     "cell_type": "code",
     "collapsed": false,
     "input": [
      "#Mq.simplify()\n",
      "Mq"
     ],
     "language": "python",
     "metadata": {},
     "outputs": [
      {
       "metadata": {},
       "output_type": "pyout",
       "prompt_number": 112,
       "text": [
        "Matrix([\n",
        "[I1 + I2 + a1**2*m2 + 2*a1*l2*m2*cos(q2) + l1**2*m1 + l2**2*m2, I2 + a1*l2*m2*cos(q2) + l2**2*m2],\n",
        "[                             I2 + a1*l2*m2*cos(q2) + l2**2*m2,                    I2 + l2**2*m2]])"
       ]
      }
     ],
     "prompt_number": 112
    },
    {
     "cell_type": "markdown",
     "metadata": {},
     "source": [
      "---\n",
      "Alternativer Zugang (Koordinatendefinition wie Prof. Janschek)"
     ]
    },
    {
     "cell_type": "code",
     "collapsed": false,
     "input": [
      "z1 = sp.Function(\"z1\")(t)\n",
      "z2 = sp.Function(\"z2\")(t)\n",
      "zz = sp.Matrix([z1, z2])\n",
      "# \u00dcberschreiben von s1, s2\n",
      "\n",
      "s1 = l1*mt.Rz(z1)*ex\n",
      "s2 = a1*mt.Rz(z1)*ex + l2*mt.Rz(z2)*ex\n",
      "\n",
      "z1d = z1.diff(t)\n",
      "z2d = z2.diff(t)\n",
      "s1d = s1.diff(t)\n",
      "s2d = s2.diff(t)\n",
      "\n",
      "T = (I1*z1d**2 + I2*z2d**2 + m1*st.norm2(s1d) + m2*st.norm2(s2d) )/2\n",
      "V = (k1*z1**2 + k2*z2**2)/2"
     ],
     "language": "python",
     "metadata": {},
     "outputs": [],
     "prompt_number": 113
    },
    {
     "cell_type": "code",
     "collapsed": false,
     "input": [
      "mod2 = mt.generate_model(T, V, zz, FF)\n",
      "mod2.eq_list.simplify()\n",
      "mod2.eq_list"
     ],
     "language": "python",
     "metadata": {},
     "outputs": [
      {
       "metadata": {},
       "output_type": "pyout",
       "prompt_number": 114,
       "text": [
        "Matrix([\n",
        "[-F1 + I1*z1_dd + a1**2*m2*z1_dd + a1*l2*m2*z2_d**2*sin(z1 - z2) + a1*l2*m2*z2_dd*cos(z1 - z2) + k1*z1 + l1**2*m1*z1_dd],\n",
        "[                 -F2 + I2*z2_dd - a1*l2*m2*z1_d**2*sin(z1 - z2) + a1*l2*m2*z1_dd*cos(z1 - z2) + k2*z2 + l2**2*m2*z2_dd]])"
       ]
      }
     ],
     "prompt_number": 114
    },
    {
     "cell_type": "code",
     "collapsed": false,
     "input": [
      "s1d"
     ],
     "language": "python",
     "metadata": {},
     "outputs": [
      {
       "metadata": {},
       "output_type": "pyout",
       "prompt_number": 115,
       "text": [
        "Matrix([\n",
        "[-l1*sin(z1(t))*Derivative(z1(t), t)],\n",
        "[ l1*cos(z1(t))*Derivative(z1(t), t)]])"
       ]
      }
     ],
     "prompt_number": 115
    },
    {
     "cell_type": "markdown",
     "metadata": {},
     "source": [
      "Das ist die Massenmatrix, die bei Prof. Janschek rauskam"
     ]
    },
    {
     "cell_type": "code",
     "collapsed": false,
     "input": [
      "Mz = mod2.MM\n",
      "Mz"
     ],
     "language": "python",
     "metadata": {},
     "outputs": [
      {
       "metadata": {},
       "output_type": "pyout",
       "prompt_number": 116,
       "text": [
        "Matrix([\n",
        "[I1 + a1**2*m2 + l1**2*m1, a1*l2*m2*cos(z1 - z2)],\n",
        "[   a1*l2*m2*cos(z1 - z2),         I2 + l2**2*m2]])"
       ]
      }
     ],
     "prompt_number": 116
    },
    {
     "cell_type": "markdown",
     "metadata": {},
     "source": [
      "---"
     ]
    },
    {
     "cell_type": "heading",
     "level": 3,
     "metadata": {},
     "source": [
      "Frage: wie kann man die beiden Massenmatrizen ineinander umrechnen?"
     ]
    },
    {
     "cell_type": "markdown",
     "metadata": {},
     "source": [
      "**Variante 1**: Schritt f\u00fcr Schritt: wir nehmen unsere Bewegungsgleichungen (mod1), substituieren die alten $q$ Variablen durch die neuen $z$ Variablen (auch f\u00fcr alle Ableitungen), bilden dann die Jacobi-Matrix bez\u00fcglich $\\ddot z$ und bilden schilie\u00dflich eine Linearkombination der Gleichungen (Zeilen der Matrix), so dass die resultierende Matrix wieder symmetrisch ist."
     ]
    },
    {
     "cell_type": "code",
     "collapsed": false,
     "input": [
      "# Transformationsmatrix z = S * q:\n",
      "S = sp.Matrix([[1, 0], [1,1]])\n",
      "S"
     ],
     "language": "python",
     "metadata": {},
     "outputs": [
      {
       "metadata": {},
       "output_type": "pyout",
       "prompt_number": 117,
       "text": [
        "Matrix([\n",
        "[1, 0],\n",
        "[1, 1]])"
       ]
      }
     ],
     "prompt_number": 117
    },
    {
     "cell_type": "markdown",
     "metadata": {},
     "source": [
      "$q$-Koordinaten durch $z$-Koordinaten ersetzen"
     ]
    },
    {
     "cell_type": "code",
     "collapsed": false,
     "input": [
      "q_new = S.inv()*mod2.qs\n",
      "qd_new = S.inv()*mod2.qds\n",
      "qdd_new = S.inv()*mod2.qdds\n",
      "\n",
      "# Kontrollanzeige:\n",
      "st.col_stack(q_new, qd_new, qdd_new)"
     ],
     "language": "python",
     "metadata": {},
     "outputs": [
      {
       "metadata": {},
       "output_type": "pyout",
       "prompt_number": 118,
       "text": [
        "Matrix([\n",
        "[      z1,         z1_d,          z1_dd],\n",
        "[-z1 + z2, -z1_d + z2_d, -z1_dd + z2_dd]])"
       ]
      }
     ],
     "prompt_number": 118
    },
    {
     "cell_type": "code",
     "collapsed": false,
     "input": [
      "subslist = zip(mod1.qdds, qdd_new) + zip(mod1.qds, qd_new) + zip(mod1.qs, q_new) \n",
      "subslist"
     ],
     "language": "python",
     "metadata": {},
     "outputs": [
      {
       "metadata": {},
       "output_type": "pyout",
       "prompt_number": 119,
       "text": [
        "[(q1_dd, z1_dd),\n",
        " (q2_dd, -z1_dd + z2_dd),\n",
        " (q1_d, z1_d),\n",
        " (q2_d, -z1_d + z2_d),\n",
        " (q1, z1),\n",
        " (q2, -z1 + z2)]"
       ]
      }
     ],
     "prompt_number": 119
    },
    {
     "cell_type": "markdown",
     "metadata": {},
     "source": [
      "tempor\u00e4re Zwischenschritt-Matrix (sie ist noch nicht symmetrisch)"
     ]
    },
    {
     "cell_type": "code",
     "collapsed": false,
     "input": [
      "M_tmp = mod1.eq_list.subs(subslist).jacobian(mod2.qdds)\n",
      "M_tmp"
     ],
     "language": "python",
     "metadata": {},
     "outputs": [
      {
       "metadata": {},
       "output_type": "pyout",
       "prompt_number": 120,
       "text": [
        "Matrix([\n",
        "[I1 + l1**2*m1 + m2*(a1**2 + a1*l2*cos(z1 - z2)), I2 + m2*(a1*l2*cos(z1 - z2) + l2**2)],\n",
        "[                          a1*l2*m2*cos(z1 - z2),                        I2 + l2**2*m2]])"
       ]
      }
     ],
     "prompt_number": 120
    },
    {
     "cell_type": "markdown",
     "metadata": {},
     "source": [
      "Multiplikation von links (=linearkombination der Zeile (also der Gleichungen))"
     ]
    },
    {
     "cell_type": "code",
     "collapsed": false,
     "input": [
      "C = sp.Matrix([[1, -1], [0, 1]])"
     ],
     "language": "python",
     "metadata": {},
     "outputs": [],
     "prompt_number": 121
    },
    {
     "cell_type": "code",
     "collapsed": false,
     "input": [
      "res = C*M_tmp\n",
      "res.simplify()\n",
      "res"
     ],
     "language": "python",
     "metadata": {},
     "outputs": [
      {
       "metadata": {},
       "output_type": "pyout",
       "prompt_number": 122,
       "text": [
        "Matrix([\n",
        "[I1 + a1**2*m2 + l1**2*m1, a1*l2*m2*cos(z1 - z2)],\n",
        "[   a1*l2*m2*cos(z1 - z2),         I2 + l2**2*m2]])"
       ]
      }
     ],
     "prompt_number": 122
    },
    {
     "cell_type": "code",
     "collapsed": false,
     "input": [
      "res == Mz"
     ],
     "language": "python",
     "metadata": {},
     "outputs": [
      {
       "metadata": {},
       "output_type": "pyout",
       "prompt_number": 123,
       "text": [
        "True"
       ]
      }
     ],
     "prompt_number": 123
    },
    {
     "cell_type": "markdown",
     "metadata": {},
     "source": [
      "---\n",
      "Das klappt offensichtlich\n",
      "\n",
      "**Variante 2**: (so wollte ich es urspr\u00fcnglich machen):\n",
      "Wir wissen dass folgende Zusammenhange gelten:\n",
      "$$ z = S q$$\n",
      "$$ \\ddot z = S \\ddot q$$\n",
      "$$ \\ddot q = S^{-1} \\ddot z.$$\n",
      "\n",
      "Deswegen k\u00f6nnen wir auch schreiben:\n",
      "\n",
      "$$M \\ddot q + ... = M S^{-1} \\ddot z + ... \\enspace.$$\n",
      "\n",
      "Diese Matrix k\u00f6nnen wir dann auch von links mit einener Matrix multiplizieren (Linearkombination der Zeilen, also Gleichungen)\n",
      "Dazu w\u00e4hlt man die *Transponierte* der Matrix auf der rechten Seite. **Hier lag mein Fehler**, weil ich die *Inverse* von $S$ genommen hatte. Ma bekommt\n",
      "\n",
      "$$\\underbrace{ (S^{-1})^T M S^{-1} }_{\\hat M} \\ddot z + ... \\enspace .$$\n",
      "\n",
      "Das ist zwar etwas l\u00e4nger zu erkl\u00e4ren aber einfacher zu rechnen."
     ]
    },
    {
     "cell_type": "code",
     "collapsed": false,
     "input": [
      "res2 = S.inv().T*Mq*S.inv()\n",
      "res2 == Mz"
     ],
     "language": "python",
     "metadata": {},
     "outputs": [
      {
       "metadata": {},
       "output_type": "pyout",
       "prompt_number": 124,
       "text": [
        "False"
       ]
      }
     ],
     "prompt_number": 124
    },
    {
     "cell_type": "markdown",
     "metadata": {},
     "source": [
      "logisch. Die Massenmatrix h\u00e4ngt ja noch von $q$ bzw. $z$ ab."
     ]
    },
    {
     "cell_type": "code",
     "collapsed": false,
     "input": [
      "res2.subs(subslist) == Mz"
     ],
     "language": "python",
     "metadata": {},
     "outputs": [
      {
       "metadata": {},
       "output_type": "pyout",
       "prompt_number": 125,
       "text": [
        "True"
       ]
      }
     ],
     "prompt_number": 125
    },
    {
     "cell_type": "markdown",
     "metadata": {},
     "source": [
      "Aufl\u00f6sen der Bewegungsgleichungen nach den zweifachen Winkelableitungen"
     ]
    },
    {
     "cell_type": "code",
     "collapsed": false,
     "input": [
      "eq1 = mod1.eq_list[0]\n",
      "eq2 = mod1.eq_list[1]"
     ],
     "language": "python",
     "metadata": {},
     "outputs": [],
     "prompt_number": 126
    },
    {
     "cell_type": "code",
     "collapsed": false,
     "input": [
      "sol = sp.solve([eq1,eq2],mod1.qdds)\n",
      "sol"
     ],
     "language": "python",
     "metadata": {},
     "outputs": [
      {
       "metadata": {},
       "output_type": "pyout",
       "prompt_number": 127,
       "text": [
        "{q1_dd: ((I2 + l2**2*m2)*(F1 + 2*a1*l2*m2*q1_d*q2_d*sin(q2) + a1*l2*m2*q2_d**2*sin(q2) - k1*q1) + (-F2 + a1*l2*m2*q1_d**2*sin(q2) + k2*q2)*(I2 + a1*l2*m2*cos(q2) + l2**2*m2))/(I1*I2 + I1*l2**2*m2 + I2*a1**2*m2 + I2*l1**2*m1 + a1**2*l2**2*m2**2*sin(q2)**2 + l1**2*l2**2*m1*m2),\n",
        " q2_dd: -((-F2 + a1*l2*m2*q1_d**2*sin(q2) + k2*q2)*(I1 + I2 + a1**2*m2 + 2*a1*l2*m2*cos(q2) + l1**2*m1 + l2**2*m2) + (I2 + a1*l2*m2*cos(q2) + l2**2*m2)*(F1 + 2*a1*l2*m2*q1_d*q2_d*sin(q2) + a1*l2*m2*q2_d**2*sin(q2) - k1*q1))/(I1*I2 + I1*l2**2*m2 + I2*a1**2*m2 + I2*l1**2*m1 + a1**2*l2**2*m2**2*sin(q2)**2 + l1**2*l2**2*m1*m2)}"
       ]
      }
     ],
     "prompt_number": 127
    },
    {
     "cell_type": "code",
     "collapsed": false,
     "input": [
      "#dictionary verwenden um Parameter durch Werte zu ersetzen\n",
      "params_values = {m1:10, m2:5, I1:1 ,I2:1 ,a1:1 ,l1: 0.5 ,l2: 0.5 }"
     ],
     "language": "python",
     "metadata": {},
     "outputs": [],
     "prompt_number": 130
    },
    {
     "cell_type": "code",
     "collapsed": false,
     "input": [
      "q1_dd_expr = sol[mod1.qdds[0]].subs(params_values)\n",
      "q2_dd_expr = sol[mod1.qdds[1]].subs(params_values)\n",
      "q1_dd_expr"
     ],
     "language": "python",
     "metadata": {},
     "outputs": [
      {
       "metadata": {},
       "output_type": "pyout",
       "prompt_number": 132,
       "text": [
        "(2.25*F1 - 2.25*k1*q1 + 11.25*q1_d*q2_d*sin(q2) + 5.625*q2_d**2*sin(q2) + (2.5*cos(q2) + 2.25)*(-F2 + k2*q2 + 2.5*q1_d**2*sin(q2)))/(6.25*sin(q2)**2 + 12.875)"
       ]
      }
     ],
     "prompt_number": 132
    },
    {
     "cell_type": "code",
     "collapsed": false,
     "input": [
      "#Umformen zu einer lambda function\n",
      "q1_dd_fnc = sp.lambdify([mod1.qs, mod1.qds, mod1.extforce_list],q1_dd_expr,'numpy')\n",
      "q2_dd_fnc = sp.lambdify([mod1.qs, mod1.qds, mod1.extforce_list],q2_dd_expr,'numpy')"
     ],
     "language": "python",
     "metadata": {},
     "outputs": [],
     "prompt_number": 136
    }
   ],
   "metadata": {}
  }
 ]
}