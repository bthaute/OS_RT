{
 "metadata": {
  "name": "",
  "signature": "sha256:3273b2dd140c25ea0aebb4d40ad59150b854da7420eaf76d44e0c4ff8907067f"
 },
 "nbformat": 3,
 "nbformat_minor": 0,
 "worksheets": []
}