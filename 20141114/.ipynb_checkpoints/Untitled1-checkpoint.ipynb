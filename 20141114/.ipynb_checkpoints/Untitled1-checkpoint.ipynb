{
 "metadata": {
  "name": "",
  "signature": "sha256:7d0fc1ee7064f93a4b25928e761604fc8eeb92f600a622df48b9c27739e0eff7"
 },
 "nbformat": 3,
 "nbformat_minor": 0,
 "worksheets": [
  {
   "cells": [
    {
     "cell_type": "code",
     "collapsed": false,
     "input": [
      "import sympy as sp\n",
      "import numpy as np"
     ],
     "language": "python",
     "metadata": {},
     "outputs": [],
     "prompt_number": 1
    },
    {
     "cell_type": "markdown",
     "metadata": {},
     "source": [
      "#Herleitung der Federkonstante und D\u00e4mpfung\n",
      "Tr\u00e4gheitmomente, L\u00e4ngen der Anordnung ... LLaden aus paramenter_springs"
     ]
    },
    {
     "cell_type": "code",
     "collapsed": false,
     "input": [
      "from parameter_springs import para_g, para_m, para_a, para_k, para_d, para_I"
     ],
     "language": "python",
     "metadata": {},
     "outputs": [
      {
       "output_type": "stream",
       "stream": "stdout",
       "text": [
        "saving parameter\n",
        "read parameters\n"
       ]
      }
     ],
     "prompt_number": 3
    },
    {
     "cell_type": "code",
     "collapsed": false,
     "input": [
      "para_I"
     ],
     "language": "python",
     "metadata": {},
     "outputs": [
      {
       "metadata": {},
       "output_type": "pyout",
       "prompt_number": 4,
       "text": [
        "array([ 8655.295   ,  8655.295   ,  4549.26375 ,  4549.26375 ,\n",
        "        2765.413125,  2765.413125,  1841.8275  ,  1841.8275  ,\n",
        "         721.448   ,   721.448   ])"
       ]
      }
     ],
     "prompt_number": 4
    },
    {
     "cell_type": "code",
     "collapsed": false,
     "input": [],
     "language": "python",
     "metadata": {},
     "outputs": []
    }
   ],
   "metadata": {}
  }
 ]
}