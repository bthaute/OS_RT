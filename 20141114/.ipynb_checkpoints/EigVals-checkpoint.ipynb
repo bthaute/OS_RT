{
 "metadata": {
  "name": "",
  "signature": "sha256:acb43d880d5fbf6ec98c54961dfbafd2b12161c2f69fb26570dc4f1cbfef3799"
 },
 "nbformat": 3,
 "nbformat_minor": 0,
 "worksheets": [
  {
   "cells": [
    {
     "cell_type": "code",
     "collapsed": false,
     "input": [],
     "language": "python",
     "metadata": {},
     "outputs": []
    }
   ],
   "metadata": {}
  }
 ]
}