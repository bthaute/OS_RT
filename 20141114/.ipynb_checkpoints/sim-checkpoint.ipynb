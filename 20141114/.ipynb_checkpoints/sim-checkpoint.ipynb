{
 "metadata": {
  "name": "",
  "signature": "sha256:2baf7c3fa5efb8a2b39dd70414ce3f5cec1ad9aaca732b631d05d5e14366fdf9"
 },
 "nbformat": 3,
 "nbformat_minor": 0,
 "worksheets": [
  {
   "cells": [
    {
     "cell_type": "markdown",
     "metadata": {},
     "source": [
      "Simulation"
     ]
    },
    {
     "cell_type": "code",
     "collapsed": false,
     "input": [
      "\n",
      "import sympy as sp\n",
      "import symb_tools as st\n",
      "import model_tools as mt\n",
      "import numpy as np\n",
      "from numpy import r_,pi\n",
      "from scipy.integrate import odeint\n",
      "import pylab as pl\n",
      "import matplotlib.pyplot as plt\n",
      "from IPython import embed as IPS\n",
      "\n",
      "import traj_2dof as traj\n",
      "from parameter_springs import para_g, para_m, para_a, para_k, para_d, para_I\n",
      "\n",
      "from model import mod1"
     ],
     "language": "python",
     "metadata": {},
     "outputs": []
    },
    {
     "cell_type": "code",
     "collapsed": false,
     "input": [
      "nr_aj = 2  \n",
      "\n",
      "II = sp.Matrix([sp.symbols(\"I1\")])\n",
      "mm = sp.Matrix([sp.symbols(\"m1\")])\n",
      "aa = sp.Matrix([sp.symbols(\"a1\")])\n",
      "kk = sp.Matrix([sp.symbols(\"k1\")])\n",
      "dd = sp.Matrix([sp.symbols(\"d1\")])\n",
      "qq_0 = sp.Matrix([sp.symbols(\"q1_0\")])\n",
      "g = sp.Matrix([sp.Symbol(\"g\")])\n",
      "for index in range(2,2*(nr_aj)+1):\n",
      "    II = st.row_stack(II,sp.Matrix([sp.symbols(\"I\"+np.str(index))]))\n",
      "    mm = st.row_stack(mm,sp.Matrix([sp.symbols(\"m\"+np.str(index))]))\n",
      "    aa = st.row_stack(aa,sp.Matrix([sp.symbols(\"a\"+np.str(index))]))\n",
      "    kk = st.row_stack(kk,sp.Matrix([sp.symbols(\"k\"+np.str(index))]))\n",
      "    dd = st.row_stack(dd,sp.Matrix([sp.symbols(\"d\"+np.str(index))]))\n",
      "    qq_0 = st.row_stack(qq_0,sp.Matrix([sp.symbols(\"q\"+np.str(index)+\"_0\")]))\n"
     ],
     "language": "python",
     "metadata": {},
     "outputs": [],
     "prompt_number": 2
    },
    {
     "cell_type": "markdown",
     "metadata": {},
     "source": [
      "Modellfehler in der Parametrierung"
     ]
    },
    {
     "cell_type": "code",
     "collapsed": false,
     "input": [
      "model_error_on = False\n",
      "if model_error_on:\n",
      "    model_error=0.2*np.random.randn(10,6)+1\n",
      "else:\n",
      "    model_error=np.ones((10,6))\n",
      "    \n",
      "params_values_error = zip(mm,para_m*model_error[:,0]) + zip(II,para_I*model_error[:,1]) + zip(aa,para_a*model_error[:,2]) + zip(kk,para_k*model_error[:,3]) + zip(dd,para_d*model_error[:,4]) + zip(g,para_g*model_error[0,5])\n",
      "params_values = zip(mm,para_m) + zip(II,para_I) + zip(aa,para_a) + zip(kk,para_k) + zip(dd,para_d) + zip(g,para_g)\n"
     ],
     "language": "python",
     "metadata": {},
     "outputs": [],
     "prompt_number": 3
    },
    {
     "cell_type": "markdown",
     "metadata": {},
     "source": [
      "Stelle Modell nach externen Groessen um"
     ]
    },
    {
     "cell_type": "code",
     "collapsed": false,
     "input": [
      "subslist_force=zip(mod1.extforce_list,sp.zeros(mod1.qdds.shape[0],1))\n",
      "sol = mod1.eq_list.subs(subslist_force)\n",
      "FF = sp.Matrix([sol[0].subs(params_values_error)])\n",
      "for index in range(1,nr_aj):\n",
      "    FF = st.row_stack(FF,sp.Matrix([sol[index*2].subs(params_values_error)]))\n"
     ],
     "language": "python",
     "metadata": {},
     "outputs": [],
     "prompt_number": 4
    },
    {
     "cell_type": "markdown",
     "metadata": {},
     "source": [
      "build lambda-functions"
     ]
    },
    {
     "cell_type": "code",
     "collapsed": false,
     "input": [
      "FF_fnc =    sp.lambdify([mod1.qs[0],mod1.qs[1], mod1.qs[2],mod1.qs[3], mod1.qds[0],mod1.qds[1],\\\n",
      "                         mod1.qds[2],mod1.qds[3],mod1.qdds[0],mod1.qdds[1],mod1.qdds[2],mod1.qdds[3]],FF,'numpy')\n"
     ],
     "language": "python",
     "metadata": {},
     "outputs": [],
     "prompt_number": 5
    },
    {
     "cell_type": "markdown",
     "metadata": {},
     "source": [
      "alternativer Zugang"
     ]
    },
    {
     "cell_type": "code",
     "collapsed": false,
     "input": [
      "subslist_M = zip(mod1.qdds, sp.zeros(mod1.qdds.shape[0],1))\n",
      "temp = -mod1.eq_list.subs(subslist_M).subs(params_values)\n",
      "Mq_dd_func = sp.lambdify([mod1.qs[0],mod1.qs[1], mod1.qs[2],mod1.qs[3], mod1.qds[0],mod1.qds[1],\\\n",
      "                         mod1.qds[2],mod1.qds[3],mod1.extforce_list[0],mod1.extforce_list[1],\\\n",
      "                         mod1.extforce_list[2],mod1.extforce_list[3]],temp,'numpy')\n",
      "M=mod1.MM.subs(params_values)\n",
      "M_func = sp.lambdify([mod1.qs[0],mod1.qs[1], mod1.qs[2],mod1.qs[3], mod1.qds[0],mod1.qds[1],\\\n",
      "                         mod1.qds[2],mod1.qds[3],mod1.extforce_list[0],mod1.extforce_list[1],\\\n",
      "                         mod1.extforce_list[2],mod1.extforce_list[3]],M,'numpy')\n"
     ],
     "language": "python",
     "metadata": {},
     "outputs": [],
     "prompt_number": 6
    },
    {
     "cell_type": "code",
     "collapsed": false,
     "input": [
      "def calc_F_traj(t):\n",
      "       \n",
      "    states=qq_traj(t)  \n",
      "  \n",
      "    f1 = FF_fnc(states[0],0,states[1],0,states[2],0,states[3],0,states[4],0,states[5],0)[0]\n",
      "    f2 = FF_fnc(states[0],0,states[1],0,states[2],0,states[3],0,states[4],0,states[5],0)[1]\n",
      "     \n",
      "    return f1, f2"
     ],
     "language": "python",
     "metadata": {},
     "outputs": [],
     "prompt_number": 7
    },
    {
     "cell_type": "code",
     "collapsed": false,
     "input": [
      "def pd_controller(z,t):\n",
      "    q1, q2, q3, q4, q1_d, q2_d, q3_d, q4_d = z\n",
      "    \n",
      "    k=1e7*np.ones((nr_aj,1))\n",
      "    states=qq_traj(t)\n",
      "    zstern=[states[0],q2,states[1],q4,states[2],q2_d,states[3],q4_d]\n",
      "    states2=states[:4:]\n",
      "    states2=states2.reshape((2,-1))\n",
      "    #states2=states2[::,:nr_aj:]\n",
      "    # Fehler\n",
      "    e=states2-z[::2].reshape((2,-1))\n",
      "    e=e.T\n",
      "    man=np.ones((nr_aj,1))\n",
      "\n",
      "    #f = (k*e).dot(man)+FF_fnc(states[0],0,states[1],0,states[2],0,states[3],0,states[4],0,states[5],0)\n",
      "    f = -np.dot(Bk_opt,z-zstern)[0::2]+FF_fnc(states[0],0,states[1],0,states[2],0,states[3],0,states[4],0,states[5],0)\n",
      "    return f[0,0],f[1,0]"
     ],
     "language": "python",
     "metadata": {},
     "outputs": [],
     "prompt_number": 39
    },
    {
     "cell_type": "code",
     "collapsed": false,
     "input": [
      "def get_zd(z,t):\n",
      "    q1, q2, q3, q4, q1_d, q2_d, q3_d, q4_d = z\n",
      "    f1 = 0 #force1(q1)\n",
      "    f2 = 0 #force2(q1,q2)\n",
      "    f1, f2 = pd_controller(z,t)\n",
      "    \n",
      "    # Stellgr\u00f6\u00dfenbegrenzung\n",
      "    #f1 = np.clip(f1,-3e5,3e5)\n",
      "    #f2 = np.clip(f2,-3e5,3e5)\n",
      "    #global f,temp_zd\n",
      "    #if temp_zd:\n",
      "    #    f=np.array([[f1,f2]])\n",
      "    #    temp_zd = False\n",
      "    #else: f = np.concatenate((f,np.array([[f1,f2]])),axis=0)\n",
      "    #q0=r_[pi/3, 0, -pi/2, 0, 0, 0.0, 0,0]\n",
      "    #qq_dd=mod1.A_para.subs(sub_qq_0)*(z-q0).reshape((-1,1))+mod1.B_para.subs(sub_qq_0)*np.array([[f1],[0],[f2],[0]])\n",
      "    A_schlange=A#A_fnc(q1,q2,q3,q4)\n",
      "    B_schlange=B#B_fnc(q1,q2,q3,q4)\n",
      "    #qq_dd=np.dot(A,(z-q0))+np.dot(B_schlange,np.array([f1,0,f2,0]))\n",
      "    qq_dd=np.dot(A_schlange,(z-z1))+np.dot(B_schlange,np.array([f1,0,f2,0]))\n",
      "    #rhs_eq = Mq_dd_func(q1, q2, q3,q4, q1_d, q2_d, q3_d, q4_d,f1,0,f2,0)\n",
      "    #M_eq = M_func(q1, q2, q3,q4, q1_d, q2_d, q3_d, q4_d,f1,0,f2,0)\n",
      "    #qq_dd = M_eq**-1*rhs_eq\n",
      "        \n",
      "    #print q1_dd\n",
      "    #print q2_dd\n",
      "    #print t\n",
      "    #return r_[q1_d,q2_d,q3_d,q4_d,q1_dd,q2_dd,q3_dd,q4_dd]\n",
      "    #return r_[q1_d,q2_d,q3_d,q4_d,qq_dd[0,0],qq_dd[1,0],qq_dd[2,0],qq_dd[3,0]]\n",
      "    return qq_dd\n",
      "    "
     ],
     "language": "python",
     "metadata": {},
     "outputs": [],
     "prompt_number": 9
    },
    {
     "cell_type": "markdown",
     "metadata": {},
     "source": [
      "Simulationseinstellungen"
     ]
    },
    {
     "cell_type": "code",
     "collapsed": false,
     "input": [
      "tt = np.linspace(0,10,1000)\n",
      "\n",
      "error_q11 = 0\n",
      "error_q21 = 0\n",
      "q11_t0 = pi/3 # -pi/4\n",
      "q21_t0 = -pi/2 # pi/4\n",
      "z0 = r_[q11_t0 + error_q11, 0, q21_t0 + error_q21, 0, 0.0, 0.0, 0,0.0]\n",
      "#z1 = r_[q11_t0 + error_q11, 0, q21_t0 + error_q21, 0, 0, 0.0, 0,0]\n",
      "\n",
      "q1_end = q11_t0 # 3*pi/4\n",
      "q2_end = q21_t0 # pi/2\n",
      "#qq_traj=traj.calc_traj(tt[0],tt[-1]/2,z0[0],q1_end,z0[2],q2_end)\n",
      "qq_traj=traj.calc_traj(tt[0],tt[-1]/2,q11_t0,q1_end,q21_t0,q2_end)\n",
      "q0=r_[pi/3, 0, -pi/2, 0, 0, 0.0, 0,0]"
     ],
     "language": "python",
     "metadata": {},
     "outputs": [],
     "prompt_number": 27
    },
    {
     "cell_type": "code",
     "collapsed": false,
     "input": [
      "sub_qq_0=zip(['q1_0'],[q11_t0])+zip(['q2_0'],[0])+zip(['q3_0'],[q21_t0])+zip(['q4_0'],[0])\n",
      "#A=st.to_np(mod1.A.subs(params_values).subs(sub_qq_0))\n",
      "A=mod1.A.subs(params_values)\n",
      "A=A.subs(sub_qq_0)\n",
      "A=st.to_np(A)\n",
      "#A_fnc = sp.lambdify(['q1_0','q2_0','q3_0','q4_0'],A,'numpy')\n",
      "#B=st.to_np(mod1.B.subs(params_values).subs(sub_qq_0))\n",
      "B=mod1.B.subs(params_values)\n",
      "B=B.subs(sub_qq_0)\n",
      "B=st.to_np(B)\n",
      "#B_fnc = sp.lambdify(['q1_0','q2_0','q3_0','q4_0'],B,'numpy')"
     ],
     "language": "python",
     "metadata": {},
     "outputs": [],
     "prompt_number": 12
    },
    {
     "cell_type": "code",
     "collapsed": false,
     "input": [
      "import pycontroltools.linearcontrol.robust_poleplacement as opt\n",
      "eig = [-1,-2,-3,-4,-5,-6,-7,-8]\n",
      "Bk_opt = opt.opt_place_MI(A, B, eig)"
     ],
     "language": "python",
     "metadata": {},
     "outputs": [
      {
       "output_type": "stream",
       "stream": "stdout",
       "text": [
        "0 -1.42594150255e-05\n",
        "1"
       ]
      },
      {
       "output_type": "stream",
       "stream": "stdout",
       "text": [
        " 0.000823411140012\n",
        "2"
       ]
      },
      {
       "output_type": "stream",
       "stream": "stdout",
       "text": [
        " 0.00279557077119\n",
        "3"
       ]
      },
      {
       "output_type": "stream",
       "stream": "stdout",
       "text": [
        " 0.003096205921\n",
        "4"
       ]
      },
      {
       "output_type": "stream",
       "stream": "stdout",
       "text": [
        " 0.0032632009276\n",
        "5"
       ]
      },
      {
       "output_type": "stream",
       "stream": "stdout",
       "text": [
        " 0.00335221236221\n",
        "6"
       ]
      },
      {
       "output_type": "stream",
       "stream": "stdout",
       "text": [
        " 0.00340953448587\n",
        "7"
       ]
      },
      {
       "output_type": "stream",
       "stream": "stdout",
       "text": [
        " 0.00344778989998\n",
        "8"
       ]
      },
      {
       "output_type": "stream",
       "stream": "stdout",
       "text": [
        " 0.00347255683255\n"
       ]
      }
     ],
     "prompt_number": 33
    },
    {
     "cell_type": "code",
     "collapsed": false,
     "input": [
      "print \"simulate\"\n",
      "lsg = odeint(get_zd,z0,tt)\n",
      "\n",
      "lsg2 = np.concatenate( (tt.reshape(-1, 1) , lsg), axis=1)\n"
     ],
     "language": "python",
     "metadata": {},
     "outputs": [
      {
       "output_type": "stream",
       "stream": "stdout",
       "text": [
        "simulate\n"
       ]
      }
     ],
     "prompt_number": 40
    },
    {
     "cell_type": "code",
     "collapsed": false,
     "input": [
      "qq_soll = qq_traj(tt)\n",
      "e1 = qq_soll[:,0]-lsg2[:,1]\n",
      "e1_d = qq_soll[:,2]-lsg2[:,5]\n",
      "e2 = qq_soll[:,1]-lsg2[:,3]\n",
      "e2_d = qq_soll[:,3]-lsg2[:,7]"
     ],
     "language": "python",
     "metadata": {},
     "outputs": [],
     "prompt_number": 41
    },
    {
     "cell_type": "code",
     "collapsed": false,
     "input": [
      "# Einbetten von Graphen direkt in den Browser\n",
      "%matplotlib inline "
     ],
     "language": "python",
     "metadata": {},
     "outputs": [],
     "prompt_number": 42
    },
    {
     "cell_type": "code",
     "collapsed": false,
     "input": [
      "deg=180/pi\n",
      "fig = plt.figure(1)\n",
      "ax = fig.add_subplot(1,1,1)\n",
      "ax.set_title(\"odeint\")\n",
      "ax.plot(tt,(lsg[:,2]*deg), label= r\"$q_3$\")\n",
      "ax.plot(tt, (lsg[:,0]*deg), label= r\"$q_1$\")\n",
      "ax.plot(tt,(lsg[:,1]*deg), label= r\"$q_2$\")\n",
      "ax.plot(tt,(lsg[:,3]*deg), label= r\"$q_4$\")\n",
      "ax.set_xlabel(\"$t$ in s\")\n",
      "ax.set_ylabel(\"$\\phi_2$\")\n",
      "ax.legend()\n",
      "plt.show()\n",
      "np.save('lsg_outfile',lsg2)"
     ],
     "language": "python",
     "metadata": {},
     "outputs": [
      {
       "metadata": {},
       "output_type": "display_data",
       "png": "[encoded data removed]",
       "text": [
        "<matplotlib.figure.Figure at 0x7fa4be0b5c50>"
       ]
      }
     ],
     "prompt_number": 43
    },
    {
     "cell_type": "code",
     "collapsed": false,
     "input": [
      "fig2 = plt.figure(2)\n",
      "a1=fig2.add_subplot(2,2,1)\n",
      "a1.set_title('e1')\n",
      "a1.plot(tt,e1*deg)\n",
      "a2=fig2.add_subplot(2,2,2)\n",
      "a2.set_title('e1_d')\n",
      "a2.plot(tt,e1_d*deg)\n",
      "a3=fig2.add_subplot(2,2,3)\n",
      "a3.set_title('e2')\n",
      "a3.plot(tt,e2*deg)\n",
      "a4=fig2.add_subplot(2,2,4)\n",
      "a4.set_title('e2_d')\n",
      "a4.plot(tt,e2_d*deg)\n",
      "plt.show()"
     ],
     "language": "python",
     "metadata": {},
     "outputs": [
      {
       "metadata": {},
       "output_type": "display_data",
       "png": "[encoded data removed]",
       "text": [
        "<matplotlib.figure.Figure at 0x7fa4be6288d0>"
       ]
      }
     ],
     "prompt_number": 44
    },
    {
     "cell_type": "code",
     "collapsed": false,
     "input": [],
     "language": "python",
     "metadata": {},
     "outputs": [],
     "prompt_number": 44
    }
   ],
   "metadata": {}
  }
 ]
}