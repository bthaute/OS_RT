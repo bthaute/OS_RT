{
 "metadata": {
  "name": "",
  "signature": "sha256:e3feec99342981be264a55adf88bf44d6920c1363bb67f0513a39dcbf2d8bef7"
 },
 "nbformat": 3,
 "nbformat_minor": 0,
 "worksheets": [
  {
   "cells": [
    {
     "cell_type": "markdown",
     "metadata": {},
     "source": [
      "Simulation"
     ]
    },
    {
     "cell_type": "code",
     "collapsed": false,
     "input": [
      "import sympy as sp\n",
      "import symb_tools as st\n",
      "import numpy as np\n",
      "\n",
      "np.set_printoptions(linewidth=300, precision=3) # f\u00fcr bessere Darstellung von gr\u00f6\u00dferen 2d-arrays\n",
      "\n",
      "from numpy import r_,pi\n",
      "from scipy.integrate import odeint\n",
      "import pylab as pl\n",
      "import matplotlib.pyplot as plt\n",
      "from IPython import embed as IPS\n",
      "\n",
      "import traj_2dof as traj\n",
      "from parameter_springs import para_g, para_m, para_a, para_k, para_d, para_I\n",
      "\n",
      "from model import mod1"
     ],
     "language": "python",
     "metadata": {},
     "outputs": [],
     "prompt_number": 12
    },
    {
     "cell_type": "code",
     "collapsed": false,
     "input": [
      "nr_aj = 2  \n",
      "\n",
      "II = sp.Matrix([sp.symbols(\"I1\")])\n",
      "mm = sp.Matrix([sp.symbols(\"m1\")])\n",
      "aa = sp.Matrix([sp.symbols(\"a1\")])\n",
      "kk = sp.Matrix([sp.symbols(\"k1\")])\n",
      "dd = sp.Matrix([sp.symbols(\"d1\")])\n",
      "qq_0 = sp.Matrix([sp.symbols(\"q1_0\")])\n",
      "g = sp.Matrix([sp.Symbol(\"g\")])\n",
      "for index in range(2,2*(nr_aj)+1):\n",
      "    II = st.row_stack(II,sp.Matrix([sp.symbols(\"I\"+np.str(index))]))\n",
      "    mm = st.row_stack(mm,sp.Matrix([sp.symbols(\"m\"+np.str(index))]))\n",
      "    aa = st.row_stack(aa,sp.Matrix([sp.symbols(\"a\"+np.str(index))]))\n",
      "    kk = st.row_stack(kk,sp.Matrix([sp.symbols(\"k\"+np.str(index))]))\n",
      "    dd = st.row_stack(dd,sp.Matrix([sp.symbols(\"d\"+np.str(index))]))\n",
      "    qq_0 = st.row_stack(qq_0,sp.Matrix([sp.symbols(\"q\"+np.str(index)+\"_0\")]))\n"
     ],
     "language": "python",
     "metadata": {},
     "outputs": [],
     "prompt_number": 13
    },
    {
     "cell_type": "markdown",
     "metadata": {},
     "source": [
      "Modellfehler in der Parametrierung"
     ]
    },
    {
     "cell_type": "code",
     "collapsed": false,
     "input": [
      "model_error_on = False\n",
      "if model_error_on:\n",
      "    model_error=0.2*np.random.randn(10,6)+1\n",
      "else:\n",
      "    model_error=np.ones((10,6))\n",
      "    \n",
      "params_values_error = zip(mm,para_m*model_error[:,0]) + zip(II,para_I*model_error[:,1]) + zip(aa,para_a*model_error[:,2]) + zip(kk,para_k*model_error[:,3]) + zip(dd,para_d*model_error[:,4]) + zip(g,para_g*model_error[0,5])\n",
      "params_values = zip(mm,para_m) + zip(II,para_I) + zip(aa,para_a) + zip(kk,para_k) + zip(dd,para_d) + zip(g,para_g)\n"
     ],
     "language": "python",
     "metadata": {},
     "outputs": [],
     "prompt_number": 72
    },
    {
     "cell_type": "markdown",
     "metadata": {},
     "source": [
      "Stelle Modell nach externen Groessen um"
     ]
    },
    {
     "cell_type": "code",
     "collapsed": false,
     "input": [
      "subslist_force=zip(mod1.extforce_list,sp.zeros(mod1.qdds.shape[0],1))\n",
      "sol = mod1.eq_list.subs(subslist_force)\n",
      "FF = sp.Matrix([sol[0].subs(params_values_error)])\n",
      "for index in range(1,nr_aj):\n",
      "    FF = st.row_stack(FF,sp.Matrix([sol[index*2].subs(params_values_error)]))\n"
     ],
     "language": "python",
     "metadata": {},
     "outputs": [],
     "prompt_number": 73
    },
    {
     "cell_type": "markdown",
     "metadata": {},
     "source": [
      "build lambda-functions"
     ]
    },
    {
     "cell_type": "code",
     "collapsed": false,
     "input": [
      "FF_fnc0 =    sp.lambdify([mod1.qs[0],mod1.qs[1], mod1.qs[2],mod1.qs[3], mod1.qds[0],mod1.qds[1],\\\n",
      "                         mod1.qds[2],mod1.qds[3],mod1.qdds[0],mod1.qdds[1],mod1.qdds[2],mod1.qdds[3]],list(FF),'numpy') \n",
      "def FF_fnc(*args):\n",
      "    return st.to_np(FF_fnc0(*args))"
     ],
     "language": "python",
     "metadata": {},
     "outputs": [],
     "prompt_number": 74
    },
    {
     "cell_type": "markdown",
     "metadata": {},
     "source": [
      "alternativer Zugang"
     ]
    },
    {
     "cell_type": "code",
     "collapsed": false,
     "input": [
      "subslist_M = zip(mod1.qdds, sp.zeros(mod1.qdds.shape[0],1))\n",
      "temp = -mod1.eq_list.subs(subslist_M).subs(params_values)\n",
      "Mq_dd_func = sp.lambdify([mod1.qs[0],mod1.qs[1], mod1.qs[2],mod1.qs[3], mod1.qds[0],mod1.qds[1],\\\n",
      "                         mod1.qds[2],mod1.qds[3],mod1.extforce_list[0],mod1.extforce_list[1],\\\n",
      "                         mod1.extforce_list[2],mod1.extforce_list[3]],temp,'numpy')\n",
      "M=mod1.MM.subs(params_values)\n",
      "M_func = sp.lambdify([mod1.qs[0],mod1.qs[1], mod1.qs[2],mod1.qs[3], mod1.qds[0],mod1.qds[1],\\\n",
      "                         mod1.qds[2],mod1.qds[3],mod1.extforce_list[0],mod1.extforce_list[1],\\\n",
      "                         mod1.extforce_list[2],mod1.extforce_list[3]],M,'numpy')\n"
     ],
     "language": "python",
     "metadata": {},
     "outputs": [],
     "prompt_number": 17
    },
    {
     "cell_type": "markdown",
     "metadata": {},
     "source": [
      "# Testzelle\n",
      "w1=qq_traj(2.5)\n",
      "w1[:4].reshape((2,-1))\n",
      "FF_fnc(*([0]*12))\n",
      "sp.Matrix(A)\n",
      "pd_controller(z1,0)"
     ]
    },
    {
     "cell_type": "code",
     "collapsed": false,
     "input": [
      "def pd_controller(z,t):\n",
      "    q1, q2, q3, q4, q1_d, q2_d, q3_d, q4_d = z\n",
      "    \n",
      "    \n",
      "    k=1e7*np.ones((nr_aj,))\n",
      "    states=qq_traj(t)  #sollzustand\n",
      "    \n",
      "    states2=states[:4]\n",
      "    states2=states2.reshape((2,-1))\n",
      "   \n",
      "    # Fehler\n",
      "    e=states2-z[::2].reshape((2,-1))\n",
      "    e=e.T\n",
      "    #man=np.ones((nr_aj,1))\n",
      "    \n",
      "    f_regler=np.dot(e,k)\n",
      "    f_steuer=FF_fnc(states[0],0,states[1],0,states[2],0,states[3],0,states[4],0,states[5],0)\n",
      "    f = f_regler+f_steuer\n",
      "    #f = np.dot(Bk_opt,z)[0::2]+FF_fnc(states[0],0,states[1],0,states[2],0,states[3],0,states[4],0,states[5],0)\n",
      "    return f_regler, f_steuer"
     ],
     "language": "python",
     "metadata": {},
     "outputs": [],
     "prompt_number": 18
    },
    {
     "cell_type": "code",
     "collapsed": false,
     "input": [
      "def get_zd(z,t):\n",
      "    q1, q2, q3, q4, q1_d, q2_d, q3_d, q4_d = z\n",
      "    f1 = 0 #force1(q1)\n",
      "    f2 = 0 #force2(q1,q2)\n",
      "    #fr, fv = pd_controller(z,t)\n",
      "    fr = pd_feedback_new(z,t)\n",
      "    fv = FF_fnc(*np.concatenate((z0,[0,0,0,0])))\n",
      "    # Stellgr\u00f6\u00dfenbegrenzung\n",
      "    #f1 = np.clip(f1,-3e5,3e5)\n",
      "    #f2 = np.clip(f2,-3e5,3e5)\n",
      "    #global f,temp_zd\n",
      "    #if temp_zd:\n",
      "    #    f=np.array([[f1,f2]])\n",
      "    #    temp_zd = False\n",
      "    #else: f = np.concatenate((f,np.array([[f1,f2]])),axis=0)\n",
      "    #q0=r_[pi/3, 0, -pi/2, 0, 0, 0.0, 0,0]\n",
      "    #qq_dd=mod1.A_para.subs(sub_qq_0)*(z-q0).reshape((-1,1))+mod1.B_para.subs(sub_qq_0)*np.array([[f1],[0],[f2],[0]])\n",
      "    if 0:\n",
      "        f1, f2 = fr\n",
      "        A_schlange=A   #A_fnc(q1,q2,q3,q4)\n",
      "        B_schlange=B   #B_fnc(q1,q2,q3,q4)\n",
      "        \n",
      "        qq_dd=np.dot(A_schlange,z-z1)+np.dot(B_schlange,np.array([f1,0,f2,0]))\n",
      "        return qq_dd\n",
      "    else:\n",
      "        f1, f2 = fr + fv\n",
      "        rhs_eq = Mq_dd_func(q1, q2, q3,q4, q1_d, q2_d, q3_d, q4_d,f1,0,f2,0)\n",
      "        M_eq = M_func(q1, q2, q3,q4, q1_d, q2_d, q3_d, q4_d,f1,0,f2,0)\n",
      "        qq_dd = M_eq**-1*rhs_eq\n",
      "        return r_[q1_d,q2_d,q3_d,q4_d,qq_dd[0,0],qq_dd[1,0],qq_dd[2,0],qq_dd[3,0]]\n",
      "    "
     ],
     "language": "python",
     "metadata": {},
     "outputs": [],
     "prompt_number": 19
    },
    {
     "cell_type": "markdown",
     "metadata": {},
     "source": [
      "Simulationseinstellungen"
     ]
    },
    {
     "cell_type": "code",
     "collapsed": false,
     "input": [
      "tt = np.linspace(0,10,1000)\n",
      "\n",
      "error_q11 = 0\n",
      "error_q21 = 0\n",
      "q11_t0 = pi/3 # -pi/4\n",
      "q21_t0 = -pi/2 # pi/4\n",
      "z0 = r_[q11_t0 + error_q11, 0, q21_t0 + error_q21, 0, 0.0, 0.0, 0,0.0]\n",
      "z1 = r_[q11_t0 + error_q11, 0, q21_t0 + error_q21, 0, 0, 0.0, 0,0]\n",
      "\n",
      "q1_end = q11_t0 # 3*pi/4\n",
      "q2_end = q21_t0 # pi/2\n",
      "\n",
      "qq_traj=traj.calc_traj(tt[0],tt[-1]/2,q11_t0,q1_end,q21_t0,q2_end)\n",
      "q0=r_[pi/3, 0, -pi/2, 0, 0, 0.0, 0,0]"
     ],
     "language": "python",
     "metadata": {},
     "outputs": [],
     "prompt_number": 20
    },
    {
     "cell_type": "code",
     "collapsed": false,
     "input": [
      "z0"
     ],
     "language": "python",
     "metadata": {},
     "outputs": [
      {
       "metadata": {},
       "output_type": "pyout",
       "prompt_number": 21,
       "text": [
        "array([ 1.047,  0.   , -1.571,  0.   ,  0.   ,  0.   ,  0.   ,  0.   ])"
       ]
      }
     ],
     "prompt_number": 21
    },
    {
     "cell_type": "code",
     "collapsed": false,
     "input": [
      "# \u00dcberpr\u00fcfung, ob z0 wirklich eine Ruhelage ist\n",
      "get_zd(z0, 0)"
     ],
     "language": "python",
     "metadata": {},
     "outputs": [
      {
       "metadata": {},
       "output_type": "pyout",
       "prompt_number": 57,
       "text": [
        "array([  0.000e+00,   0.000e+00,   0.000e+00,   0.000e+00,   1.440e-14,  -3.272e-14,   1.873e-14,  -9.279e-16])"
       ]
      }
     ],
     "prompt_number": 57
    },
    {
     "cell_type": "markdown",
     "metadata": {},
     "source": [
      "-> Alle 4 Gelenke weisen eine erhebliche Beschleunigung auf!\n",
      "\n",
      "ist auch logisch, weil die \"z0-Ruhelage\" ja auf dem vollst\u00e4ndig aktuierten Modell beruht"
     ]
    },
    {
     "cell_type": "code",
     "collapsed": false,
     "input": [
      "# Tats\u00e4chliche Ruhelage bestimmen\n",
      "\n",
      "# Alle Beschleunigungen und Geschwindigkeiten 0 setzen\n",
      "eqlbr_sl1 = st.zip0(mod1.qdds)+st.zip0(mod1.qds)\n",
      "\n",
      "# Andere Bedingungen f\u00fcr konkrete Wunschruhelage:\n",
      "passive_joints= [(\"F2\", 0), (\"F4\", 0)]\n",
      "z0_setpoint = [(\"q1\", z0[0]), (\"q3\", z0[2])]\n",
      "z0_setpoint\n",
      "\n",
      "\n"
     ],
     "language": "python",
     "metadata": {},
     "outputs": [
      {
       "metadata": {},
       "output_type": "pyout",
       "prompt_number": 23,
       "text": [
        "[('q1', 1.0471975511965976), ('q3', -1.5707963267948966)]"
       ]
      }
     ],
     "prompt_number": 23
    },
    {
     "cell_type": "code",
     "collapsed": false,
     "input": [
      "EQL = mod1.eq_list.subs(eqlbr_sl1 + params_values + passive_joints + z0_setpoint)\n",
      "EQL"
     ],
     "language": "python",
     "metadata": {},
     "outputs": [
      {
       "metadata": {},
       "output_type": "pyout",
       "prompt_number": 24,
       "text": [
        "Matrix([\n",
        "[-F1 + 50013.915*cos(q2 - 0.523598775598299) + 103153.6996875*cos(q2 + 1.0471975511966) + 16671.305*cos(q2 + q4 - 0.523598775598299) + 79709.67703125],\n",
        "[       20000000.0*q2 + 50013.915*cos(q2 - 0.523598775598299) + 103153.6996875*cos(q2 + 1.0471975511966) + 16671.305*cos(q2 + q4 - 0.523598775598299)],\n",
        "[                                                            -F3 + 50013.915*cos(q2 - 0.523598775598299) + 16671.305*cos(q2 + q4 - 0.523598775598299)],\n",
        "[                                                                                          10000000.0*q4 + 16671.305*cos(q2 + q4 - 0.523598775598299)]])"
       ]
      }
     ],
     "prompt_number": 24
    },
    {
     "cell_type": "markdown",
     "metadata": {},
     "source": [
      "Das ist ein nichtlineares Gleichungssystem: 4 Gleichungen, 4 Unbekannte: $F_1, F_2, q_2, q_4$<br>\n",
      "Das will ich jetz l\u00f6sen."
     ]
    },
    {
     "cell_type": "code",
     "collapsed": false,
     "input": [
      "# Schnell die Symbole neu besorgen:\n",
      "F1, F3, q2, q4 = sp.symbols(\"F1, F3, q2, q4\")\n",
      "# sp.solve(EQL, [F1, F3, q2, q4]) # geht nicht (allgemeines Nichtlineares GS, das kann sympy nicht symbolisch l\u00f6sen)\n",
      "# -> numerisch L\u00f6sen!\n",
      "# Funktion der rechten Seite:\n",
      "EQL_rhs0 = st.expr_to_func([F1, F3, q2, q4], EQL)\n",
      "# Test.\n",
      "def EQL_rhs(arr):\n",
      "    # array auspacken\n",
      "    return EQL_rhs0(*arr)\n",
      "\n",
      "EQL_rhs([0, 0, 0, 0])\n"
     ],
     "language": "python",
     "metadata": {},
     "outputs": [
      {
       "metadata": {},
       "output_type": "pyout",
       "prompt_number": 25,
       "text": [
        "[189037.62145195392, 109327.94442070392, 57751.094576954121, 14437.77364423853]"
       ]
      }
     ],
     "prompt_number": 25
    },
    {
     "cell_type": "code",
     "collapsed": false,
     "input": [
      "import scipy.optimize\n",
      "sol = scipy.optimize.fsolve(EQL_rhs, [0]*4)\n",
      "sol"
     ],
     "language": "python",
     "metadata": {},
     "outputs": [
      {
       "metadata": {},
       "output_type": "pyout",
       "prompt_number": 26,
       "text": [
        "array([  1.893e+05,   5.756e+04,  -5.481e-03,  -1.438e-03])"
       ]
      }
     ],
     "prompt_number": 26
    },
    {
     "cell_type": "code",
     "collapsed": false,
     "input": [
      "F1_sol, F3_sol, q2_sol, q4_sol = sol\n",
      "F_sol = sp.Matrix([F1_sol, 0, F3_sol, 0])"
     ],
     "language": "python",
     "metadata": {},
     "outputs": [],
     "prompt_number": 27
    },
    {
     "cell_type": "code",
     "collapsed": false,
     "input": [
      "z0_alt = z0*1 # Sicherheitskopie anlegen (Ohne \"*1\" wird nur Referenz erstellt, die auf die gleichen Daten zugreift)\n",
      "z0[1] = q2_sol\n",
      "z0[3] = q4_sol\n",
      "z0"
     ],
     "language": "python",
     "metadata": {},
     "outputs": [
      {
       "metadata": {},
       "output_type": "pyout",
       "prompt_number": 28,
       "text": [
        "array([  1.047e+00,  -5.481e-03,  -1.571e+00,  -1.438e-03,   0.000e+00,   0.000e+00,   0.000e+00,   0.000e+00])"
       ]
      }
     ],
     "prompt_number": 28
    },
    {
     "cell_type": "markdown",
     "metadata": {},
     "source": [
      "#### Jetzt mit bekannter Ruhelage kann die Matrix der Linearisierung bestimmt werden\n",
      "Ausgangspunkt:\n",
      "$$M(q)\\ddot q = \\operatorname{rest}(q, \\dot q, F)$$\n"
     ]
    },
    {
     "cell_type": "code",
     "collapsed": false,
     "input": [
      "qq_state = st.row_stack(mod1.qs, mod1.qds)\n",
      "qq_state"
     ],
     "language": "python",
     "metadata": {},
     "outputs": [
      {
       "metadata": {},
       "output_type": "pyout",
       "prompt_number": 29,
       "text": [
        "Matrix([\n",
        "[  q1],\n",
        "[  q2],\n",
        "[  q3],\n",
        "[  q4],\n",
        "[q1_d],\n",
        "[q2_d],\n",
        "[q3_d],\n",
        "[q4_d]])"
       ]
      }
     ],
     "prompt_number": 29
    },
    {
     "cell_type": "code",
     "collapsed": false,
     "input": [
      "eq_list2 = mod1.eq_list.subs(params_values)\n",
      "\n",
      "# rechte Seite:\n",
      "rest = -eq_list2.subs(st.zip0(mod1.qdds))\n",
      "M_neu = eq_list2.jacobian(mod1.qdds)\n",
      "\n",
      "# Konsistenzpr\u00fcfung zu oben:\n",
      "assert st.random_equaltest(M, M_neu)"
     ],
     "language": "python",
     "metadata": {},
     "outputs": [],
     "prompt_number": 30
    },
    {
     "cell_type": "code",
     "collapsed": false,
     "input": [
      "# links Seite:\n",
      "M_const = M.subs(zip(qq_state, z0))\n",
      "M_const"
     ],
     "language": "python",
     "metadata": {},
     "outputs": [
      {
       "metadata": {},
       "output_type": "pyout",
       "prompt_number": 31,
       "text": [
        "Matrix([\n",
        "[262275.115998046, 139766.439210658,  42908.793225297, 14685.3260606459],\n",
        "[139766.439210658,   92611.49492327, 43087.5129312073,  14738.256211635],\n",
        "[ 42908.793225297, 43087.5129312073, 43098.5134391445, 14749.2567195723],\n",
        "[14685.3260606459,  14738.256211635, 14749.2567195723,       7949.26375]])"
       ]
      }
     ],
     "prompt_number": 31
    },
    {
     "cell_type": "code",
     "collapsed": false,
     "input": [
      "# rechte Seite:\n",
      "A_tmp = rest.jacobian(qq_state).subs(zip(qq_state, z0))\n",
      "A_tmp"
     ],
     "language": "python",
     "metadata": {},
     "outputs": [
      {
       "metadata": {},
       "output_type": "pyout",
       "prompt_number": 32,
       "text": [
        "Matrix([\n",
        "[ 193431.568066382,   55370.357593351, -33679.3308805906, -8435.34755484897, 0,     0, 0,     0],\n",
        "[  55370.357593351, -19944629.6424066, -33679.3308805906, -8435.34755484897, 0, -10.0, 0,     0],\n",
        "[-33679.3308805906, -33679.3308805906, -33679.3308805906, -8435.34755484897, 0,     0, 0,     0],\n",
        "[-8435.34755484897, -8435.34755484897, -8435.34755484897, -10008435.3475548, 0,     0, 0, -10.0]])"
       ]
      }
     ],
     "prompt_number": 32
    },
    {
     "cell_type": "code",
     "collapsed": false,
     "input": [
      "A_low = M_const.inv()*A_tmp\n",
      "A_low"
     ],
     "language": "python",
     "metadata": {},
     "outputs": [
      {
       "metadata": {},
       "output_type": "pyout",
       "prompt_number": 33,
       "text": [
        "Matrix([\n",
        "[ 1.75353049623927,  1295.56121470608, -0.00489918098145659,  1.73264526907424, 0, 0.000649195479887827, 0,  1.73277675146496e-6],\n",
        "[-1.63143856183164, -2935.50551287614,  0.00956267895357356,  -3.8920241133877, 0,  -0.0014714184728465, 0, -3.89195844899714e-6],\n",
        "[-1.25911925678184,  1646.40942420707,    -1.15061949592922,  1181.99436590403, 0,  0.00082603710708634, 0,  0.00118153551025315],\n",
        "[ 1.06036461895473, -6.69962935346164,     1.06506009878102, -3448.12518058924, 0, -3.89195844899753e-6, 0, -0.00344621302505074]])"
       ]
      }
     ],
     "prompt_number": 33
    },
    {
     "cell_type": "code",
     "collapsed": false,
     "input": [
      "A_up = st.col_stack(sp.zeros(4,4), sp.eye(4))"
     ],
     "language": "python",
     "metadata": {},
     "outputs": [],
     "prompt_number": 34
    },
    {
     "cell_type": "code",
     "collapsed": false,
     "input": [
      "A = st.to_np( st.row_stack(A_up, A_low) )\n",
      "A"
     ],
     "language": "python",
     "metadata": {},
     "outputs": [
      {
       "metadata": {},
       "output_type": "pyout",
       "prompt_number": 35,
       "text": [
        "array([[  0.000e+00,   0.000e+00,   0.000e+00,   0.000e+00,   1.000e+00,   0.000e+00,   0.000e+00,   0.000e+00],\n",
        "       [  0.000e+00,   0.000e+00,   0.000e+00,   0.000e+00,   0.000e+00,   1.000e+00,   0.000e+00,   0.000e+00],\n",
        "       [  0.000e+00,   0.000e+00,   0.000e+00,   0.000e+00,   0.000e+00,   0.000e+00,   1.000e+00,   0.000e+00],\n",
        "       [  0.000e+00,   0.000e+00,   0.000e+00,   0.000e+00,   0.000e+00,   0.000e+00,   0.000e+00,   1.000e+00],\n",
        "       [  1.754e+00,   1.296e+03,  -4.899e-03,   1.733e+00,   0.000e+00,   6.492e-04,   0.000e+00,   1.733e-06],\n",
        "       [ -1.631e+00,  -2.936e+03,   9.563e-03,  -3.892e+00,   0.000e+00,  -1.471e-03,   0.000e+00,  -3.892e-06],\n",
        "       [ -1.259e+00,   1.646e+03,  -1.151e+00,   1.182e+03,   0.000e+00,   8.260e-04,   0.000e+00,   1.182e-03],\n",
        "       [  1.060e+00,  -6.700e+00,   1.065e+00,  -3.448e+03,   0.000e+00,  -3.892e-06,   0.000e+00,  -3.446e-03]])"
       ]
      }
     ],
     "prompt_number": 35
    },
    {
     "cell_type": "code",
     "collapsed": false,
     "input": [
      "# zum Vergleich: das stand vorher im Notebook wurde aber nirgendwo berechnet (war also ein \"Relikt\")\n",
      "A_alt = np.array(\n",
      "       [[  0.000e+00,   0.000e+00,   0.000e+00,   0.000e+00,   1.000e+00,   0.000e+00,   0.000e+00,   0.000e+00],\n",
      "       [  0.000e+00,   0.000e+00,   0.000e+00,   0.000e+00,   0.000e+00,   1.000e+00,   0.000e+00,   0.000e+00],\n",
      "       [  0.000e+00,   0.000e+00,   0.000e+00,   0.000e+00,   0.000e+00,   0.000e+00,   1.000e+00,   0.000e+00],\n",
      "       [  0.000e+00,   0.000e+00,   0.000e+00,   0.000e+00,   0.000e+00,   0.000e+00,   0.000e+00,   1.000e+00],\n",
      "       [  1.749e+00,   1.296e+03,   7.550e-15,   1.776e-15,   0.000e+00,   6.492e-04,   0.000e+00,   0.000e+00],\n",
      "       [ -1.618e+00,  -2.936e+03,  -4.441e-15,  -1.110e-15,   0.000e+00,  -1.471e-03,   0.000e+00,   0.000e+00],\n",
      "       [ -1.268e+00,   1.639e+03,  -1.136e+00,   1.180e+03,   0.000e+00,   8.222e-04,   0.000e+00,   1.179e-03],\n",
      "       [  1.060e+00,   1.060e+00,   1.060e+00,  -3.448e+03,   0.000e+00,   3.349e-18,   0.000e+00,  -3.446e-03]])\n",
      "\n",
      "A_alt-A"
     ],
     "language": "python",
     "metadata": {},
     "outputs": [
      {
       "metadata": {},
       "output_type": "pyout",
       "prompt_number": 36,
       "text": [
        "array([[  0.000e+00,   0.000e+00,   0.000e+00,   0.000e+00,   0.000e+00,   0.000e+00,   0.000e+00,   0.000e+00],\n",
        "       [  0.000e+00,   0.000e+00,   0.000e+00,   0.000e+00,   0.000e+00,   0.000e+00,   0.000e+00,   0.000e+00],\n",
        "       [  0.000e+00,   0.000e+00,   0.000e+00,   0.000e+00,   0.000e+00,   0.000e+00,   0.000e+00,   0.000e+00],\n",
        "       [  0.000e+00,   0.000e+00,   0.000e+00,   0.000e+00,   0.000e+00,   0.000e+00,   0.000e+00,   0.000e+00],\n",
        "       [ -4.530e-03,   4.388e-01,   4.899e-03,  -1.733e+00,   0.000e+00,   4.520e-09,   0.000e+00,  -1.733e-06],\n",
        "       [  1.344e-02,  -4.945e-01,  -9.563e-03,   3.892e+00,   0.000e+00,   4.185e-07,   0.000e+00,   3.892e-06],\n",
        "       [ -8.881e-03,  -7.409e+00,   1.462e-02,  -1.994e+00,   0.000e+00,  -3.837e-06,   0.000e+00,  -2.536e-06],\n",
        "       [ -3.646e-04,   7.760e+00,  -5.060e-03,   1.252e-01,   0.000e+00,   3.892e-06,   0.000e+00,   2.130e-07]])"
       ]
      }
     ],
     "prompt_number": 36
    },
    {
     "cell_type": "code",
     "collapsed": false,
     "input": [
      "B_tmp = rest.jacobian([F1, F3]).subs(zip(qq_state, z0))\n",
      "B_low = M_const.inv()*B_tmp\n",
      "B_low\n",
      "B = st.to_np( st.row_stack(sp.zeros(*B_low.shape), B_low) )\n",
      "B"
     ],
     "language": "python",
     "metadata": {},
     "outputs": [
      {
       "metadata": {},
       "output_type": "pyout",
       "prompt_number": 37,
       "text": [
        "array([[  0.000e+00,   0.000e+00],\n",
        "       [  0.000e+00,   0.000e+00],\n",
        "       [  0.000e+00,   0.000e+00],\n",
        "       [  0.000e+00,   0.000e+00],\n",
        "       [  3.320e-05,   3.191e-05],\n",
        "       [ -6.492e-05,  -8.260e-05],\n",
        "       [  3.191e-05,   1.144e-04],\n",
        "       [ -1.733e-07,  -1.182e-04]])"
       ]
      }
     ],
     "prompt_number": 37
    },
    {
     "cell_type": "code",
     "collapsed": false,
     "input": [
      "states = qq_traj(0)\n",
      "len(states)"
     ],
     "language": "python",
     "metadata": {},
     "outputs": [
      {
       "metadata": {},
       "output_type": "pyout",
       "prompt_number": 38,
       "text": [
        "6"
       ]
      }
     ],
     "prompt_number": 38
    },
    {
     "cell_type": "code",
     "collapsed": false,
     "input": [
      "K_regler = np.array([[ 1, 0, 0, 0, 1, 0 , 0, 0],\n",
      "                      [ 0, 0, 1, 0, 0, 0,  1, 0]])*-1e7\n",
      "\n",
      "\n",
      "def pd_feedback_new(z,t):\n",
      "    \"\"\"\n",
      "    Nur der Regler, keine Vorsteuerung\n",
      "    \"\"\"\n",
      "    \n",
      "    z_tilde = z - z0\n",
      "        \n",
      "    # aktive Komponenten w\u00e4hlen\n",
      "    #e = z_tilde[ [0, 2, 4, 6] ] # diese Index-Notation geht nur bei arrays, nicht bei Listen etc\n",
      "    \n",
      "    \n",
      "    # Hinweis: # Transponieren bei 1d-arrays egal, aber es erlaubt den Aufruf dieser\n",
      "    # Funktion auch mit 2d-arrays f\u00fcr z (vektorisiert)\n",
      "    \n",
      "    f_regler=np.dot(K_regler, z_tilde.T) \n",
      "    \n",
      "    return f_regler.T"
     ],
     "language": "python",
     "metadata": {},
     "outputs": [],
     "prompt_number": 39
    },
    {
     "cell_type": "code",
     "collapsed": false,
     "input": [
      "FF_fnc(*np.concatenate((z0,[0,0,0,0])))\n",
      "pd_feedback_new(z0,0)"
     ],
     "language": "python",
     "metadata": {},
     "outputs": [
      {
       "metadata": {},
       "output_type": "pyout",
       "prompt_number": 40,
       "text": [
        "array([ 0.,  0.])"
       ]
      }
     ],
     "prompt_number": 40
    },
    {
     "cell_type": "code",
     "collapsed": false,
     "input": [
      "def get_zd_new(z,t):\n",
      "    \"\"\"\n",
      "    neue Version der Berechnung der Zustandsableitung (linear)\n",
      "    \"\"\"\n",
      "    \n",
      "    z_tilde = z-z0\n",
      "    \n",
      "    \n",
      "    u_tilde = pd_feedback_new(z, t) # nur der Regler, die Vorsteuerung ist durch die Linearisierung schon rausgefallen\n",
      "    \n",
      "    z_tilde_dot = np.dot(A, z_tilde) + np.dot(B, u_tilde)\n",
      "    \n",
      "    return z_tilde_dot"
     ],
     "language": "python",
     "metadata": {},
     "outputs": [],
     "prompt_number": 41
    },
    {
     "cell_type": "code",
     "collapsed": false,
     "input": [
      "get_zd(z0_alt, 0)"
     ],
     "language": "python",
     "metadata": {},
     "outputs": [
      {
       "metadata": {},
       "output_type": "pyout",
       "prompt_number": 42,
       "text": [
        "array([  0.   ,   0.   ,   0.   ,   0.   ,   7.101, -16.09 ,  10.679,  -4.952])"
       ]
      }
     ],
     "prompt_number": 42
    },
    {
     "cell_type": "code",
     "collapsed": false,
     "input": [
      "get_zd_new(z0,0)"
     ],
     "language": "python",
     "metadata": {},
     "outputs": [
      {
       "metadata": {},
       "output_type": "pyout",
       "prompt_number": 43,
       "text": [
        "array([ 0.,  0.,  0.,  0.,  0.,  0.,  0.,  0.])"
       ]
      }
     ],
     "prompt_number": 43
    },
    {
     "cell_type": "code",
     "collapsed": false,
     "input": [
      "# \u00dcberschreiben der alten Funktion:\n",
      "#get_zd = get_zd_new"
     ],
     "language": "python",
     "metadata": {},
     "outputs": [],
     "prompt_number": 44
    },
    {
     "cell_type": "markdown",
     "metadata": {},
     "source": [
      "Berechnungen f\u00fcr lineares Modell"
     ]
    },
    {
     "cell_type": "code",
     "collapsed": false,
     "input": [
      "import pickle\n",
      "\n",
      "# inzwischen \u00dcberfl\u00fcssig\n",
      "\n",
      "if 0:\n",
      "    sub_qq_0=zip(['q1_0'],[q11_t0])+zip(['q2_0'],[0])+zip(['q3_0'],[q21_t0])+zip(['q4_0'],[0])\n",
      "    #A=st.to_np(mod1.A.subs(params_values).subs(sub_qq_0))\n",
      "    A=mod1.A.subs(params_values)\n",
      "    A=A.subs(sub_qq_0)\n",
      "    A=st.to_np(A)\n",
      "    #A_fnc = sp.lambdify(['q1_0','q2_0','q3_0','q4_0'],A,'numpy')\n",
      "    #B=st.to_np(mod1.B.subs(params_values).subs(sub_qq_0))\n",
      "    B=mod1.B.subs(params_values)\n",
      "    B=B.subs(sub_qq_0)\n",
      "    B=st.to_np(B)\n",
      "    pdict={'A':A,'B':B}\n",
      "    #B_fnc = sp.lambdify(['q1_0','q2_0','q3_0','q4_0'],B,'numpy')\n",
      "    with open('A_lin2.pcl', \"w\") as pfile:\n",
      "        pickle.dump(pdict, pfile)\n",
      "elif 0:\n",
      "    with open('A_lin2.pcl', \"r\") as pfile:\n",
      "        pdict = pickle.load(pfile)\n",
      "    A, B = pdict['A'], pdict['B']"
     ],
     "language": "python",
     "metadata": {},
     "outputs": [],
     "prompt_number": 45
    },
    {
     "cell_type": "markdown",
     "metadata": {},
     "source": [
      "import pycontroltools.linearcontrol.robust_poleplacement as opt\n",
      "eig = [-1,-2,-3,-4,-5,-6,-7,-8]\n",
      "Bk_opt = opt.opt_place_MI(A, B, eig)"
     ]
    },
    {
     "cell_type": "code",
     "collapsed": false,
     "input": [
      "# Einbetten von Graphen direkt in den Browser\n",
      "%matplotlib inline "
     ],
     "language": "python",
     "metadata": {},
     "outputs": [],
     "prompt_number": 46
    },
    {
     "cell_type": "code",
     "collapsed": false,
     "input": [
      "print \"simulate\"\n",
      "\n",
      "z_start = z0*1\n",
      "z_start[ [1, 3] ] = 0\n",
      "lsg = odeint(get_zd,z_start,tt)\n",
      "\n",
      "# Zeit mitspeichern\n",
      "lsg2 = np.concatenate( (tt.reshape(-1, 1) , lsg), axis=1)"
     ],
     "language": "python",
     "metadata": {},
     "outputs": [
      {
       "output_type": "stream",
       "stream": "stdout",
       "text": [
        "simulate\n"
       ]
      }
     ],
     "prompt_number": 75
    },
    {
     "cell_type": "code",
     "collapsed": false,
     "input": [
      "# ist der geschlossene Kreis wirklich stabil?\n",
      "\n",
      "np.max(np.real(np.linalg.eigvals(A+ np.dot(B, K_regler))))"
     ],
     "language": "python",
     "metadata": {},
     "outputs": [
      {
       "metadata": {},
       "output_type": "pyout",
       "prompt_number": 48,
       "text": [
        "-0.99960244613045879"
       ]
      }
     ],
     "prompt_number": 48
    },
    {
     "cell_type": "code",
     "collapsed": false,
     "input": [
      "deg=180/pi\n",
      "fig = plt.figure(1)\n",
      "ax = fig.add_subplot(1,1,1)\n",
      "tt2, qq1, qq2, qq3, qq4 = lsg2[:, :5].T*deg\n",
      "ax.set_title(\"$q(t)$\")\n",
      "#ax.plot(tt, qq3, label= r\"$q_3$\")\n",
      "#ax.plot(tt, qq1, label= r\"$q_1$\")\n",
      "ax.plot(tt2, qq2, label= r\"$q_2$\")\n",
      "ax.plot(tt2, qq4, label= r\"$q_4$\")\n",
      "ax.set_xlabel(\"$t$ in s\")\n",
      "ax.set_ylabel(\"$\\phi_2$\")\n",
      "ax.legend()\n",
      "plt.show()\n",
      "np.save('lsg_outfile',lsg2)"
     ],
     "language": "python",
     "metadata": {},
     "outputs": [
      {
       "metadata": {},
       "output_type": "display_data",
       "png": "[encoded data removed]",
       "text": [
        "<matplotlib.figure.Figure at 0x7f8d80341e90>"
       ]
      }
     ],
     "prompt_number": 76
    },
    {
     "cell_type": "code",
     "collapsed": false,
     "input": [
      "# Fehler\n",
      "\n",
      "qq_soll = qq_traj(tt)\n",
      "e1 = lsg2[:,1]-qq_soll[:,0]\n",
      "e1_d = lsg2[:,5]-qq_soll[:,2]\n",
      "e2 = lsg2[:,3]-qq_soll[:,1]\n",
      "e2_d = lsg2[:,7]-qq_soll[:,3]\n",
      "\n",
      "fig2 = plt.figure(2)\n",
      "a1=fig2.add_subplot(2,2,1)\n",
      "a1.set_title('e1')\n",
      "a1.plot(tt,e1*deg)\n",
      "a2=fig2.add_subplot(2,2,2)\n",
      "a2.set_title('e1_d')\n",
      "a2.plot(tt,e1_d*deg)\n",
      "a3=fig2.add_subplot(2,2,3)\n",
      "a3.set_title('e2')\n",
      "a3.plot(tt,e2*deg)\n",
      "a4=fig2.add_subplot(2,2,4)\n",
      "a4.set_title('e2_d')\n",
      "a4.plot(tt,e2_d*deg)\n",
      "# plt.show()"
     ],
     "language": "python",
     "metadata": {},
     "outputs": [
      {
       "metadata": {},
       "output_type": "pyout",
       "prompt_number": 77,
       "text": [
        "[<matplotlib.lines.Line2D at 0x7f8d80bca0d0>]"
       ]
      },
      {
       "metadata": {},
       "output_type": "display_data",
       "png": "[encoded data removed]",
       "text": [
        "<matplotlib.figure.Figure at 0x7f8d8108dd50>"
       ]
      }
     ],
     "prompt_number": 77
    },
    {
     "cell_type": "code",
     "collapsed": false,
     "input": [
      "ce = controll_effort = pd_feedback_new(lsg, 0)\n",
      "\n",
      "fig3 = plt.figure(3)\n",
      "plt.plot(tt, ce[:,0])\n",
      "plt.plot(tt, ce[:,1])\n",
      "plt.show()\n"
     ],
     "language": "python",
     "metadata": {},
     "outputs": [
      {
       "metadata": {},
       "output_type": "display_data",
       "png": "[encoded data removed]",
       "text": [
        "<matplotlib.figure.Figure at 0x7f8d80127fd0>"
       ]
      }
     ],
     "prompt_number": 78
    },
    {
     "cell_type": "markdown",
     "metadata": {},
     "source": [
      "## Fazit (Carsten)\n",
      "\n",
      "Ich glaube der Fehler lag an einer falsch verstandenen Linearisierung. Das lineare Modell beschreibt das \"Kleinsignalverhalten\" = Abweichung um die Ruhelage: $\\tilde{z}:= z - z_0$. Deswegen muss bei der Berechnung von $\\dot{\\tilde{z}}$ der f\u00fcr die Aufrechterhaltung der Ruhelage notwendige Eingang $u_0$ (= Vorsteuerung f\u00fcr die Ruhelage) nicht mehr mit einbezogen werden. Wenn man es doch tut (wie es vorher war), dann wird das durch den Regler ausgeglichen.\n",
      "\n",
      "Der Code in diesem Notebook ist immer noch nicht wirklich sch\u00f6n. Aber ich hoffe ich konnte durch meine \u00c4nderungen etwas mehr Klarheit reinbringen. Zumindest gibt es jetzt Code, um die sich ergebende Ruhelage exakt zu berechnen.\n",
      "\n",
      "Vorschlag: die Modularit\u00e4t f\u00fcr mehrere Gelenke verwirrt eher. Ich w\u00fcrde die erst einbauen, wenn der Spezialfall ((2,2) Gelenke) l\u00e4uft."
     ]
    },
    {
     "cell_type": "code",
     "collapsed": false,
     "input": [
      "np.linalg.eigvals(A + np.dot(B,K_regler))"
     ],
     "language": "python",
     "metadata": {},
     "outputs": [
      {
       "metadata": {},
       "output_type": "pyout",
       "prompt_number": 52,
       "text": [
        "array([ -1.252e+03 +0.j   ,  -2.127e+02 +0.j   ,  -2.663e+00+43.685j,  -2.663e+00-43.685j,  -2.335e+00+14.067j,  -2.335e+00-14.067j,  -9.996e-01 +0.j   ,  -1.015e+00 +0.j   ])"
       ]
      }
     ],
     "prompt_number": 52
    },
    {
     "cell_type": "code",
     "collapsed": false,
     "input": [],
     "language": "python",
     "metadata": {},
     "outputs": [],
     "prompt_number": 52
    }
   ],
   "metadata": {}
  }
 ]
}