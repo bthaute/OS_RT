{
 "metadata": {
  "name": "",
  "signature": "sha256:b9e15456087a225cba3a1f1285af460a47f381283ca3fc082330abb07d356e5b"
 },
 "nbformat": 3,
 "nbformat_minor": 0,
 "worksheets": [
  {
   "cells": [
    {
     "cell_type": "markdown",
     "metadata": {},
     "source": [
      "Simulation"
     ]
    },
    {
     "cell_type": "code",
     "collapsed": false,
     "input": [
      "import sympy as sp\n",
      "import symb_tools as st\n",
      "import numpy as np\n",
      "import pickle\n",
      "np.set_printoptions(linewidth=300, precision=3) # f\u00fcr bessere Darstellung von gr\u00f6\u00dferen 2d-arrays\n",
      "\n",
      "from numpy import r_,pi\n",
      "from scipy.integrate import odeint\n",
      "import pylab as pl\n",
      "import matplotlib.pyplot as plt\n",
      "from IPython import embed as IPS\n",
      "\n",
      "import traj_2dof as traj\n",
      "from parameter_springs import para_g, para_m, para_a, para_k, para_d, para_I\n",
      "\n",
      "from model import mod1"
     ],
     "language": "python",
     "metadata": {},
     "outputs": [
      {
       "output_type": "stream",
       "stream": "stdout",
       "text": [
        "saving parameter\n",
        "read parameters\n",
        "just open exsiting model\n",
        "read model"
       ]
      },
      {
       "output_type": "stream",
       "stream": "stdout",
       "text": [
        "\n"
       ]
      }
     ],
     "prompt_number": 1
    },
    {
     "cell_type": "code",
     "collapsed": false,
     "input": [
      "nr_aj = 2  \n",
      "\n",
      "m = sp.Symbol('m') #Masse der Last am Endeffektor\n",
      "\n",
      "II = sp.Matrix([sp.symbols(\"I1\")])\n",
      "mm = sp.Matrix([sp.symbols(\"m1\")])\n",
      "aa = sp.Matrix([sp.symbols(\"a1\")])\n",
      "kk = sp.Matrix([sp.symbols(\"k1\")])\n",
      "dd = sp.Matrix([sp.symbols(\"d1\")])\n",
      "qq_0 = sp.Matrix([sp.symbols(\"q1_0\")])\n",
      "g = sp.Matrix([sp.Symbol(\"g\")])\n",
      "for index in range(2,2*(nr_aj)+1):\n",
      "    II = st.row_stack(II,sp.Matrix([sp.symbols(\"I\"+np.str(index))]))\n",
      "    mm = st.row_stack(mm,sp.Matrix([sp.symbols(\"m\"+np.str(index))]))\n",
      "    aa = st.row_stack(aa,sp.Matrix([sp.symbols(\"a\"+np.str(index))]))\n",
      "    kk = st.row_stack(kk,sp.Matrix([sp.symbols(\"k\"+np.str(index))]))\n",
      "    dd = st.row_stack(dd,sp.Matrix([sp.symbols(\"d\"+np.str(index))]))\n",
      "    qq_0 = st.row_stack(qq_0,sp.Matrix([sp.symbols(\"q\"+np.str(index)+\"_0\")]))\n"
     ],
     "language": "python",
     "metadata": {},
     "outputs": [],
     "prompt_number": 2
    },
    {
     "cell_type": "markdown",
     "metadata": {},
     "source": [
      "Modellfehler in der Parametrierung"
     ]
    },
    {
     "cell_type": "code",
     "collapsed": false,
     "input": [
      "model_error_on = False\n",
      "if model_error_on:\n",
      "    model_error=0.2*np.random.randn(10,6)+1\n",
      "else:\n",
      "    model_error=np.ones((10,6))\n",
      "    \n",
      "params_values_error = zip(mm,para_m*model_error[:,0]) + zip(II,para_I*model_error[:,1]) + zip(aa,para_a*model_error[:,2]) + zip(kk,para_k*model_error[:,3]) + zip(dd,para_d*model_error[:,4]) + zip(g,para_g*model_error[0,5])\n",
      "params_values = zip(mm,para_m) + zip(II,para_I) + zip(aa,para_a) + zip(kk,para_k) + zip(dd,para_d) + zip(g,para_g)\n"
     ],
     "language": "python",
     "metadata": {},
     "outputs": [],
     "prompt_number": 3
    },
    {
     "cell_type": "markdown",
     "metadata": {},
     "source": [
      "Stelle Modell nach externen Groessen um"
     ]
    },
    {
     "cell_type": "code",
     "collapsed": false,
     "input": [
      "subslist_force=zip(mod1.extforce_list,sp.zeros(mod1.qdds.shape[0],1))\n",
      "sol = mod1.eq_list.subs(subslist_force)\n",
      "FF = sp.Matrix([sol[0].subs(params_values_error)])\n",
      "for index in range(1,nr_aj):\n",
      "    FF = st.row_stack(FF,sp.Matrix([sol[index*2].subs(params_values_error)]))\n"
     ],
     "language": "python",
     "metadata": {},
     "outputs": [],
     "prompt_number": 4
    },
    {
     "cell_type": "markdown",
     "metadata": {},
     "source": [
      "build lambda-functions"
     ]
    },
    {
     "cell_type": "code",
     "collapsed": false,
     "input": [
      "FF_fnc0 = sp.lambdify([mod1.qs[0],mod1.qs[1], mod1.qs[2],mod1.qs[3], mod1.qds[0],mod1.qds[1],\\\n",
      "                         mod1.qds[2],mod1.qds[3],mod1.qdds[0],mod1.qdds[1],mod1.qdds[2],mod1.qdds[3]],list(FF),'numpy') \n",
      "def FF_fnc(*args):\n",
      "    return st.to_np(FF_fnc0(*args))"
     ],
     "language": "python",
     "metadata": {},
     "outputs": [],
     "prompt_number": 5
    },
    {
     "cell_type": "code",
     "collapsed": false,
     "input": [
      "with open('Lastfehler.npy','r') as p1file:\n",
      "    p1dict = pickle.load(p1file)\n",
      "mod_Last = p1dict[\"mod_Last\"]"
     ],
     "language": "python",
     "metadata": {},
     "outputs": [],
     "prompt_number": 6
    },
    {
     "cell_type": "markdown",
     "metadata": {},
     "source": [
      "alternativer Zugang"
     ]
    },
    {
     "cell_type": "code",
     "collapsed": false,
     "input": [
      "subslist_M = zip(mod1.qdds, sp.zeros(mod1.qdds.shape[0],1))\n",
      "temp = -(mod1.eq_list+mod_Last.eq_list).subs(subslist_M).subs(params_values)\n",
      "Mq_dd_func = sp.lambdify([mod1.qs[0],mod1.qs[1], mod1.qs[2],mod1.qs[3], mod1.qds[0],mod1.qds[1],\\\n",
      "                         mod1.qds[2],mod1.qds[3],mod1.extforce_list[0],mod1.extforce_list[1],\\\n",
      "                         mod1.extforce_list[2],mod1.extforce_list[3],m],temp,'numpy')\n",
      "M=mod1.MM.subs(params_values)\n",
      "M_func = sp.lambdify([mod1.qs[0],mod1.qs[1], mod1.qs[2],mod1.qs[3], mod1.qds[0],mod1.qds[1],\\\n",
      "                         mod1.qds[2],mod1.qds[3],mod1.extforce_list[0],mod1.extforce_list[1],\\\n",
      "                         mod1.extforce_list[2],mod1.extforce_list[3],m],M,'numpy')\n"
     ],
     "language": "python",
     "metadata": {},
     "outputs": [],
     "prompt_number": 7
    },
    {
     "cell_type": "markdown",
     "metadata": {},
     "source": [
      "subslist_M = zip(mod1.qdds, sp.zeros(mod1.qdds.shape[0],1))\n",
      "temp = -mod1.eq_list.subs(subslist_M).subs(params_values)\n",
      "Mq_dd_func = sp.lambdify([mod1.qs[0],mod1.qs[1], mod1.qs[2],mod1.qs[3], mod1.qds[0],mod1.qds[1],\\\n",
      "                         mod1.qds[2],mod1.qds[3],mod1.extforce_list[0],mod1.extforce_list[1],\\\n",
      "                         mod1.extforce_list[2],mod1.extforce_list[3]],temp,'numpy')\n",
      "M=mod1.MM.subs(params_values)\n",
      "M_func = sp.lambdify([mod1.qs[0],mod1.qs[1], mod1.qs[2],mod1.qs[3], mod1.qds[0],mod1.qds[1],\\\n",
      "                         mod1.qds[2],mod1.qds[3],mod1.extforce_list[0],mod1.extforce_list[1],\\\n",
      "                         mod1.extforce_list[2],mod1.extforce_list[3]],M,'numpy')\n"
     ]
    },
    {
     "cell_type": "markdown",
     "metadata": {},
     "source": [
      "\n",
      "# Testzelle\n",
      "w1=qq_traj(2.5)\n",
      "w1[:4].reshape((2,-1))\n",
      "FF_fnc(*([0]*12))\n",
      "sp.Matrix(A)\n",
      "pd_controller(z1,0)"
     ]
    },
    {
     "cell_type": "code",
     "collapsed": false,
     "input": [
      "def pd_controller(z,t):\n",
      "    q1, q2, q3, q4, q1_d, q2_d, q3_d, q4_d = z\n",
      "    \n",
      "    \n",
      "    k=2e7*np.ones((nr_aj,))\n",
      "    states=qq_traj(t)  #sollzustand\n",
      "    \n",
      "    states2=states[:4]\n",
      "    states2=states2.reshape((2,-1))\n",
      "   \n",
      "    # Fehler\n",
      "    e=states2-z[::2].reshape((2,-1))\n",
      "    e=e.T\n",
      "    #man=np.ones((nr_aj,1))\n",
      "    \n",
      "    f_regler=np.dot(e,k)\n",
      "    f_steuer=FF_fnc(states[0],0,states[1],0,states[2],0,states[3],0,states[4],0,states[5],0)\n",
      "    f = f_regler+f_steuer\n",
      "    #f = np.dot(Bk_opt,z)[0::2]+FF_fnc(states[0],0,states[1],0,states[2],0,states[3],0,states[4],0,states[5],0)\n",
      "    return f_regler, f_steuer"
     ],
     "language": "python",
     "metadata": {},
     "outputs": [],
     "prompt_number": 160
    },
    {
     "cell_type": "code",
     "collapsed": false,
     "input": [
      "def pd_controller2(z,t):\n",
      "    q1, q2, q3, q4, q1_d, q2_d, q3_d, q4_d = z\n",
      "    states=qq_traj(t)\n",
      "    states2=states[:4]\n",
      "    states2=states2.reshape((2,-1))\n",
      "    \n",
      "    f_regler=np.dot(K_pole,z-z0)\n",
      "   \n",
      "    \n",
      "    f_steuer=FF_fnc(states[0],0,states[1],0,states[2],0,states[3],0,states[4],0,states[5],0)\n",
      "    f = f_regler+f_steuer\n",
      "    #f = np.dot(Bk_opt,z)[0::2]+FF_fnc(states[0],0,states[1],0,states[2],0,states[3],0,states[4],0,states[5],0)\n",
      "    return f_regler, f_steuer"
     ],
     "language": "python",
     "metadata": {},
     "outputs": [],
     "prompt_number": 9
    },
    {
     "cell_type": "code",
     "collapsed": false,
     "input": [],
     "language": "python",
     "metadata": {},
     "outputs": [],
     "prompt_number": 9
    },
    {
     "cell_type": "code",
     "collapsed": false,
     "input": [
      "def get_zd(z,t):\n",
      "    q1, q2, q3, q4, q1_d, q2_d, q3_d, q4_d = z\n",
      "    f1 = 0 #force1(q1)\n",
      "    f2 = 0 #force2(q1,q2)\n",
      "    fr, fv = pd_controller(z,t)\n",
      "    #fr = pd_feedback_new(z,t)\n",
      "    #fv = FF_fnc(*np.concatenate((z0,[0,0,0,0])))\n",
      "    # Stellgr\u00f6\u00dfenbegrenzung\n",
      "    #f1 = np.clip(f1,-3e5,3e5)\n",
      "    #f2 = np.clip(f2,-3e5,3e5)\n",
      "    #global f,temp_zd\n",
      "    #if temp_zd:\n",
      "    #    f=np.array([[f1,f2]])\n",
      "    #    temp_zd = False\n",
      "    #else: f = np.concatenate((f,np.array([[f1,f2]])),axis=0)\n",
      "    #q0=r_[pi/3, 0, -pi/2, 0, 0, 0.0, 0,0]\n",
      "    #qq_dd=mod1.A_para.subs(sub_qq_0)*(z-q0).reshape((-1,1))+mod1.B_para.subs(sub_qq_0)*np.array([[f1],[0],[f2],[0]])\n",
      "    # Alle 3 Sekunden f\u00fcr 1 Sekunde die Last aufschalten ...\n",
      "    zeit = 30 # in Sekunden\n",
      "    if (t%2) <= 0.5:\n",
      "        m = 100\n",
      "    else: \n",
      "        m = 0\n",
      "    if 0:\n",
      "        f1, f2 = fr\n",
      "        A_schlange=A   #A_fnc(q1,q2,q3,q4)\n",
      "        B_schlange=B   #B_fnc(q1,q2,q3,q4)\n",
      "        \n",
      "        qq_dd=np.dot(A_schlange,z-z1)+np.dot(B_schlange,np.array([f1,0,f2,0]))\n",
      "        return qq_dd\n",
      "    \n",
      "    else:\n",
      "        f1, f2 = fr + fv\n",
      "        rhs_eq = Mq_dd_func(q1, q2, q3,q4, q1_d, q2_d, q3_d, q4_d,f1,0,f2,0,m)\n",
      "        M_eq = M_func(q1, q2, q3,q4, q1_d, q2_d, q3_d, q4_d,f1,0,f2,0,m)\n",
      "        qq_dd = M_eq**-1*rhs_eq\n",
      "        return r_[q1_d,q2_d,q3_d,q4_d,qq_dd[0,0],qq_dd[1,0],qq_dd[2,0],qq_dd[3,0]]\n",
      "    "
     ],
     "language": "python",
     "metadata": {},
     "outputs": [],
     "prompt_number": 157
    },
    {
     "cell_type": "markdown",
     "metadata": {},
     "source": [
      "Simulationseinstellungen"
     ]
    },
    {
     "cell_type": "code",
     "collapsed": false,
     "input": [
      "tt = np.linspace(0,10,1000)\n",
      "\n",
      "error_q11 = 0\n",
      "error_q21 = 0\n",
      "q11_t0 = pi/3 # -pi/4\n",
      "q21_t0 = -pi/2 # pi/4\n",
      "z0 = r_[q11_t0 + error_q11, 0, q21_t0 + error_q21, 0, 0.0, 0.0, 0,0.0]\n",
      "z1 = r_[q11_t0 + error_q11, 0, q21_t0 + error_q21, 0, 0, 0.0, 0,0]\n",
      "\n",
      "q1_end = q11_t0 # 3*pi/4\n",
      "q2_end = q21_t0 # pi/2\n",
      "\n",
      "qq_traj=traj.calc_traj(tt[0],tt[-1]/2,q11_t0,q1_end,q21_t0,q2_end)\n",
      "q0=r_[pi/3, 0, -pi/2, 0, 0, 0.0, 0,0]"
     ],
     "language": "python",
     "metadata": {},
     "outputs": [],
     "prompt_number": 90
    },
    {
     "cell_type": "code",
     "collapsed": false,
     "input": [
      "z0"
     ],
     "language": "python",
     "metadata": {},
     "outputs": [
      {
       "metadata": {},
       "output_type": "pyout",
       "prompt_number": 41,
       "text": [
        "array([ 1.047,  0.   , -1.571,  0.   ,  0.   ,  0.   ,  0.   ,  0.   ])"
       ]
      }
     ],
     "prompt_number": 41
    },
    {
     "cell_type": "code",
     "collapsed": false,
     "input": [
      "# \u00dcberpr\u00fcfung, ob z0 wirklich eine Ruhelage ist\n",
      "# get_zd(z0, 0)"
     ],
     "language": "python",
     "metadata": {},
     "outputs": [],
     "prompt_number": 42
    },
    {
     "cell_type": "markdown",
     "metadata": {},
     "source": [
      "-> Alle 4 Gelenke weisen eine erhebliche Beschleunigung auf!\n",
      "\n",
      "ist auch logisch, weil die \"z0-Ruhelage\" ja auf dem vollst\u00e4ndig aktuierten Modell beruht"
     ]
    },
    {
     "cell_type": "code",
     "collapsed": false,
     "input": [
      "# Tats\u00e4chliche Ruhelage bestimmen\n",
      "\n",
      "# Alle Beschleunigungen und Geschwindigkeiten 0 setzen\n",
      "eqlbr_sl1 = st.zip0(mod1.qdds)+st.zip0(mod1.qds)\n",
      "\n",
      "# Andere Bedingungen f\u00fcr konkrete Wunschruhelage:\n",
      "passive_joints= [(\"F2\", 0), (\"F4\", 0)]\n",
      "z0_setpoint = [(\"q1\", z0[0]), (\"q3\", z0[2])]\n",
      "z0_setpoint\n",
      "\n",
      "\n"
     ],
     "language": "python",
     "metadata": {},
     "outputs": [
      {
       "metadata": {},
       "output_type": "pyout",
       "prompt_number": 43,
       "text": [
        "[('q1', 1.0471975511965976), ('q3', -1.5707963267948966)]"
       ]
      }
     ],
     "prompt_number": 43
    },
    {
     "cell_type": "code",
     "collapsed": false,
     "input": [
      "EQL = mod1.eq_list.subs(eqlbr_sl1 + params_values + passive_joints + z0_setpoint)\n",
      "EQL"
     ],
     "language": "python",
     "metadata": {},
     "outputs": [
      {
       "metadata": {},
       "output_type": "pyout",
       "prompt_number": 44,
       "text": [
        "Matrix([\n",
        "[-F1 + 50013.915*cos(q2 - 0.523598775598299) + 103153.6996875*cos(q2 + 1.0471975511966) + 16671.305*cos(q2 + q4 - 0.523598775598299) + 79709.67703125],\n",
        "[ 14148853.6332227*q2 + 50013.915*cos(q2 - 0.523598775598299) + 103153.6996875*cos(q2 + 1.0471975511966) + 16671.305*cos(q2 + q4 - 0.523598775598299)],\n",
        "[                                                            -F3 + 50013.915*cos(q2 - 0.523598775598299) + 16671.305*cos(q2 + q4 - 0.523598775598299)],\n",
        "[                                                                                    7812266.23924201*q4 + 16671.305*cos(q2 + q4 - 0.523598775598299)]])"
       ]
      }
     ],
     "prompt_number": 44
    },
    {
     "cell_type": "markdown",
     "metadata": {},
     "source": [
      "Das ist ein nichtlineares Gleichungssystem: 4 Gleichungen, 4 Unbekannte: $F_1, F_2, q_2, q_4$<br>\n",
      "Das will ich jetz l\u00f6sen."
     ]
    },
    {
     "cell_type": "code",
     "collapsed": false,
     "input": [
      "# Schnell die Symbole neu besorgen:\n",
      "F1, F3, q2, q4 = sp.symbols(\"F1, F3, q2, q4\")\n",
      "# sp.solve(EQL, [F1, F3, q2, q4]) # geht nicht (allgemeines Nichtlineares GS, das kann sympy nicht symbolisch l\u00f6sen)\n",
      "# -> numerisch L\u00f6sen!\n",
      "# Funktion der rechten Seite:\n",
      "EQL_rhs0 = st.expr_to_func([F1, F3, q2, q4], EQL)\n",
      "# Test.\n",
      "def EQL_rhs(arr):\n",
      "    # array auspacken\n",
      "    return EQL_rhs0(*arr)\n",
      "\n",
      "EQL_rhs([0, 0, 0, 0])\n"
     ],
     "language": "python",
     "metadata": {},
     "outputs": [
      {
       "metadata": {},
       "output_type": "pyout",
       "prompt_number": 45,
       "text": [
        "[189037.62145195392, 109327.94442070392, 57751.094576954121, 14437.77364423853]"
       ]
      }
     ],
     "prompt_number": 45
    },
    {
     "cell_type": "code",
     "collapsed": false,
     "input": [
      "import scipy.optimize\n",
      "sol = scipy.optimize.fsolve(EQL_rhs, [0]*4)\n",
      "sol"
     ],
     "language": "python",
     "metadata": {},
     "outputs": [
      {
       "metadata": {},
       "output_type": "pyout",
       "prompt_number": 46,
       "text": [
        "array([  1.895e+05,   5.748e+04,  -7.756e-03,  -1.838e-03])"
       ]
      }
     ],
     "prompt_number": 46
    },
    {
     "cell_type": "code",
     "collapsed": false,
     "input": [
      "F1_sol, F3_sol, q2_sol, q4_sol = sol\n",
      "F_sol = sp.Matrix([F1_sol, 0, F3_sol, 0])"
     ],
     "language": "python",
     "metadata": {},
     "outputs": [],
     "prompt_number": 47
    },
    {
     "cell_type": "code",
     "collapsed": false,
     "input": [
      "z0_alt = z0*1 # Sicherheitskopie anlegen (Ohne \"*1\" wird nur Referenz erstellt, die auf die gleichen Daten zugreift)\n",
      "z0[1] = q2_sol\n",
      "z0[3] = q4_sol\n",
      "z0"
     ],
     "language": "python",
     "metadata": {},
     "outputs": [
      {
       "metadata": {},
       "output_type": "pyout",
       "prompt_number": 143,
       "text": [
        "array([ 1.047, -0.008, -1.571, -0.002,  0.   ,  0.   ,  0.   ,  0.   ])"
       ]
      }
     ],
     "prompt_number": 143
    },
    {
     "cell_type": "markdown",
     "metadata": {},
     "source": [
      "#### Jetzt mit bekannter Ruhelage kann die Matrix der Linearisierung bestimmt werden\n",
      "Ausgangspunkt:\n",
      "$$M(q)\\ddot q = \\operatorname{rest}(q, \\dot q, F)$$\n"
     ]
    },
    {
     "cell_type": "code",
     "collapsed": false,
     "input": [
      "qq_state = st.row_stack(mod1.qs, mod1.qds)\n",
      "qq_state"
     ],
     "language": "python",
     "metadata": {},
     "outputs": [
      {
       "metadata": {},
       "output_type": "pyout",
       "prompt_number": 49,
       "text": [
        "Matrix([\n",
        "[  q1],\n",
        "[  q2],\n",
        "[  q3],\n",
        "[  q4],\n",
        "[q1_d],\n",
        "[q2_d],\n",
        "[q3_d],\n",
        "[q4_d]])"
       ]
      }
     ],
     "prompt_number": 49
    },
    {
     "cell_type": "code",
     "collapsed": false,
     "input": [
      "eq_list2 = mod1.eq_list.subs(params_values)\n",
      "\n",
      "# rechte Seite:\n",
      "rest = -eq_list2.subs(st.zip0(mod1.qdds))\n",
      "M_neu = eq_list2.jacobian(mod1.qdds)\n",
      "\n",
      "# Konsistenzpr\u00fcfung zu oben:\n",
      "assert st.random_equaltest(M, M_neu)"
     ],
     "language": "python",
     "metadata": {},
     "outputs": [],
     "prompt_number": 50
    },
    {
     "cell_type": "code",
     "collapsed": false,
     "input": [
      "# links Seite:\n",
      "M_const = M.subs(zip(qq_state, z0))\n",
      "M_const"
     ],
     "language": "python",
     "metadata": {},
     "outputs": [
      {
       "metadata": {},
       "output_type": "pyout",
       "prompt_number": 51,
       "text": [
        "Matrix([\n",
        "[262122.203679672, 139686.920185204, 42833.0454385515, 14661.7995031458],\n",
        "[139686.920185204, 92605.3691907362, 43084.4456122343, 14735.1933453681],\n",
        "[42833.0454385515, 43084.4456122343, 43098.5045337324, 14749.2522668662],\n",
        "[14661.7995031458, 14735.1933453681, 14749.2522668662,       7949.26375]])"
       ]
      }
     ],
     "prompt_number": 51
    },
    {
     "cell_type": "code",
     "collapsed": false,
     "input": [
      "# rechte Seite:\n",
      "A_tmp = rest.jacobian(qq_state).subs(zip(qq_state, z0))\n",
      "A_tmp"
     ],
     "language": "python",
     "metadata": {},
     "outputs": [
      {
       "metadata": {},
       "output_type": "pyout",
       "prompt_number": 52,
       "text": [
        "Matrix([\n",
        "[ 193176.264531989,  55115.0540589581, -33815.9393532285, -8473.78438082445, -5307.01884559852,                 0,                 0,                 0],\n",
        "[ 55115.0540589581, -14093738.5791637, -33815.9393532285, -8473.78438082445,                 0, -5307.01884559852,                 0,                 0],\n",
        "[-33815.9393532285, -33815.9393532285, -33815.9393532285, -8473.78438082445,                 0,                 0, -2877.89231058761,                 0],\n",
        "[-8473.78438082445, -8473.78438082445, -8473.78438082445, -7820740.02362284,                 0,                 0,                 0, -2877.89231058761]])"
       ]
      }
     ],
     "prompt_number": 52
    },
    {
     "cell_type": "code",
     "collapsed": false,
     "input": [
      "A_low = M_const.inv()*A_tmp\n",
      "A_low"
     ],
     "language": "python",
     "metadata": {},
     "outputs": [
      {
       "metadata": {},
       "output_type": "pyout",
       "prompt_number": 53,
       "text": [
        "Matrix([\n",
        "[  1.7552414517901,  915.683389964706, -0.00695964925315053,  1.91934091680946,  -0.176175662189716,    0.344519567395406, -0.0920590919769547, 0.000707116839830081],\n",
        "[ -1.6371601062455, -2074.49922763597,   0.0135865884612778, -4.25639047482086,   0.344519567395406,   -0.780860635894242,   0.238168397700548, -0.00156795403826768],\n",
        "[-1.25539432028016,   1165.2580284024,    -1.15676101481099,   924.16516837248,  -0.169762897045522,    0.439197870737814,  -0.329823056969175,     0.34027529037529],\n",
        "[ 1.06062848908145, -6.61412942418631,     1.06794992343537, -2694.20013687431, 0.00130396901274324, -0.00289140827108259,    0.34027529037529,   -0.991785171039806]])"
       ]
      }
     ],
     "prompt_number": 53
    },
    {
     "cell_type": "code",
     "collapsed": false,
     "input": [
      "A_up = st.col_stack(sp.zeros(4,4), sp.eye(4))"
     ],
     "language": "python",
     "metadata": {},
     "outputs": [],
     "prompt_number": 54
    },
    {
     "cell_type": "code",
     "collapsed": false,
     "input": [
      "A = st.to_np( st.row_stack(A_up, A_low) )\n",
      "A"
     ],
     "language": "python",
     "metadata": {},
     "outputs": [
      {
       "metadata": {},
       "output_type": "pyout",
       "prompt_number": 55,
       "text": [
        "array([[  0.000e+00,   0.000e+00,   0.000e+00,   0.000e+00,   1.000e+00,   0.000e+00,   0.000e+00,   0.000e+00],\n",
        "       [  0.000e+00,   0.000e+00,   0.000e+00,   0.000e+00,   0.000e+00,   1.000e+00,   0.000e+00,   0.000e+00],\n",
        "       [  0.000e+00,   0.000e+00,   0.000e+00,   0.000e+00,   0.000e+00,   0.000e+00,   1.000e+00,   0.000e+00],\n",
        "       [  0.000e+00,   0.000e+00,   0.000e+00,   0.000e+00,   0.000e+00,   0.000e+00,   0.000e+00,   1.000e+00],\n",
        "       [  1.755e+00,   9.157e+02,  -6.960e-03,   1.919e+00,  -1.762e-01,   3.445e-01,  -9.206e-02,   7.071e-04],\n",
        "       [ -1.637e+00,  -2.074e+03,   1.359e-02,  -4.256e+00,   3.445e-01,  -7.809e-01,   2.382e-01,  -1.568e-03],\n",
        "       [ -1.255e+00,   1.165e+03,  -1.157e+00,   9.242e+02,  -1.698e-01,   4.392e-01,  -3.298e-01,   3.403e-01],\n",
        "       [  1.061e+00,  -6.614e+00,   1.068e+00,  -2.694e+03,   1.304e-03,  -2.891e-03,   3.403e-01,  -9.918e-01]])"
       ]
      }
     ],
     "prompt_number": 55
    },
    {
     "cell_type": "code",
     "collapsed": false,
     "input": [
      "# zum Vergleich: das stand vorher im Notebook wurde aber nirgendwo berechnet (war also ein \"Relikt\")\n",
      "A_alt = np.array(\n",
      "       [[  0.000e+00,   0.000e+00,   0.000e+00,   0.000e+00,   1.000e+00,   0.000e+00,   0.000e+00,   0.000e+00],\n",
      "       [  0.000e+00,   0.000e+00,   0.000e+00,   0.000e+00,   0.000e+00,   1.000e+00,   0.000e+00,   0.000e+00],\n",
      "       [  0.000e+00,   0.000e+00,   0.000e+00,   0.000e+00,   0.000e+00,   0.000e+00,   1.000e+00,   0.000e+00],\n",
      "       [  0.000e+00,   0.000e+00,   0.000e+00,   0.000e+00,   0.000e+00,   0.000e+00,   0.000e+00,   1.000e+00],\n",
      "       [  1.749e+00,   1.296e+03,   7.550e-15,   1.776e-15,   0.000e+00,   6.492e-04,   0.000e+00,   0.000e+00],\n",
      "       [ -1.618e+00,  -2.936e+03,  -4.441e-15,  -1.110e-15,   0.000e+00,  -1.471e-03,   0.000e+00,   0.000e+00],\n",
      "       [ -1.268e+00,   1.639e+03,  -1.136e+00,   1.180e+03,   0.000e+00,   8.222e-04,   0.000e+00,   1.179e-03],\n",
      "       [  1.060e+00,   1.060e+00,   1.060e+00,  -3.448e+03,   0.000e+00,   3.349e-18,   0.000e+00,  -3.446e-03]])\n",
      "\n",
      "A_alt-A"
     ],
     "language": "python",
     "metadata": {},
     "outputs": [
      {
       "metadata": {},
       "output_type": "pyout",
       "prompt_number": 56,
       "text": [
        "array([[  0.000e+00,   0.000e+00,   0.000e+00,   0.000e+00,   0.000e+00,   0.000e+00,   0.000e+00,   0.000e+00],\n",
        "       [  0.000e+00,   0.000e+00,   0.000e+00,   0.000e+00,   0.000e+00,   0.000e+00,   0.000e+00,   0.000e+00],\n",
        "       [  0.000e+00,   0.000e+00,   0.000e+00,   0.000e+00,   0.000e+00,   0.000e+00,   0.000e+00,   0.000e+00],\n",
        "       [  0.000e+00,   0.000e+00,   0.000e+00,   0.000e+00,   0.000e+00,   0.000e+00,   0.000e+00,   0.000e+00],\n",
        "       [ -6.241e-03,   3.803e+02,   6.960e-03,  -1.919e+00,   1.762e-01,  -3.439e-01,   9.206e-02,  -7.071e-04],\n",
        "       [  1.916e-02,  -8.615e+02,  -1.359e-02,   4.256e+00,  -3.445e-01,   7.794e-01,  -2.382e-01,   1.568e-03],\n",
        "       [ -1.261e-02,   4.737e+02,   2.076e-02,   2.558e+02,   1.698e-01,  -4.384e-01,   3.298e-01,  -3.391e-01],\n",
        "       [ -6.285e-04,   7.674e+00,  -7.950e-03,  -7.538e+02,  -1.304e-03,   2.891e-03,  -3.403e-01,   9.883e-01]])"
       ]
      }
     ],
     "prompt_number": 56
    },
    {
     "cell_type": "code",
     "collapsed": false,
     "input": [
      "B_tmp = rest.jacobian([F1, F3]).subs(zip(qq_state, z0))\n",
      "B_low = M_const.inv()*B_tmp\n",
      "B_low\n",
      "B = st.to_np( st.row_stack(sp.zeros(*B_low.shape), B_low) )\n",
      "B"
     ],
     "language": "python",
     "metadata": {},
     "outputs": [
      {
       "metadata": {},
       "output_type": "pyout",
       "prompt_number": 57,
       "text": [
        "array([[  0.000e+00,   0.000e+00],\n",
        "       [  0.000e+00,   0.000e+00],\n",
        "       [  0.000e+00,   0.000e+00],\n",
        "       [  0.000e+00,   0.000e+00],\n",
        "       [  3.320e-05,   3.199e-05],\n",
        "       [ -6.492e-05,  -8.276e-05],\n",
        "       [  3.199e-05,   1.146e-04],\n",
        "       [ -2.457e-07,  -1.182e-04]])"
       ]
      }
     ],
     "prompt_number": 57
    },
    {
     "cell_type": "code",
     "collapsed": false,
     "input": [
      "states = qq_traj(0)\n",
      "len(states)"
     ],
     "language": "python",
     "metadata": {},
     "outputs": [
      {
       "metadata": {},
       "output_type": "pyout",
       "prompt_number": 58,
       "text": [
        "6"
       ]
      }
     ],
     "prompt_number": 58
    },
    {
     "cell_type": "code",
     "collapsed": false,
     "input": [
      "K_regler = np.array([[ 1, 0, 0, 0, 1, 0 , 0, 0],\n",
      "                      [ 0, 0, 1, 0, 0, 0,  1, 0]])*-1e6\n",
      "\n",
      "\n",
      "def pd_feedback_new(z,t):\n",
      "    \"\"\"\n",
      "    Nur der Regler, keine Vorsteuerung\n",
      "    \"\"\"\n",
      "    \n",
      "    z_tilde = z - z0\n",
      "        \n",
      "    # aktive Komponenten w\u00e4hlen\n",
      "    #e = z_tilde[ [0, 2, 4, 6] ] # diese Index-Notation geht nur bei arrays, nicht bei Listen etc\n",
      "    \n",
      "    \n",
      "    # Hinweis: # Transponieren bei 1d-arrays egal, aber es erlaubt den Aufruf dieser\n",
      "    # Funktion auch mit 2d-arrays f\u00fcr z (vektorisiert)\n",
      "    \n",
      "    f_regler=np.dot(K_regler, z_tilde.T)\n",
      "    #f_regler=np.dot(K_pole, z_tilde.T)\n",
      "    \n",
      "    return f_regler.T"
     ],
     "language": "python",
     "metadata": {},
     "outputs": [],
     "prompt_number": 59
    },
    {
     "cell_type": "code",
     "collapsed": false,
     "input": [
      "FF_fnc(*np.concatenate((z0,[0,0,0,0])))\n",
      "pd_feedback_new(z0,0)"
     ],
     "language": "python",
     "metadata": {},
     "outputs": [
      {
       "metadata": {},
       "output_type": "pyout",
       "prompt_number": 60,
       "text": [
        "array([ 0.,  0.])"
       ]
      }
     ],
     "prompt_number": 60
    },
    {
     "cell_type": "code",
     "collapsed": false,
     "input": [
      "def get_zd_new(z,t):\n",
      "    \"\"\"\n",
      "    neue Version der Berechnung der Zustandsableitung (linear)\n",
      "    \"\"\"\n",
      "    \n",
      "    z_tilde = z-z0\n",
      "    \n",
      "    \n",
      "    u_tilde = pd_feedback_new(z, t) # nur der Regler, die Vorsteuerung ist durch die Linearisierung schon rausgefallen\n",
      "    \n",
      "    z_tilde_dot = np.dot(A, z_tilde) + np.dot(B, u_tilde)\n",
      "    \n",
      "    return z_tilde_dot"
     ],
     "language": "python",
     "metadata": {},
     "outputs": [],
     "prompt_number": 61
    },
    {
     "cell_type": "code",
     "collapsed": false,
     "input": [
      "get_zd(z0_alt, 0)"
     ],
     "language": "python",
     "metadata": {},
     "outputs": [
      {
       "metadata": {},
       "output_type": "pyout",
       "prompt_number": 62,
       "text": [
        "array([  0.   ,   0.   ,   0.   ,   0.   ,   7.098, -16.087,  10.692,  -4.976])"
       ]
      }
     ],
     "prompt_number": 62
    },
    {
     "cell_type": "code",
     "collapsed": false,
     "input": [
      "get_zd_new(z0,0)"
     ],
     "language": "python",
     "metadata": {},
     "outputs": [
      {
       "metadata": {},
       "output_type": "pyout",
       "prompt_number": 63,
       "text": [
        "array([ 0.,  0.,  0.,  0.,  0.,  0.,  0.,  0.])"
       ]
      }
     ],
     "prompt_number": 63
    },
    {
     "cell_type": "code",
     "collapsed": false,
     "input": [
      "# \u00dcberschreiben der alten Funktion:\n",
      "#get_zd = get_zd_new"
     ],
     "language": "python",
     "metadata": {},
     "outputs": [],
     "prompt_number": 64
    },
    {
     "cell_type": "markdown",
     "metadata": {},
     "source": [
      "Berechnungen f\u00fcr lineares Modell"
     ]
    },
    {
     "cell_type": "code",
     "collapsed": false,
     "input": [
      "# inzwischen \u00dcberfl\u00fcssig\n",
      "\n",
      "if 0:\n",
      "    sub_qq_0=zip(['q1_0'],[q11_t0])+zip(['q2_0'],[0])+zip(['q3_0'],[q21_t0])+zip(['q4_0'],[0])\n",
      "    #A=st.to_np(mod1.A.subs(params_values).subs(sub_qq_0))\n",
      "    A=mod1.A.subs(params_values)\n",
      "    A=A.subs(sub_qq_0)\n",
      "    A=st.to_np(A)\n",
      "    #A_fnc = sp.lambdify(['q1_0','q2_0','q3_0','q4_0'],A,'numpy')\n",
      "    #B=st.to_np(mod1.B.subs(params_values).subs(sub_qq_0))\n",
      "    B=mod1.B.subs(params_values)\n",
      "    B=B.subs(sub_qq_0)\n",
      "    B=st.to_np(B)\n",
      "    pdict={'A':A,'B':B}\n",
      "    #B_fnc = sp.lambdify(['q1_0','q2_0','q3_0','q4_0'],B,'numpy')\n",
      "    with open('A_lin2.pcl', \"w\") as pfile:\n",
      "        pickle.dump(pdict, pfile)\n",
      "elif 0:\n",
      "    with open('A_lin2.pcl', \"r\") as pfile:\n",
      "        pdict = pickle.load(pfile)\n",
      "    A, B = pdict['A'], pdict['B']"
     ],
     "language": "python",
     "metadata": {},
     "outputs": [],
     "prompt_number": 65
    },
    {
     "cell_type": "markdown",
     "metadata": {},
     "source": [
      "import pycontroltools.linearcontrol.robust_poleplacement as opt\n",
      "eig = [-1,-2,-3,-4,-5,-6,-7,-8]\n",
      "Bk_opt = opt.opt_place_MI(A, B, eig)"
     ]
    },
    {
     "cell_type": "code",
     "collapsed": false,
     "input": [
      "# Einbetten von Graphen direkt in den Browser\n",
      "%matplotlib inline \n",
      "z_start"
     ],
     "language": "python",
     "metadata": {},
     "outputs": [
      {
       "metadata": {},
       "output_type": "pyout",
       "prompt_number": 142,
       "text": [
        "array([ 1.047,  0.   , -1.571,  0.   ,  0.   ,  0.   ,  0.   ,  0.   ])"
       ]
      }
     ],
     "prompt_number": 142
    },
    {
     "cell_type": "code",
     "collapsed": false,
     "input": [
      "print \"simulate\"\n",
      "\n",
      "z_start = z0*1\n",
      "z_start[ [1, 3] ] = 0\n",
      "#z_start=r_[0,0,0,0,0,0,0,0]\n",
      "#qq_traj=traj.calc_traj(tt[0],tt[-1]/2,0,0,0,0)\n",
      "lsg = odeint(get_zd,z_start,tt)\n",
      "\n",
      "# Zeit mitspeichern\n",
      "lsg2 = np.concatenate( (tt.reshape(-1, 1) , lsg), axis=1)"
     ],
     "language": "python",
     "metadata": {},
     "outputs": [
      {
       "output_type": "stream",
       "stream": "stdout",
       "text": [
        "simulate\n"
       ]
      }
     ],
     "prompt_number": 161
    },
    {
     "cell_type": "code",
     "collapsed": false,
     "input": [
      "K_pole=np.array([[0.9172, 1.0252, -0.9633, 0.6265, 0.1866, 0.0402, -0.0986, 0.0084],\n",
      "                [ 2.1770, -0.2751, 1.6961, 0.6398, 0.4723, 0.2817, 0.2572,  0.0334]])*-1e7\n",
      "K_pole=np.array([[1.4971,    8.4107,   -0.9014,   4.7522,    0.6262,   -0.3968,   -0.2256,    1.2845],\n",
      "    [0.9982,    2.3705,    1.1740,    5.3809 ,   0.2067  ,  0.3225 ,   0.3035 ,  -0.6900]])*-1e6"
     ],
     "language": "python",
     "metadata": {},
     "outputs": [],
     "prompt_number": 68
    },
    {
     "cell_type": "code",
     "collapsed": false,
     "input": [
      "# ist der geschlossene Kreis wirklich stabil?\n",
      "\n",
      "np.max(np.real(np.linalg.eigvals(A+ np.dot(B, K_regler))))\n",
      "plt.plot(np.real(np.linalg.eigvals(A+ np.dot(B, K_regler))),np.imag(np.linalg.eigvals(A+ np.dot(B, K_regler))),'.')\n",
      "np.linalg.eigvals(A+ np.dot(B, K_regler))"
     ],
     "language": "python",
     "metadata": {},
     "outputs": [
      {
       "metadata": {},
       "output_type": "pyout",
       "prompt_number": 69,
       "text": [
        "array([-108.869 +0.j   ,   -5.406+48.446j,   -5.406-48.446j,  -12.731+19.939j,  -12.731-19.939j,   -2.658 +0.j   ,   -1.291 +0.j   ,   -0.990 +0.j   ])"
       ]
      },
      {
       "metadata": {},
       "output_type": "display_data",
       "png": "[encoded data removed]",
       "text": [
        "<matplotlib.figure.Figure at 0x7f9fd5e1ea90>"
       ]
      }
     ],
     "prompt_number": 69
    },
    {
     "cell_type": "markdown",
     "metadata": {},
     "source": [
      "import pycontroltools.linearcontrol.robust_poleplacement as opt\n",
      "eig=[-113.801+0.j, -5.317+45.993j, -5.317-45.993j, -9.985+14.387j, -9.985-14.387j, -11+0.j, -12+0.j, -12+0.j]#-13*np.ones((8,))\n",
      "Bk_opt = opt.opt_place_MI(A, B, eig)"
     ]
    },
    {
     "cell_type": "code",
     "collapsed": false,
     "input": [],
     "language": "python",
     "metadata": {},
     "outputs": [],
     "prompt_number": 69
    },
    {
     "cell_type": "code",
     "collapsed": false,
     "input": [
      "ls3=1*lsg2"
     ],
     "language": "python",
     "metadata": {},
     "outputs": [],
     "prompt_number": 70
    },
    {
     "cell_type": "code",
     "collapsed": false,
     "input": [
      "deg=180/pi\n",
      "fig = plt.figure(1)\n",
      "ax = fig.add_subplot(1,1,1)\n",
      "tt2, qq1, qq2, qq3, qq4 = lsg2[:, :5].T*deg\n",
      "ax.set_title(\"$q(t)$\")\n",
      "ax.plot(tt, qq3, label= r\"$q_3$\")\n",
      "#ax.plot(tt, qq1, label= r\"$q_1$\")\n",
      "#ax.plot(tt[:100], qq2[:100], label= r\"$q_2$\")\n",
      "#ax.plot(tt, qq4, label= r\"$q_4$\")\n",
      "ax.set_xlabel(\"$t$ in s\")\n",
      "ax.set_ylabel(\"$\\phi_2$\")\n",
      "ax.legend()\n",
      "plt.show()\n",
      "np.save('lsg_outfile',lsg2)"
     ],
     "language": "python",
     "metadata": {},
     "outputs": [
      {
       "metadata": {},
       "output_type": "display_data",
       "png": "[encoded data removed]",
       "text": [
        "<matplotlib.figure.Figure at 0x7f9fd58a20d0>"
       ]
      }
     ],
     "prompt_number": 162
    },
    {
     "cell_type": "code",
     "collapsed": false,
     "input": [
      "deg=180/pi\n",
      "fig = plt.figure(1)\n",
      "ax = fig.add_subplot(1,1,1)\n",
      "tt2, qq1, qq2, qq3, qq4 = lsg2[:, :5].T*deg\n",
      "ax.set_title(\"$q(t)$\")\n",
      "ax.plot(tt, qq3, label= r\"$q_3$\")\n",
      "#ax.plot(tt, qq1, label= r\"$q_1$\")\n",
      "#ax.plot(tt, qq2, label= r\"$q_2$\")\n",
      "#ax.plot(tt, qq4, label= r\"$q_4$\")\n",
      "ax.set_xlabel(\"$t$ in s\")\n",
      "ax.set_ylabel(\"$\\phi_2$\")\n",
      "ax.legend()\n",
      "plt.show()\n",
      "np.save('lsg_outfile',lsg2)"
     ],
     "language": "python",
     "metadata": {},
     "outputs": [
      {
       "metadata": {},
       "output_type": "display_data",
       "png": "[encoded data removed]",
       "text": [
        "<matplotlib.figure.Figure at 0x7f9fd5b99790>"
       ]
      }
     ],
     "prompt_number": 152
    },
    {
     "cell_type": "code",
     "collapsed": false,
     "input": [
      "# Fehler\n",
      "\n",
      "qq_soll = qq_traj(tt)\n",
      "e1 = lsg2[:,1]-qq_soll[:,0]\n",
      "e1_d = lsg2[:,5]-qq_soll[:,2]\n",
      "e2 = lsg2[:,3]-qq_soll[:,1]\n",
      "e2_d = lsg2[:,7]-qq_soll[:,3]\n",
      "\n",
      "fig2 = plt.figure(2)\n",
      "a1=fig2.add_subplot(2,2,1)\n",
      "a1.set_title('e1')\n",
      "a1.plot(tt,e1*deg)\n",
      "a2=fig2.add_subplot(2,2,2)\n",
      "a2.set_title('e1_d')\n",
      "a2.plot(tt,e1_d*deg)\n",
      "a3=fig2.add_subplot(2,2,3)\n",
      "a3.set_title('e2')\n",
      "a3.plot(tt,e2*deg)\n",
      "a4=fig2.add_subplot(2,2,4)\n",
      "a4.set_title('e2_d')\n",
      "a4.plot(tt,e2_d*deg)\n",
      "# plt.show()"
     ],
     "language": "python",
     "metadata": {},
     "outputs": [
      {
       "metadata": {},
       "output_type": "pyout",
       "prompt_number": 153,
       "text": [
        "[<matplotlib.lines.Line2D at 0x7f9fd5260cd0>]"
       ]
      },
      {
       "metadata": {},
       "output_type": "display_data",
       "png": "[encoded data removed]",
       "text": [
        "<matplotlib.figure.Figure at 0x7f9fd54fa790>"
       ]
      }
     ],
     "prompt_number": 153
    },
    {
     "cell_type": "code",
     "collapsed": false,
     "input": [
      "ce = controll_effort = pd_feedback_new(lsg, 0)\n",
      "\n",
      "fig3 = plt.figure(3)\n",
      "plt.plot(tt, ce[:,0])\n",
      "plt.plot(tt, ce[:,1])\n",
      "plt.show()\n"
     ],
     "language": "python",
     "metadata": {},
     "outputs": [
      {
       "metadata": {},
       "output_type": "display_data",
       "png": "[encoded data removed]",
       "text": [
        "<matplotlib.figure.Figure at 0x7f9fd58b5f10>"
       ]
      }
     ],
     "prompt_number": 149
    },
    {
     "cell_type": "markdown",
     "metadata": {},
     "source": [
      "## Fazit (Carsten)\n",
      "\n",
      "Ich glaube der Fehler lag an einer falsch verstandenen Linearisierung. Das lineare Modell beschreibt das \"Kleinsignalverhalten\" = Abweichung um die Ruhelage: $\\tilde{z}:= z - z_0$. Deswegen muss bei der Berechnung von $\\dot{\\tilde{z}}$ der f\u00fcr die Aufrechterhaltung der Ruhelage notwendige Eingang $u_0$ (= Vorsteuerung f\u00fcr die Ruhelage) nicht mehr mit einbezogen werden. Wenn man es doch tut (wie es vorher war), dann wird das durch den Regler ausgeglichen.\n",
      "\n",
      "Der Code in diesem Notebook ist immer noch nicht wirklich sch\u00f6n. Aber ich hoffe ich konnte durch meine \u00c4nderungen etwas mehr Klarheit reinbringen. Zumindest gibt es jetzt Code, um die sich ergebende Ruhelage exakt zu berechnen.\n",
      "\n",
      "Vorschlag: die Modularit\u00e4t f\u00fcr mehrere Gelenke verwirrt eher. Ich w\u00fcrde die erst einbauen, wenn der Spezialfall ((2,2) Gelenke) l\u00e4uft."
     ]
    },
    {
     "cell_type": "code",
     "collapsed": false,
     "input": [
      "np.linalg.eigvals(A + np.dot(B,K_regler))"
     ],
     "language": "python",
     "metadata": {},
     "outputs": [
      {
       "metadata": {},
       "output_type": "pyout",
       "prompt_number": 75,
       "text": [
        "array([-108.869 +0.j   ,   -5.406+48.446j,   -5.406-48.446j,  -12.731+19.939j,  -12.731-19.939j,   -2.658 +0.j   ,   -1.291 +0.j   ,   -0.990 +0.j   ])"
       ]
      }
     ],
     "prompt_number": 75
    },
    {
     "cell_type": "code",
     "collapsed": false,
     "input": [
      "z0"
     ],
     "language": "python",
     "metadata": {},
     "outputs": [
      {
       "metadata": {},
       "output_type": "pyout",
       "prompt_number": 76,
       "text": [
        "array([ 1.047, -0.008, -1.571, -0.002,  0.   ,  0.   ,  0.   ,  0.   ])"
       ]
      }
     ],
     "prompt_number": 76
    },
    {
     "cell_type": "code",
     "collapsed": false,
     "input": [
      "para_a"
     ],
     "language": "python",
     "metadata": {},
     "outputs": [
      {
       "metadata": {},
       "output_type": "pyout",
       "prompt_number": 77,
       "text": [
        "array([ 4.5,  4.5,  4. ,  4. ,  3.5,  3.5,  3.5,  3.5,  3. ,  3. ])"
       ]
      }
     ],
     "prompt_number": 77
    },
    {
     "cell_type": "code",
     "collapsed": false,
     "input": [
      "tau = 9.81 * 100 * para_a[3]\n",
      "phi = sp.atan(0.02/para_a[3])\n",
      "K = ( tau - 100 * 9.81 * para_a[3] * sp.sin(phi) ) / (phi)\n",
      "K"
     ],
     "language": "python",
     "metadata": {},
     "outputs": [
      {
       "metadata": {},
       "output_type": "pyout",
       "prompt_number": 78,
       "text": [
        "780882.556306108"
       ]
      }
     ],
     "prompt_number": 78
    },
    {
     "cell_type": "code",
     "collapsed": false,
     "input": [
      "sp.sqrt((K+ para_m[3]*9.81+para_a[3])/(para_I[3]+para_m[3]*para_a[3]))/2/pi"
     ],
     "language": "python",
     "metadata": {},
     "outputs": [
      {
       "metadata": {},
       "output_type": "pyout",
       "prompt_number": 79,
       "text": [
        "1.58583175738445"
       ]
      }
     ],
     "prompt_number": 79
    },
    {
     "cell_type": "code",
     "collapsed": false,
     "input": [
      "np.e"
     ],
     "language": "python",
     "metadata": {},
     "outputs": [
      {
       "metadata": {},
       "output_type": "pyout",
       "prompt_number": 80,
       "text": [
        "2.718281828459045"
       ]
      }
     ],
     "prompt_number": 80
    },
    {
     "cell_type": "code",
     "collapsed": false,
     "input": [
      "s=sp.Symbol('s')\n",
      "sp.det(np.eye(8)*s-A-np.dot(B,K_regler))"
     ],
     "language": "python",
     "metadata": {},
     "outputs": [
      {
       "ename": "SympifyError",
       "evalue": "Sympify of expression 'could not parse u'[1.0*s 0 0 0 -1.00000000000000 0 0 0]'' failed, because of exception being raised:\nSyntaxError: invalid syntax (<string>, line 1)",
       "output_type": "pyerr",
       "traceback": [
        "\u001b[1;31m---------------------------------------------------------------------------\u001b[0m\n\u001b[1;31mSympifyError\u001b[0m                              Traceback (most recent call last)",
        "\u001b[1;32m<ipython-input-81-7696969bb997>\u001b[0m in \u001b[0;36m<module>\u001b[1;34m()\u001b[0m\n\u001b[0;32m      1\u001b[0m \u001b[0ms\u001b[0m\u001b[1;33m=\u001b[0m\u001b[0msp\u001b[0m\u001b[1;33m.\u001b[0m\u001b[0mSymbol\u001b[0m\u001b[1;33m(\u001b[0m\u001b[1;34m's'\u001b[0m\u001b[1;33m)\u001b[0m\u001b[1;33m\u001b[0m\u001b[0m\n\u001b[1;32m----> 2\u001b[1;33m \u001b[0msp\u001b[0m\u001b[1;33m.\u001b[0m\u001b[0mdet\u001b[0m\u001b[1;33m(\u001b[0m\u001b[0mnp\u001b[0m\u001b[1;33m.\u001b[0m\u001b[0meye\u001b[0m\u001b[1;33m(\u001b[0m\u001b[1;36m8\u001b[0m\u001b[1;33m)\u001b[0m\u001b[1;33m*\u001b[0m\u001b[0ms\u001b[0m\u001b[1;33m-\u001b[0m\u001b[0mA\u001b[0m\u001b[1;33m-\u001b[0m\u001b[0mnp\u001b[0m\u001b[1;33m.\u001b[0m\u001b[0mdot\u001b[0m\u001b[1;33m(\u001b[0m\u001b[0mB\u001b[0m\u001b[1;33m,\u001b[0m\u001b[0mK_regler\u001b[0m\u001b[1;33m)\u001b[0m\u001b[1;33m)\u001b[0m\u001b[1;33m\u001b[0m\u001b[0m\n\u001b[0m",
        "\u001b[1;32m/usr/lib/python2.7/site-packages/sympy/matrices/expressions/determinant.pyc\u001b[0m in \u001b[0;36mdet\u001b[1;34m(matexpr)\u001b[0m\n\u001b[0;32m     51\u001b[0m     \"\"\"\n\u001b[0;32m     52\u001b[0m \u001b[1;33m\u001b[0m\u001b[0m\n\u001b[1;32m---> 53\u001b[1;33m     \u001b[1;32mreturn\u001b[0m \u001b[0mDeterminant\u001b[0m\u001b[1;33m(\u001b[0m\u001b[0mmatexpr\u001b[0m\u001b[1;33m)\u001b[0m\u001b[1;33m.\u001b[0m\u001b[0mdoit\u001b[0m\u001b[1;33m(\u001b[0m\u001b[1;33m)\u001b[0m\u001b[1;33m\u001b[0m\u001b[0m\n\u001b[0m\u001b[0;32m     54\u001b[0m \u001b[1;33m\u001b[0m\u001b[0m\n\u001b[0;32m     55\u001b[0m \u001b[1;33m\u001b[0m\u001b[0m\n",
        "\u001b[1;32m/usr/lib/python2.7/site-packages/sympy/matrices/expressions/determinant.pyc\u001b[0m in \u001b[0;36m__new__\u001b[1;34m(cls, mat)\u001b[0m\n\u001b[0;32m     20\u001b[0m \u001b[1;33m\u001b[0m\u001b[0m\n\u001b[0;32m     21\u001b[0m     \u001b[1;32mdef\u001b[0m \u001b[0m__new__\u001b[0m\u001b[1;33m(\u001b[0m\u001b[0mcls\u001b[0m\u001b[1;33m,\u001b[0m \u001b[0mmat\u001b[0m\u001b[1;33m)\u001b[0m\u001b[1;33m:\u001b[0m\u001b[1;33m\u001b[0m\u001b[0m\n\u001b[1;32m---> 22\u001b[1;33m         \u001b[0mmat\u001b[0m \u001b[1;33m=\u001b[0m \u001b[0msympify\u001b[0m\u001b[1;33m(\u001b[0m\u001b[0mmat\u001b[0m\u001b[1;33m)\u001b[0m\u001b[1;33m\u001b[0m\u001b[0m\n\u001b[0m\u001b[0;32m     23\u001b[0m         \u001b[1;32mif\u001b[0m \u001b[1;32mnot\u001b[0m \u001b[0mmat\u001b[0m\u001b[1;33m.\u001b[0m\u001b[0mis_Matrix\u001b[0m\u001b[1;33m:\u001b[0m\u001b[1;33m\u001b[0m\u001b[0m\n\u001b[0;32m     24\u001b[0m             \u001b[1;32mraise\u001b[0m \u001b[0mTypeError\u001b[0m\u001b[1;33m(\u001b[0m\u001b[1;34m\"Input to Determinant, %s, not a matrix\"\u001b[0m \u001b[1;33m%\u001b[0m \u001b[0mstr\u001b[0m\u001b[1;33m(\u001b[0m\u001b[0mmat\u001b[0m\u001b[1;33m)\u001b[0m\u001b[1;33m)\u001b[0m\u001b[1;33m\u001b[0m\u001b[0m\n",
        "\u001b[1;32m/usr/lib/python2.7/site-packages/sympy/core/sympify.pyc\u001b[0m in \u001b[0;36msympify\u001b[1;34m(a, locals, convert_xor, strict, rational, evaluate)\u001b[0m\n\u001b[0;32m    275\u001b[0m         \u001b[1;32mtry\u001b[0m\u001b[1;33m:\u001b[0m\u001b[1;33m\u001b[0m\u001b[0m\n\u001b[0;32m    276\u001b[0m             return type(a)([sympify(x, locals=locals, convert_xor=convert_xor,\n\u001b[1;32m--> 277\u001b[1;33m                 rational=rational) for x in a])\n\u001b[0m\u001b[0;32m    278\u001b[0m         \u001b[1;32mexcept\u001b[0m \u001b[0mTypeError\u001b[0m\u001b[1;33m:\u001b[0m\u001b[1;33m\u001b[0m\u001b[0m\n\u001b[0;32m    279\u001b[0m             \u001b[1;31m# Not all iterables are rebuildable with their type.\u001b[0m\u001b[1;33m\u001b[0m\u001b[1;33m\u001b[0m\u001b[0m\n",
        "\u001b[1;32m/usr/lib/python2.7/site-packages/sympy/core/sympify.pyc\u001b[0m in \u001b[0;36msympify\u001b[1;34m(a, locals, convert_xor, strict, rational, evaluate)\u001b[0m\n\u001b[0;32m    317\u001b[0m         \u001b[0mexpr\u001b[0m \u001b[1;33m=\u001b[0m \u001b[0mparse_expr\u001b[0m\u001b[1;33m(\u001b[0m\u001b[0ma\u001b[0m\u001b[1;33m,\u001b[0m \u001b[0mlocal_dict\u001b[0m\u001b[1;33m=\u001b[0m\u001b[0mlocals\u001b[0m\u001b[1;33m,\u001b[0m \u001b[0mtransformations\u001b[0m\u001b[1;33m=\u001b[0m\u001b[0mtransformations\u001b[0m\u001b[1;33m,\u001b[0m \u001b[0mevaluate\u001b[0m\u001b[1;33m=\u001b[0m\u001b[0mevaluate\u001b[0m\u001b[1;33m)\u001b[0m\u001b[1;33m\u001b[0m\u001b[0m\n\u001b[0;32m    318\u001b[0m     \u001b[1;32mexcept\u001b[0m \u001b[1;33m(\u001b[0m\u001b[0mTokenError\u001b[0m\u001b[1;33m,\u001b[0m \u001b[0mSyntaxError\u001b[0m\u001b[1;33m)\u001b[0m \u001b[1;32mas\u001b[0m \u001b[0mexc\u001b[0m\u001b[1;33m:\u001b[0m\u001b[1;33m\u001b[0m\u001b[0m\n\u001b[1;32m--> 319\u001b[1;33m         \u001b[1;32mraise\u001b[0m \u001b[0mSympifyError\u001b[0m\u001b[1;33m(\u001b[0m\u001b[1;34m'could not parse %r'\u001b[0m \u001b[1;33m%\u001b[0m \u001b[0ma\u001b[0m\u001b[1;33m,\u001b[0m \u001b[0mexc\u001b[0m\u001b[1;33m)\u001b[0m\u001b[1;33m\u001b[0m\u001b[0m\n\u001b[0m\u001b[0;32m    320\u001b[0m \u001b[1;33m\u001b[0m\u001b[0m\n\u001b[0;32m    321\u001b[0m     \u001b[1;32mreturn\u001b[0m \u001b[0mexpr\u001b[0m\u001b[1;33m\u001b[0m\u001b[0m\n",
        "\u001b[1;31mSympifyError\u001b[0m: Sympify of expression 'could not parse u'[1.0*s 0 0 0 -1.00000000000000 0 0 0]'' failed, because of exception being raised:\nSyntaxError: invalid syntax (<string>, line 1)"
       ]
      }
     ],
     "prompt_number": 81
    },
    {
     "cell_type": "code",
     "collapsed": false,
     "input": [
      "mod1.eq_list[1]"
     ],
     "language": "python",
     "metadata": {},
     "outputs": []
    },
    {
     "cell_type": "code",
     "collapsed": false,
     "input": [],
     "language": "python",
     "metadata": {},
     "outputs": []
    }
   ],
   "metadata": {}
  }
 ]
}