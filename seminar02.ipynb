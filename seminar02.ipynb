{
 "metadata": {
  "name": "",
  "signature": "sha256:abda5ed7c89421e548aa6975dcb3a1cbb79afd14088486f9f8e350358885b686"
 },
 "nbformat": 3,
 "nbformat_minor": 0,
 "worksheets": [
  {
   "cells": [
    {
     "cell_type": "code",
     "collapsed": false,
     "input": [
      "import sympy as sp\n",
      "import symb_tools as st\n",
      "from sympy import pi\n",
      "import numpy as np\n",
      "import pylab as pl"
     ],
     "language": "python",
     "metadata": {},
     "outputs": [],
     "prompt_number": 1
    },
    {
     "cell_type": "code",
     "collapsed": false,
     "input": [
      "t = sp.Symbol('t')\n",
      "\n",
      "T0 = 0\n",
      "T1 = 10\n",
      "# \u00dcbergangspolynom bestimmen\n",
      "q1_poly = st.trans_poly(t, cn=2, left=(T0, -pi/2, 0, 0), right=(T1, pi/4, 0, 0))\n",
      "q1_poly"
     ],
     "language": "python",
     "metadata": {},
     "outputs": [
      {
       "metadata": {},
       "output_type": "pyout",
       "prompt_number": 2,
       "text": [
        "9*pi*t**5/200000 - 9*pi*t**4/8000 + 3*pi*t**3/400 - pi/2"
       ]
      }
     ],
     "prompt_number": 2
    },
    {
     "cell_type": "code",
     "collapsed": false,
     "input": [
      "# St\u00fcckweise definierten Ausdruck anlegen\n",
      "q1_piecewise = sp.Piecewise( (q1_poly.subs(t, T0), t < T0), (q1_poly, t < T1), (q1_poly.subs(t, T1), True))\n",
      "q1_piecewise"
     ],
     "language": "python",
     "metadata": {},
     "outputs": [
      {
       "metadata": {},
       "output_type": "pyout",
       "prompt_number": 3,
       "text": [
        "Piecewise((-pi/2, t < 0), (9*pi*t**5/200000 - 9*pi*t**4/8000 + 3*pi*t**3/400 - pi/2, t < 10), (pi/4, True))"
       ]
      }
     ],
     "prompt_number": 3
    },
    {
     "cell_type": "code",
     "collapsed": false,
     "input": [
      "q1_piecewise_d=q1_piecewise.diff('t')\n",
      "q1_piecewise_dd=q1_piecewise_d.diff('t')"
     ],
     "language": "python",
     "metadata": {},
     "outputs": [],
     "prompt_number": 18
    },
    {
     "cell_type": "markdown",
     "metadata": {},
     "source": [
      "\u2192 Siehe auch Doku (Eintippen von `sp.Piecewise?`)"
     ]
    },
    {
     "cell_type": "code",
     "collapsed": false,
     "input": [
      "# Das gleiche f\u00fcr q2:\n",
      "q2_poly = st.trans_poly(t, cn=2, left=(T0, 0, 0, 0),\n",
      "                                 right=(T1, -pi/4, 0, 0))\n",
      "\n",
      "q2_piecewise = sp.Piecewise( (q2_poly.subs(t, T0), t < T0), (q2_poly, t < T1), (q2_poly.subs(t, T1), True))"
     ],
     "language": "python",
     "metadata": {},
     "outputs": [],
     "prompt_number": 11
    },
    {
     "cell_type": "code",
     "collapsed": false,
     "input": [
      "q2_piecewise_d=q2_piecewise.diff('t')\n",
      "q2_piecewise_dd=q2_piecewise_d.diff('t')"
     ],
     "language": "python",
     "metadata": {},
     "outputs": [],
     "prompt_number": 17
    },
    {
     "cell_type": "code",
     "collapsed": false,
     "input": [
      "# als Spaltenvektor:\n",
      "qq_traj = sp.Matrix([[q1_piecewise, q2_piecewise],[q1_piecewise_d, q2_piecewise_d],[q1_piecewise_dd, q2_piecewise_dd]])\n",
      "qq_traj"
     ],
     "language": "python",
     "metadata": {},
     "outputs": [
      {
       "metadata": {},
       "output_type": "pyout",
       "prompt_number": 19,
       "text": [
        "Matrix([\n",
        "[Piecewise((-pi/2, t < 0), (9*pi*t**5/200000 - 9*pi*t**4/8000 + 3*pi*t**3/400 - pi/2, t < 10), (pi/4, True)), Piecewise((0, t < 0), (-3*pi*t**5/200000 + 3*pi*t**4/8000 - pi*t**3/400, t < 10), (-pi/4, True))],\n",
        "[               Piecewise((0, t < 0), (9*pi*t**4/40000 - 9*pi*t**3/2000 + 9*pi*t**2/400, t < 10), (0, True)),    Piecewise((0, t < 0), (-3*pi*t**4/40000 + 3*pi*t**3/2000 - 3*pi*t**2/400, t < 10), (0, True))],\n",
        "[                 Piecewise((0, t < 0), (9*pi*t**3/10000 - 27*pi*t**2/2000 + 9*pi*t/200, t < 10), (0, True)),       Piecewise((0, t < 0), (-3*pi*t**3/10000 + 9*pi*t**2/2000 - 3*pi*t/200, t < 10), (0, True))]])"
       ]
      }
     ],
     "prompt_number": 19
    },
    {
     "cell_type": "code",
     "collapsed": false,
     "input": [
      "# Ausf\u00fchrbare Python-Funktion erstellen, die man auch mit numpy-Vektoren auswerten kann\n",
      "qq_func = st.expr_to_func(t, list(qq_traj), eltw_vectorize=True)"
     ],
     "language": "python",
     "metadata": {},
     "outputs": [],
     "prompt_number": 20
    },
    {
     "cell_type": "markdown",
     "metadata": {},
     "source": [
      "Eine solche Funktion kann man jetzt entweder an bestimmten Zeitpunkten auswerten und plotten oder in der RHS-Funktion der Simulation f\u00fcr eine Vorsteuerung verwenden"
     ]
    },
    {
     "cell_type": "code",
     "collapsed": false,
     "input": [
      "tt = np.linspace(-5, 15, 1e3)"
     ],
     "language": "python",
     "metadata": {},
     "outputs": [],
     "prompt_number": 21
    },
    {
     "cell_type": "code",
     "collapsed": false,
     "input": [
      "qq = qq_func(tt)\n",
      "np.save('traj_01',qq)"
     ],
     "language": "python",
     "metadata": {},
     "outputs": [],
     "prompt_number": 32
    },
    {
     "cell_type": "code",
     "collapsed": false,
     "input": [
      "# Einbetten von Gra\n",
      "phen direkt in den Browser\n",
      "%matplotlib inline "
     ],
     "language": "python",
     "metadata": {},
     "outputs": [],
     "prompt_number": 23
    },
    {
     "cell_type": "code",
     "collapsed": false,
     "input": [
      "pl.plot(tt, qq[:, 0], label='$q_1$')\n",
      "pl.plot(tt, qq[:, 2], label='$q_1_d$')\n",
      "pl.plot(tt, qq[:, 4], label='$q_1_dd$')\n",
      "#pl.plot(tt, qq[:, 1], label='$q_2$')"
     ],
     "language": "python",
     "metadata": {},
     "outputs": [
      {
       "metadata": {},
       "output_type": "pyout",
       "prompt_number": 30,
       "text": [
        "[<matplotlib.lines.Line2D at 0xafb3c6ac>]"
       ]
      },
      {
       "metadata": {},
       "output_type": "display_data",
       "png": "[encoded data removed]",
       "text": [
        "<matplotlib.figure.Figure at 0xafbbf30c>"
       ]
      }
     ],
     "prompt_number": 30
    }
   ],
   "metadata": {}
  }
 ]
}