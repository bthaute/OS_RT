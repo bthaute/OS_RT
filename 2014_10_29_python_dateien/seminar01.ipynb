{
 "metadata": {
  "name": "",
  "signature": "sha256:911dd4d15819b619e3e9164c39bd606f80db10bcc70211ff7229cc19baea3aa2"
 },
 "nbformat": 3,
 "nbformat_minor": 0,
 "worksheets": [
  {
   "cells": [
    {
     "cell_type": "code",
     "collapsed": false,
     "input": [
      "import sympy as sp\n",
      "import symb_tools as st\n",
      "import model_tools as mt\n",
      "import numpy as np\n",
      "from numpy import r_,pi\n",
      "from scipy.integrate import odeint\n",
      "import pylab as pl \n",
      "import matplotlib"
     ],
     "language": "python",
     "metadata": {},
     "outputs": [],
     "prompt_number": 89
    },
    {
     "cell_type": "code",
     "collapsed": false,
     "input": [
      "t = sp.Symbol(\"t\")\n",
      "x1 = sp.Symbol(\"x1\")"
     ],
     "language": "python",
     "metadata": {},
     "outputs": [],
     "prompt_number": 90
    },
    {
     "cell_type": "code",
     "collapsed": false,
     "input": [
      "q1 = sp.Function(\"q1\")(t)\n",
      "q2 = sp.Function(\"q2\")(t)\n",
      "qq = sp.Matrix([q1, q2])\n",
      "FF = sp.Matrix(sp.symbols(\"F1, F2\"))\n",
      "parameter = sp.symbols(\"I1, I2, m1, m2, l1, l2, a1, k1, k2, g\")\n",
      "#Bill: was bewirkt diese Zeile? Quasi um jedes Symbol, was oben angelegt wurde als Listenelemente ansprechen zu k\u00f6nnen\n",
      "I1, I2, m1, m2, l1, l2, a1, k1, k2, g = parameter"
     ],
     "language": "python",
     "metadata": {},
     "outputs": [],
     "prompt_number": 91
    },
    {
     "cell_type": "markdown",
     "metadata": {},
     "source": [
      "Geometrie (karthesische Koordinaten der Schwerpunkte)"
     ]
    },
    {
     "cell_type": "code",
     "collapsed": false,
     "input": [
      "ex = sp.Matrix([1, 0])\n",
      "ey = sp.Matrix([0, 1])"
     ],
     "language": "python",
     "metadata": {},
     "outputs": [],
     "prompt_number": 92
    },
    {
     "cell_type": "code",
     "collapsed": false,
     "input": [
      "# Rotationsmatrix\n",
      "mt.Rz(q1)"
     ],
     "language": "python",
     "metadata": {},
     "outputs": [
      {
       "metadata": {},
       "output_type": "pyout",
       "prompt_number": 93,
       "text": [
        "Matrix([\n",
        "[cos(q1(t)), -sin(q1(t))],\n",
        "[sin(q1(t)),  cos(q1(t))]])"
       ]
      }
     ],
     "prompt_number": 93
    },
    {
     "cell_type": "code",
     "collapsed": false,
     "input": [
      "s1 = l1*mt.Rz(q1)*ex\n",
      "s1"
     ],
     "language": "python",
     "metadata": {},
     "outputs": [
      {
       "metadata": {},
       "output_type": "pyout",
       "prompt_number": 94,
       "text": [
        "Matrix([\n",
        "[l1*cos(q1(t))],\n",
        "[l1*sin(q1(t))]])"
       ]
      }
     ],
     "prompt_number": 94
    },
    {
     "cell_type": "code",
     "collapsed": false,
     "input": [
      "s2 = a1*mt.Rz(q1)*ex + l2*mt.Rz(q1+q2)*ex\n",
      "s2"
     ],
     "language": "python",
     "metadata": {},
     "outputs": [
      {
       "metadata": {},
       "output_type": "pyout",
       "prompt_number": 95,
       "text": [
        "Matrix([\n",
        "[a1*cos(q1(t)) + l2*cos(q1(t) + q2(t))],\n",
        "[a1*sin(q1(t)) + l2*sin(q1(t) + q2(t))]])"
       ]
      }
     ],
     "prompt_number": 95
    },
    {
     "cell_type": "markdown",
     "metadata": {},
     "source": [
      "kinetische und potentielle Energie"
     ]
    },
    {
     "cell_type": "code",
     "collapsed": false,
     "input": [
      "q1d = q1.diff(t)\n",
      "q2d = q2.diff(t)\n",
      "s1d = s1.diff(t)\n",
      "s2d = s2.diff(t)"
     ],
     "language": "python",
     "metadata": {},
     "outputs": [],
     "prompt_number": 96
    },
    {
     "cell_type": "code",
     "collapsed": false,
     "input": [
      "T = (I1*q1d**2 + I2*(q1d+q2d)**2 + m1*(s1d.T*s1d)[0] + m2*(s2d.T*s2d)[0] )/2\n",
      "#T = (I1*q1d**2 + I2*(q2d)**2 + m1*(s1d.T*s1d)[0] + m2*(s2d.T*s2d)[0] )/2"
     ],
     "language": "python",
     "metadata": {},
     "outputs": [],
     "prompt_number": 97
    },
    {
     "cell_type": "code",
     "collapsed": false,
     "input": [
      "V = (k1*q1**2 + k2*q2**2)/2"
     ],
     "language": "python",
     "metadata": {},
     "outputs": [],
     "prompt_number": 98
    },
    {
     "cell_type": "code",
     "collapsed": false,
     "input": [
      "mod1 = mt.generate_model(T, V, qq, FF)\n",
      "mod1.eq_list.simplify()\n",
      "mod1.eq_list"
     ],
     "language": "python",
     "metadata": {},
     "outputs": [
      {
       "metadata": {},
       "output_type": "pyout",
       "prompt_number": 99,
       "text": [
        "Matrix([\n",
        "[-F1 + I1*q1_dd + I2*(q1_dd + q2_dd) + k1*q1 + l1**2*m1*q1_dd + m2*(a1**2*q1_dd - 2*a1*l2*q1_d*q2_d*sin(q2) + 2*a1*l2*q1_dd*cos(q2) - a1*l2*q2_d**2*sin(q2) + a1*l2*q2_dd*cos(q2) + l2**2*q1_dd + l2**2*q2_dd)],\n",
        "[                                                                                      -F2 + I2*q1_dd + I2*q2_dd + a1*l2*m2*q1_d**2*sin(q2) + a1*l2*m2*q1_dd*cos(q2) + k2*q2 + l2**2*m2*q1_dd + l2**2*m2*q2_dd]])"
       ]
      }
     ],
     "prompt_number": 99
    },
    {
     "cell_type": "code",
     "collapsed": false,
     "input": [
      "Mq = mod1.MM.expand()"
     ],
     "language": "python",
     "metadata": {},
     "outputs": [],
     "prompt_number": 100
    },
    {
     "cell_type": "code",
     "collapsed": false,
     "input": [
      "#Mq.simplify()\n",
      "Mq"
     ],
     "language": "python",
     "metadata": {},
     "outputs": [
      {
       "metadata": {},
       "output_type": "pyout",
       "prompt_number": 101,
       "text": [
        "Matrix([\n",
        "[I1 + I2 + a1**2*m2 + 2*a1*l2*m2*cos(q2) + l1**2*m1 + l2**2*m2, I2 + a1*l2*m2*cos(q2) + l2**2*m2],\n",
        "[                             I2 + a1*l2*m2*cos(q2) + l2**2*m2,                    I2 + l2**2*m2]])"
       ]
      }
     ],
     "prompt_number": 101
    },
    {
     "cell_type": "markdown",
     "metadata": {},
     "source": [
      "---\n",
      "Alternativer Zugang (Koordinatendefinition wie Prof. Janschek)"
     ]
    },
    {
     "cell_type": "code",
     "collapsed": false,
     "input": [
      "z1 = sp.Function(\"z1\")(t)\n",
      "z2 = sp.Function(\"z2\")(t)\n",
      "zz = sp.Matrix([z1, z2])\n",
      "# \u00dcberschreiben von s1, s2\n",
      "\n",
      "s1 = l1*mt.Rz(z1)*ex\n",
      "s2 = a1*mt.Rz(z1)*ex + l2*mt.Rz(z2)*ex\n",
      "\n",
      "z1d = z1.diff(t)\n",
      "z2d = z2.diff(t)\n",
      "s1d = s1.diff(t)\n",
      "s2d = s2.diff(t)\n",
      "\n",
      "T = (I1*z1d**2 + I2*z2d**2 + m1*st.norm2(s1d) + m2*st.norm2(s2d) )/2\n",
      "V = (k1*z1**2 + k2*z2**2)/2"
     ],
     "language": "python",
     "metadata": {},
     "outputs": [],
     "prompt_number": 102
    },
    {
     "cell_type": "code",
     "collapsed": false,
     "input": [
      "mod2 = mt.generate_model(T, V, zz, FF)\n",
      "mod2.eq_list.simplify()\n",
      "mod2.eq_list"
     ],
     "language": "python",
     "metadata": {},
     "outputs": [
      {
       "metadata": {},
       "output_type": "pyout",
       "prompt_number": 103,
       "text": [
        "Matrix([\n",
        "[-F1 + I1*z1_dd + a1**2*m2*z1_dd + a1*l2*m2*z2_d**2*sin(z1 - z2) + a1*l2*m2*z2_dd*cos(z1 - z2) + k1*z1 + l1**2*m1*z1_dd],\n",
        "[                 -F2 + I2*z2_dd - a1*l2*m2*z1_d**2*sin(z1 - z2) + a1*l2*m2*z1_dd*cos(z1 - z2) + k2*z2 + l2**2*m2*z2_dd]])"
       ]
      }
     ],
     "prompt_number": 103
    },
    {
     "cell_type": "code",
     "collapsed": false,
     "input": [
      "s1d"
     ],
     "language": "python",
     "metadata": {},
     "outputs": [
      {
       "metadata": {},
       "output_type": "pyout",
       "prompt_number": 104,
       "text": [
        "Matrix([\n",
        "[-l1*sin(z1(t))*Derivative(z1(t), t)],\n",
        "[ l1*cos(z1(t))*Derivative(z1(t), t)]])"
       ]
      }
     ],
     "prompt_number": 104
    },
    {
     "cell_type": "markdown",
     "metadata": {},
     "source": [
      "Das ist die Massenmatrix, die bei Prof. Janschek rauskam"
     ]
    },
    {
     "cell_type": "code",
     "collapsed": false,
     "input": [
      "Mz = mod2.MM\n",
      "Mz"
     ],
     "language": "python",
     "metadata": {},
     "outputs": [
      {
       "metadata": {},
       "output_type": "pyout",
       "prompt_number": 105,
       "text": [
        "Matrix([\n",
        "[I1 + a1**2*m2 + l1**2*m1, a1*l2*m2*cos(z1 - z2)],\n",
        "[   a1*l2*m2*cos(z1 - z2),         I2 + l2**2*m2]])"
       ]
      }
     ],
     "prompt_number": 105
    },
    {
     "cell_type": "markdown",
     "metadata": {},
     "source": [
      "---"
     ]
    },
    {
     "cell_type": "heading",
     "level": 3,
     "metadata": {},
     "source": [
      "Frage: wie kann man die beiden Massenmatrizen ineinander umrechnen?"
     ]
    },
    {
     "cell_type": "markdown",
     "metadata": {},
     "source": [
      "**Variante 1**: Schritt f\u00fcr Schritt: wir nehmen unsere Bewegungsgleichungen (mod1), substituieren die alten $q$ Variablen durch die neuen $z$ Variablen (auch f\u00fcr alle Ableitungen), bilden dann die Jacobi-Matrix bez\u00fcglich $\\ddot z$ und bilden schilie\u00dflich eine Linearkombination der Gleichungen (Zeilen der Matrix), so dass die resultierende Matrix wieder symmetrisch ist."
     ]
    },
    {
     "cell_type": "code",
     "collapsed": false,
     "input": [
      "# Transformationsmatrix z = S * q:\n",
      "S = sp.Matrix([[1, 0], [1,1]])\n",
      "S"
     ],
     "language": "python",
     "metadata": {},
     "outputs": [
      {
       "metadata": {},
       "output_type": "pyout",
       "prompt_number": 62,
       "text": [
        "Matrix([\n",
        "[1, 0],\n",
        "[1, 1]])"
       ]
      }
     ],
     "prompt_number": 62
    },
    {
     "cell_type": "markdown",
     "metadata": {},
     "source": [
      "$q$-Koordinaten durch $z$-Koordinaten ersetzen"
     ]
    },
    {
     "cell_type": "code",
     "collapsed": false,
     "input": [
      "q_new = S.inv()*mod2.qs\n",
      "qd_new = S.inv()*mod2.qds\n",
      "qdd_new = S.inv()*mod2.qdds\n",
      "\n",
      "# Kontrollanzeige:\n",
      "st.col_stack(q_new, qd_new, qdd_new)"
     ],
     "language": "python",
     "metadata": {},
     "outputs": [
      {
       "metadata": {},
       "output_type": "pyout",
       "prompt_number": 63,
       "text": [
        "Matrix([\n",
        "[      z1,         z1_d,          z1_dd],\n",
        "[-z1 + z2, -z1_d + z2_d, -z1_dd + z2_dd]])"
       ]
      }
     ],
     "prompt_number": 63
    },
    {
     "cell_type": "code",
     "collapsed": false,
     "input": [
      "subslist = zip(mod1.qdds, qdd_new) + zip(mod1.qds, qd_new) + zip(mod1.qs, q_new) \n",
      "subslist"
     ],
     "language": "python",
     "metadata": {},
     "outputs": [
      {
       "metadata": {},
       "output_type": "pyout",
       "prompt_number": 64,
       "text": [
        "[(q1_dd, z1_dd),\n",
        " (q2_dd, -z1_dd + z2_dd),\n",
        " (q1_d, z1_d),\n",
        " (q2_d, -z1_d + z2_d),\n",
        " (q1, z1),\n",
        " (q2, -z1 + z2)]"
       ]
      }
     ],
     "prompt_number": 64
    },
    {
     "cell_type": "markdown",
     "metadata": {},
     "source": [
      "tempor\u00e4re Zwischenschritt-Matrix (sie ist noch nicht symmetrisch)"
     ]
    },
    {
     "cell_type": "code",
     "collapsed": false,
     "input": [
      "M_tmp = mod1.eq_list.subs(subslist).jacobian(mod2.qdds)\n",
      "M_tmp"
     ],
     "language": "python",
     "metadata": {},
     "outputs": [
      {
       "metadata": {},
       "output_type": "pyout",
       "prompt_number": 65,
       "text": [
        "Matrix([\n",
        "[I1 + l1**2*m1 + m2*(a1**2 + a1*l2*cos(z1 - z2)), I2 + m2*(a1*l2*cos(z1 - z2) + l2**2)],\n",
        "[                          a1*l2*m2*cos(z1 - z2),                        I2 + l2**2*m2]])"
       ]
      }
     ],
     "prompt_number": 65
    },
    {
     "cell_type": "markdown",
     "metadata": {},
     "source": [
      "Multiplikation von links (=linearkombination der Zeile (also der Gleichungen))"
     ]
    },
    {
     "cell_type": "code",
     "collapsed": false,
     "input": [
      "C = sp.Matrix([[1, -1], [0, 1]])"
     ],
     "language": "python",
     "metadata": {},
     "outputs": [],
     "prompt_number": 66
    },
    {
     "cell_type": "code",
     "collapsed": false,
     "input": [
      "res = C*M_tmp\n",
      "res.simplify()\n",
      "res"
     ],
     "language": "python",
     "metadata": {},
     "outputs": [
      {
       "metadata": {},
       "output_type": "pyout",
       "prompt_number": 67,
       "text": [
        "Matrix([\n",
        "[I1 + a1**2*m2 + l1**2*m1, a1*l2*m2*cos(z1 - z2)],\n",
        "[   a1*l2*m2*cos(z1 - z2),         I2 + l2**2*m2]])"
       ]
      }
     ],
     "prompt_number": 67
    },
    {
     "cell_type": "code",
     "collapsed": false,
     "input": [
      "res == Mz"
     ],
     "language": "python",
     "metadata": {},
     "outputs": [
      {
       "metadata": {},
       "output_type": "pyout",
       "prompt_number": 68,
       "text": [
        "True"
       ]
      }
     ],
     "prompt_number": 68
    },
    {
     "cell_type": "markdown",
     "metadata": {},
     "source": [
      "---\n",
      "Das klappt offensichtlich\n",
      "\n",
      "**Variante 2**: (so wollte ich es urspr\u00fcnglich machen):\n",
      "Wir wissen dass folgende Zusammenhange gelten:\n",
      "$$ z = S q$$\n",
      "$$ \\ddot z = S \\ddot q$$\n",
      "$$ \\ddot q = S^{-1} \\ddot z.$$\n",
      "\n",
      "Deswegen k\u00f6nnen wir auch schreiben:\n",
      "\n",
      "$$M \\ddot q + ... = M S^{-1} \\ddot z + ... \\enspace.$$\n",
      "\n",
      "Diese Matrix k\u00f6nnen wir dann auch von links mit einener Matrix multiplizieren (Linearkombination der Zeilen, also Gleichungen)\n",
      "Dazu w\u00e4hlt man die *Transponierte* der Matrix auf der rechten Seite. **Hier lag mein Fehler**, weil ich die *Inverse* von $S$ genommen hatte. Ma bekommt\n",
      "\n",
      "$$\\underbrace{ (S^{-1})^T M S^{-1} }_{\\hat M} \\ddot z + ... \\enspace .$$\n",
      "\n",
      "Das ist zwar etwas l\u00e4nger zu erkl\u00e4ren aber einfacher zu rechnen."
     ]
    },
    {
     "cell_type": "code",
     "collapsed": false,
     "input": [
      "res2 = S.inv().T*Mq*S.inv()\n",
      "res2 == Mz"
     ],
     "language": "python",
     "metadata": {},
     "outputs": [
      {
       "metadata": {},
       "output_type": "pyout",
       "prompt_number": 69,
       "text": [
        "False"
       ]
      }
     ],
     "prompt_number": 69
    },
    {
     "cell_type": "markdown",
     "metadata": {},
     "source": [
      "logisch. Die Massenmatrix h\u00e4ngt ja noch von $q$ bzw. $z$ ab."
     ]
    },
    {
     "cell_type": "code",
     "collapsed": false,
     "input": [
      "res2.subs(subslist) == Mz"
     ],
     "language": "python",
     "metadata": {},
     "outputs": [
      {
       "metadata": {},
       "output_type": "pyout",
       "prompt_number": 70,
       "text": [
        "True"
       ]
      }
     ],
     "prompt_number": 70
    },
    {
     "cell_type": "markdown",
     "metadata": {},
     "source": [
      "Aufl\u00f6sen der Bewegungsgleichungen nach den zweifachen Winkelableitungen"
     ]
    },
    {
     "cell_type": "code",
     "collapsed": false,
     "input": [
      "eq1 = mod1.eq_list[0]\n",
      "eq2 = mod1.eq_list[1]"
     ],
     "language": "python",
     "metadata": {},
     "outputs": [],
     "prompt_number": 106
    },
    {
     "cell_type": "code",
     "collapsed": false,
     "input": [
      "sol = sp.solve([eq1,eq2],mod1.qdds)\n",
      "sol"
     ],
     "language": "python",
     "metadata": {},
     "outputs": [
      {
       "metadata": {},
       "output_type": "pyout",
       "prompt_number": 107,
       "text": [
        "{q1_dd: ((I2 + l2**2*m2)*(F1 + 2*a1*l2*m2*q1_d*q2_d*sin(q2) + a1*l2*m2*q2_d**2*sin(q2) - k1*q1) + (-F2 + a1*l2*m2*q1_d**2*sin(q2) + k2*q2)*(I2 + a1*l2*m2*cos(q2) + l2**2*m2))/(I1*I2 + I1*l2**2*m2 + I2*a1**2*m2 + I2*l1**2*m1 + a1**2*l2**2*m2**2*sin(q2)**2 + l1**2*l2**2*m1*m2),\n",
        " q2_dd: -((-F2 + a1*l2*m2*q1_d**2*sin(q2) + k2*q2)*(I1 + I2 + a1**2*m2 + 2*a1*l2*m2*cos(q2) + l1**2*m1 + l2**2*m2) + (I2 + a1*l2*m2*cos(q2) + l2**2*m2)*(F1 + 2*a1*l2*m2*q1_d*q2_d*sin(q2) + a1*l2*m2*q2_d**2*sin(q2) - k1*q1))/(I1*I2 + I1*l2**2*m2 + I2*a1**2*m2 + I2*l1**2*m1 + a1**2*l2**2*m2**2*sin(q2)**2 + l1**2*l2**2*m1*m2)}"
       ]
      }
     ],
     "prompt_number": 107
    },
    {
     "cell_type": "code",
     "collapsed": false,
     "input": [
      "#dictionary verwenden um Parameter durch Werte zu ersetzen\n",
      "params_values = {m1:10, m2:5, I1:1 ,I2:1 ,a1:1 ,l1: 0.5 ,l2: 0.5, k1:1 ,k2:1 }"
     ],
     "language": "python",
     "metadata": {},
     "outputs": [],
     "prompt_number": 117
    },
    {
     "cell_type": "code",
     "collapsed": false,
     "input": [
      "q1_dd_expr = sol[mod1.qdds[0]].subs(params_values)\n",
      "q2_dd_expr = sol[mod1.qdds[1]].subs(params_values)"
     ],
     "language": "python",
     "metadata": {},
     "outputs": [],
     "prompt_number": 128
    },
    {
     "cell_type": "code",
     "collapsed": false,
     "input": [
      "#Umformen zu einer lambda function\n",
      "q1_dd_fnc = sp.lambdify([mod1.qs[0],mod1.qs[1], mod1.qds[0],mod1.qds[1],\\\n",
      "                         mod1.extforce_list[0],mod1.extforce_list[1]],q1_dd_expr,'numpy')\n",
      "q2_dd_fnc = sp.lambdify([mod1.qs[0],mod1.qs[1], mod1.qds[0],mod1.qds[1],\\\n",
      "                         mod1.extforce_list[0],mod1.extforce_list[1]],q2_dd_expr,'numpy')"
     ],
     "language": "python",
     "metadata": {},
     "outputs": [],
     "prompt_number": 138
    },
    {
     "cell_type": "code",
     "collapsed": false,
     "input": [
      "def get_zd(z,t):    \n",
      "    q1, q2, q1_d, q2_d = z\n",
      "    F = 0\n",
      "    q1_dd = q1_dd_fnc(q1, q2, q1_d, q2_d,F,F)\n",
      "    q2_dd = q1_dd_fnc(q1, q2, q1_d, q2_d,F,F)\n",
      "    #print q1_dd\n",
      "    #print q2_dd\n",
      "    return r_[q1_d,q2_d,q1_dd,q2_dd]"
     ],
     "language": "python",
     "metadata": {},
     "outputs": [],
     "prompt_number": 144
    },
    {
     "cell_type": "code",
     "collapsed": false,
     "input": [
      "t = np.linspace(1,100,101)\n",
      "\n",
      "z0 = r_[0.25*pi, 0.25*pi, 0, 0]\n",
      "z0\n",
      "lsg = odeint(get_zd,z0,t)\n",
      "#get_zd(z0,0)\n"
     ],
     "language": "python",
     "metadata": {},
     "outputs": [],
     "prompt_number": 145
    },
    {
     "cell_type": "code",
     "collapsed": false,
     "input": [
      "lsg\n"
     ],
     "language": "python",
     "metadata": {},
     "outputs": [
      {
       "metadata": {},
       "output_type": "pyout",
       "prompt_number": 146,
       "text": [
        "array([[ 0.78539816,  0.78539816,  0.        ,  0.        ],\n",
        "       [ 0.82861913,  0.82861913,  0.08875404,  0.08875404],\n",
        "       [ 0.96744553,  0.96744553,  0.19712207,  0.19712207],\n",
        "       [ 1.23698641,  1.23698641,  0.36209478,  0.36209478],\n",
        "       [ 1.73583639,  1.73583639,  0.69009313,  0.69009313],\n",
        "       [ 2.73622734,  2.73622734,  1.35350565,  1.35350565],\n",
        "       [ 3.83760369,  3.83760369,  0.67064384,  0.67064384],\n",
        "       [ 4.21643378,  4.21643378,  0.17459217,  0.17459217],\n",
        "       [ 4.25449748,  4.25449748, -0.09100217, -0.09100217],\n",
        "       [ 4.00096279,  4.00096279, -0.47128799, -0.47128799],\n",
        "       [ 3.13158526,  3.13158526, -1.33439299, -1.33439299],\n",
        "       [ 1.95775619,  1.95775619, -0.8538731 , -0.8538731 ],\n",
        "       [ 1.35137795,  1.35137795, -0.43246329, -0.43246329],\n",
        "       [ 1.02998452,  1.02998452, -0.23679233, -0.23679233],\n",
        "       [ 0.85832317,  0.85832317, -0.11724623, -0.11724623],\n",
        "       [ 0.78902257,  0.78902257, -0.02513124, -0.02513124],\n",
        "       [ 0.80690313,  0.80690313,  0.06183944,  0.06183944],\n",
        "       [ 0.91568917,  0.91568917,  0.16191488,  0.16191488],\n",
        "       [ 1.14101681,  1.14101681,  0.30422423,  0.30422423],\n",
        "       [ 1.55542499,  1.55542499,  0.56470237,  0.56470237],\n",
        "       [ 2.3706739 ,  2.3706739 ,  1.16018506,  1.16018506],\n",
        "       [ 3.60668728,  3.60668728,  0.94006825,  0.94006825],\n",
        "       [ 4.15204325,  4.15204325,  0.27491868,  0.27491868],\n",
        "       [ 4.26979325,  4.26979325, -0.01570045, -0.01570045],\n",
        "       [ 4.11500668,  4.11500668, -0.32565804, -0.32565804],\n",
        "       [ 3.48245794,  3.48245794, -1.07187465, -1.07187465],\n",
        "       [ 2.23343233,  2.23343233, -1.06201581, -1.06201581],\n",
        "       [ 1.4884635 ,  1.4884635 , -0.52021596, -0.52021596],\n",
        "       [ 1.10479886,  1.10479886, -0.28241365, -0.28241365],\n",
        "       [ 0.89655714,  0.89655714, -0.14793529, -0.14793529],\n",
        "       [ 0.79995531,  0.79995531, -0.05067851, -0.05067851],\n",
        "       [ 0.79279643,  0.79279643,  0.03598223,  0.03598223],\n",
        "       [ 0.87359403,  0.87359403,  0.13006257,  0.13006257],\n",
        "       [ 1.06037777,  1.06037777,  0.25547247,  0.25547247],\n",
        "       [ 1.40693085,  1.40693085,  0.46751503,  0.46751503],\n",
        "       [ 2.06832838,  2.06832838,  0.93772744,  0.93772744],\n",
        "       [ 3.29101637,  3.29101637,  1.24011384,  1.24011384],\n",
        "       [ 4.05490947,  4.05490947,  0.40364025,  0.40364025],\n",
        "       [ 4.2636987 ,  4.2636987 ,  0.05820134,  0.05820134],\n",
        "       [ 4.19240998,  4.19240998, -0.21487226, -0.21487226],\n",
        "       [ 3.74831102,  3.74831102, -0.77717971, -0.77717971],\n",
        "       [ 2.57296664,  2.57296664, -1.28432984, -1.28432984],\n",
        "       [ 1.6542158 ,  1.6542158 , -0.63237956, -0.63237956],\n",
        "       [ 1.19388525,  1.19388525, -0.3360368 , -0.3360368 ],\n",
        "       [ 0.94406114,  0.94406114, -0.18158823, -0.18158823],\n",
        "       [ 0.81837886,  0.81837886, -0.0770809 , -0.0770809 ],\n",
        "       [ 0.786061  ,  0.786061  ,  0.0107254 ,  0.0107254 ],\n",
        "       [ 0.84031976,  0.84031976,  0.10071457,  0.10071457],\n",
        "       [ 0.99279888,  0.99279888,  0.21346766,  0.21346766],\n",
        "       [ 1.28344392,  1.28344392,  0.39042027,  0.39042027],\n",
        "       [ 1.82501201,  1.82501201,  0.75484844,  0.75484844],\n",
        "       [ 2.90570383,  2.90570383,  1.38197174,  1.38197174],\n",
        "       [ 3.91456166,  3.91456166,  0.57743421,  0.57743421],\n",
        "       [ 4.23567095,  4.23567095,  0.13733394,  0.13733394],\n",
        "       [ 4.24115034,  4.24115034, -0.12530451, -0.12530451],\n",
        "       [ 3.93805612,  3.93805612, -0.54875177, -0.54875177],\n",
        "       [ 2.96334961,  2.96334961, -1.37957861, -1.37957861],\n",
        "       [ 1.85700331,  1.85700331, -0.77846154, -0.77846154],\n",
        "       [ 1.2999478 ,  1.2999478 , -0.40055944, -0.40055944],\n",
        "       [ 1.00182673,  1.00182673, -0.21919101, -0.21919101],\n",
        "       [ 0.84460879,  0.84460879, -0.10482787, -0.10482787],\n",
        "       [ 0.78658454,  0.78658454, -0.01435427, -0.01435427],\n",
        "       [ 0.81524345,  0.81524345,  0.07319495,  0.07319495],\n",
        "       [ 0.93658948,  0.93658948,  0.17650752,  0.17650752],\n",
        "       [ 1.18003662,  1.18003662,  0.3276946 ,  0.3276946 ],\n",
        "       [ 1.6282043 ,  1.6282043 ,  0.61432409,  0.61432409],\n",
        "       [ 2.51996977,  2.51996977,  1.25511561,  1.25511561],\n",
        "       [ 3.715066  ,  3.715066  ,  0.81623727,  0.81623727],\n",
        "       [ 4.18314133,  4.18314133,  0.22930051,  0.22930051],\n",
        "       [ 4.26589793,  4.26589793, -0.04736239, -0.04736239],\n",
        "       [ 4.07130822,  4.07130822, -0.38271643, -0.38271643],\n",
        "       [ 3.34193792,  3.34193792, -1.20052649, -1.20052649],\n",
        "       [ 2.10807781,  2.10807781, -0.96790883, -0.96790883],\n",
        "       [ 1.42669864,  1.42669864, -0.48014955, -0.48014955],\n",
        "       [ 1.07117376,  1.07117376, -0.2620505 , -0.2620505 ],\n",
        "       [ 0.87911332,  0.87911332, -0.13449116, -0.13449116],\n",
        "       [ 0.79437527,  0.79437527, -0.03967003, -0.03967003],\n",
        "       [ 0.79791958,  0.79791958,  0.04694601,  0.04694601],\n",
        "       [ 0.89048191,  0.89048191,  0.14333905,  0.14333905],\n",
        "       [ 1.09316413,  1.09316413,  0.27538498,  0.27538498],\n",
        "       [ 1.46705374,  1.46705374,  0.50622417,  0.50622417],\n",
        "       [ 2.18980272,  2.18980272,  1.02955246,  1.02955246],\n",
        "       [ 3.43680272,  3.43680272,  1.11645871,  1.11645871],\n",
        "       [ 4.10103279,  4.10103279,  0.34415294,  0.34415294],\n",
        "       [ 4.26891088,  4.26891088,  0.0263347 ,  0.0263347 ],\n",
        "       [ 4.16316852,  4.16316852, -0.25900192, -0.25900192],\n",
        "       [ 3.64498072,  3.64498072, -0.89703997, -0.89703997],\n",
        "       [ 2.41973734,  2.41973734, -1.19310528, -1.19310528],\n",
        "       [ 1.57930631,  1.57930631, -0.58083778, -0.58083778],\n",
        "       [ 1.15386339,  1.15386339, -0.31194883, -0.31194883],\n",
        "       [ 0.92254253,  0.92254253, -0.16676761, -0.16676761],\n",
        "       [ 0.80956206,  0.80956206, -0.06564835, -0.06564835],\n",
        "       [ 0.78805172,  0.78805172,  0.02148729,  0.02148729],\n",
        "       [ 0.85352379,  0.85352379,  0.11301305,  0.11301305],\n",
        "       [ 1.02023862,  1.02023862,  0.23073772,  0.23073772],\n",
        "       [ 1.333579  ,  1.333579  ,  0.42136565,  0.42136565],\n",
        "       [ 1.92270583,  1.92270583,  0.82748249,  0.82748249],\n",
        "       [ 3.07547299,  3.07547299,  1.35584486,  1.35584486],\n",
        "       [ 3.98079004,  3.98079004,  0.49624909,  0.49624909],\n",
        "       [ 4.25045981,  4.25045981,  0.10238014,  0.10238014],\n",
        "       [ 4.22343297,  4.22343297, -0.16172368, -0.16172368]])"
       ]
      }
     ],
     "prompt_number": 146
    }
   ],
   "metadata": {}
  }
 ]
}