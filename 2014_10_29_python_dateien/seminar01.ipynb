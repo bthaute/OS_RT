{
 "metadata": {
  "name": "",
  "signature": "sha256:4ed26466e8e992cfb77de762c68b2641d86a55dc0797f9057557492b77c02c30"
 },
 "nbformat": 3,
 "nbformat_minor": 0,
 "worksheets": [
  {
   "cells": [
    {
     "cell_type": "code",
     "collapsed": false,
     "input": [
      "import sympy as sp\n",
      "import symb_tools as st\n",
      "import model_tools as mt\n",
      "import numpy as np\n",
      "from numpy import r_,pi\n",
      "from scipy.integrate import odeint\n",
      "import pylab as pl \n",
      "import matplotlib.pyplot as plt"
     ],
     "language": "python",
     "metadata": {},
     "outputs": [],
     "prompt_number": 158
    },
    {
     "cell_type": "code",
     "collapsed": false,
     "input": [
      "t = sp.Symbol(\"t\")\n",
      "x1 = sp.Symbol(\"x1\")"
     ],
     "language": "python",
     "metadata": {},
     "outputs": [],
     "prompt_number": 159
    },
    {
     "cell_type": "code",
     "collapsed": false,
     "input": [
      "q1 = sp.Function(\"q1\")(t)\n",
      "q2 = sp.Function(\"q2\")(t)\n",
      "qq = sp.Matrix([q1, q2])\n",
      "FF = sp.Matrix(sp.symbols(\"F1, F2\"))\n",
      "parameter = sp.symbols(\"I1, I2, m1, m2, l1, l2, a1, k1, k2, g\")\n",
      "#Bill: was bewirkt diese Zeile? Quasi um jedes Symbol, was oben angelegt wurde als Listenelemente ansprechen zu k\u00f6nnen\n",
      "I1, I2, m1, m2, l1, l2, a1, k1, k2, g = parameter"
     ],
     "language": "python",
     "metadata": {},
     "outputs": [],
     "prompt_number": 160
    },
    {
     "cell_type": "markdown",
     "metadata": {},
     "source": [
      "Geometrie (karthesische Koordinaten der Schwerpunkte)"
     ]
    },
    {
     "cell_type": "code",
     "collapsed": false,
     "input": [
      "ex = sp.Matrix([1, 0])\n",
      "ey = sp.Matrix([0, 1])"
     ],
     "language": "python",
     "metadata": {},
     "outputs": [],
     "prompt_number": 161
    },
    {
     "cell_type": "code",
     "collapsed": false,
     "input": [
      "# Rotationsmatrix\n",
      "mt.Rz(q1)"
     ],
     "language": "python",
     "metadata": {},
     "outputs": [
      {
       "metadata": {},
       "output_type": "pyout",
       "prompt_number": 162,
       "text": [
        "Matrix([\n",
        "[cos(q1(t)), -sin(q1(t))],\n",
        "[sin(q1(t)),  cos(q1(t))]])"
       ]
      }
     ],
     "prompt_number": 162
    },
    {
     "cell_type": "code",
     "collapsed": false,
     "input": [
      "s1 = l1*mt.Rz(q1)*ex\n",
      "s1"
     ],
     "language": "python",
     "metadata": {},
     "outputs": [
      {
       "metadata": {},
       "output_type": "pyout",
       "prompt_number": 163,
       "text": [
        "Matrix([\n",
        "[l1*cos(q1(t))],\n",
        "[l1*sin(q1(t))]])"
       ]
      }
     ],
     "prompt_number": 163
    },
    {
     "cell_type": "code",
     "collapsed": false,
     "input": [
      "s2 = a1*mt.Rz(q1)*ex + l2*mt.Rz(q1+q2)*ex\n",
      "s2"
     ],
     "language": "python",
     "metadata": {},
     "outputs": [
      {
       "metadata": {},
       "output_type": "pyout",
       "prompt_number": 164,
       "text": [
        "Matrix([\n",
        "[a1*cos(q1(t)) + l2*cos(q1(t) + q2(t))],\n",
        "[a1*sin(q1(t)) + l2*sin(q1(t) + q2(t))]])"
       ]
      }
     ],
     "prompt_number": 164
    },
    {
     "cell_type": "markdown",
     "metadata": {},
     "source": [
      "kinetische und potentielle Energie"
     ]
    },
    {
     "cell_type": "code",
     "collapsed": false,
     "input": [
      "q1d = q1.diff(t)\n",
      "q2d = q2.diff(t)\n",
      "s1d = s1.diff(t)\n",
      "s2d = s2.diff(t)"
     ],
     "language": "python",
     "metadata": {},
     "outputs": [],
     "prompt_number": 165
    },
    {
     "cell_type": "code",
     "collapsed": false,
     "input": [
      "T = (I1*q1d**2 + I2*(q1d+q2d)**2 + m1*(s1d.T*s1d)[0] + m2*(s2d.T*s2d)[0] )/2\n",
      "#T = (I1*q1d**2 + I2*(q2d)**2 + m1*(s1d.T*s1d)[0] + m2*(s2d.T*s2d)[0] )/2"
     ],
     "language": "python",
     "metadata": {},
     "outputs": [],
     "prompt_number": 166
    },
    {
     "cell_type": "code",
     "collapsed": false,
     "input": [
      "V = (k1*q1**2 + k2*q2**2)/2"
     ],
     "language": "python",
     "metadata": {},
     "outputs": [],
     "prompt_number": 167
    },
    {
     "cell_type": "code",
     "collapsed": false,
     "input": [
      "mod1 = mt.generate_model(T, V, qq, FF)\n",
      "mod1.eq_list.simplify()\n",
      "mod1.eq_list"
     ],
     "language": "python",
     "metadata": {},
     "outputs": [
      {
       "metadata": {},
       "output_type": "pyout",
       "prompt_number": 168,
       "text": [
        "Matrix([\n",
        "[-F1 + I1*q1_dd + I2*(q1_dd + q2_dd) + k1*q1 + l1**2*m1*q1_dd + m2*(a1**2*q1_dd - 2*a1*l2*q1_d*q2_d*sin(q2) + 2*a1*l2*q1_dd*cos(q2) - a1*l2*q2_d**2*sin(q2) + a1*l2*q2_dd*cos(q2) + l2**2*q1_dd + l2**2*q2_dd)],\n",
        "[                                                                                      -F2 + I2*q1_dd + I2*q2_dd + a1*l2*m2*q1_d**2*sin(q2) + a1*l2*m2*q1_dd*cos(q2) + k2*q2 + l2**2*m2*q1_dd + l2**2*m2*q2_dd]])"
       ]
      }
     ],
     "prompt_number": 168
    },
    {
     "cell_type": "code",
     "collapsed": false,
     "input": [
      "Mq = mod1.MM.expand()"
     ],
     "language": "python",
     "metadata": {},
     "outputs": [],
     "prompt_number": 169
    },
    {
     "cell_type": "code",
     "collapsed": false,
     "input": [
      "#Mq.simplify()\n",
      "Mq"
     ],
     "language": "python",
     "metadata": {},
     "outputs": [
      {
       "metadata": {},
       "output_type": "pyout",
       "prompt_number": 170,
       "text": [
        "Matrix([\n",
        "[I1 + I2 + a1**2*m2 + 2*a1*l2*m2*cos(q2) + l1**2*m1 + l2**2*m2, I2 + a1*l2*m2*cos(q2) + l2**2*m2],\n",
        "[                             I2 + a1*l2*m2*cos(q2) + l2**2*m2,                    I2 + l2**2*m2]])"
       ]
      }
     ],
     "prompt_number": 170
    },
    {
     "cell_type": "markdown",
     "metadata": {},
     "source": [
      "---\n",
      "Alternativer Zugang (Koordinatendefinition wie Prof. Janschek)"
     ]
    },
    {
     "cell_type": "code",
     "collapsed": false,
     "input": [
      "z1 = sp.Function(\"z1\")(t)\n",
      "z2 = sp.Function(\"z2\")(t)\n",
      "zz = sp.Matrix([z1, z2])\n",
      "# \u00dcberschreiben von s1, s2\n",
      "\n",
      "s1 = l1*mt.Rz(z1)*ex\n",
      "s2 = a1*mt.Rz(z1)*ex + l2*mt.Rz(z2)*ex\n",
      "\n",
      "z1d = z1.diff(t)\n",
      "z2d = z2.diff(t)\n",
      "s1d = s1.diff(t)\n",
      "s2d = s2.diff(t)\n",
      "\n",
      "T = (I1*z1d**2 + I2*z2d**2 + m1*st.norm2(s1d) + m2*st.norm2(s2d) )/2\n",
      "V = (k1*z1**2 + k2*z2**2)/2"
     ],
     "language": "python",
     "metadata": {},
     "outputs": [],
     "prompt_number": 171
    },
    {
     "cell_type": "code",
     "collapsed": false,
     "input": [
      "mod2 = mt.generate_model(T, V, zz, FF)\n",
      "mod2.eq_list.simplify()\n",
      "mod2.eq_list"
     ],
     "language": "python",
     "metadata": {},
     "outputs": [
      {
       "metadata": {},
       "output_type": "pyout",
       "prompt_number": 172,
       "text": [
        "Matrix([\n",
        "[-F1 + I1*z1_dd + a1**2*m2*z1_dd + a1*l2*m2*z2_d**2*sin(z1 - z2) + a1*l2*m2*z2_dd*cos(z1 - z2) + k1*z1 + l1**2*m1*z1_dd],\n",
        "[                 -F2 + I2*z2_dd - a1*l2*m2*z1_d**2*sin(z1 - z2) + a1*l2*m2*z1_dd*cos(z1 - z2) + k2*z2 + l2**2*m2*z2_dd]])"
       ]
      }
     ],
     "prompt_number": 172
    },
    {
     "cell_type": "code",
     "collapsed": false,
     "input": [
      "s1d"
     ],
     "language": "python",
     "metadata": {},
     "outputs": [
      {
       "metadata": {},
       "output_type": "pyout",
       "prompt_number": 173,
       "text": [
        "Matrix([\n",
        "[-l1*sin(z1(t))*Derivative(z1(t), t)],\n",
        "[ l1*cos(z1(t))*Derivative(z1(t), t)]])"
       ]
      }
     ],
     "prompt_number": 173
    },
    {
     "cell_type": "markdown",
     "metadata": {},
     "source": [
      "Das ist die Massenmatrix, die bei Prof. Janschek rauskam"
     ]
    },
    {
     "cell_type": "code",
     "collapsed": false,
     "input": [
      "Mz = mod2.MM\n",
      "Mz"
     ],
     "language": "python",
     "metadata": {},
     "outputs": [
      {
       "metadata": {},
       "output_type": "pyout",
       "prompt_number": 174,
       "text": [
        "Matrix([\n",
        "[I1 + a1**2*m2 + l1**2*m1, a1*l2*m2*cos(z1 - z2)],\n",
        "[   a1*l2*m2*cos(z1 - z2),         I2 + l2**2*m2]])"
       ]
      }
     ],
     "prompt_number": 174
    },
    {
     "cell_type": "markdown",
     "metadata": {},
     "source": [
      "---"
     ]
    },
    {
     "cell_type": "heading",
     "level": 3,
     "metadata": {},
     "source": [
      "Frage: wie kann man die beiden Massenmatrizen ineinander umrechnen?"
     ]
    },
    {
     "cell_type": "markdown",
     "metadata": {},
     "source": [
      "**Variante 1**: Schritt f\u00fcr Schritt: wir nehmen unsere Bewegungsgleichungen (mod1), substituieren die alten $q$ Variablen durch die neuen $z$ Variablen (auch f\u00fcr alle Ableitungen), bilden dann die Jacobi-Matrix bez\u00fcglich $\\ddot z$ und bilden schilie\u00dflich eine Linearkombination der Gleichungen (Zeilen der Matrix), so dass die resultierende Matrix wieder symmetrisch ist."
     ]
    },
    {
     "cell_type": "code",
     "collapsed": false,
     "input": [
      "# Transformationsmatrix z = S * q:\n",
      "S = sp.Matrix([[1, 0], [1,1]])\n",
      "S"
     ],
     "language": "python",
     "metadata": {},
     "outputs": [
      {
       "metadata": {},
       "output_type": "pyout",
       "prompt_number": 62,
       "text": [
        "Matrix([\n",
        "[1, 0],\n",
        "[1, 1]])"
       ]
      }
     ],
     "prompt_number": 62
    },
    {
     "cell_type": "markdown",
     "metadata": {},
     "source": [
      "$q$-Koordinaten durch $z$-Koordinaten ersetzen"
     ]
    },
    {
     "cell_type": "code",
     "collapsed": false,
     "input": [
      "q_new = S.inv()*mod2.qs\n",
      "qd_new = S.inv()*mod2.qds\n",
      "qdd_new = S.inv()*mod2.qdds\n",
      "\n",
      "# Kontrollanzeige:\n",
      "st.col_stack(q_new, qd_new, qdd_new)"
     ],
     "language": "python",
     "metadata": {},
     "outputs": [
      {
       "metadata": {},
       "output_type": "pyout",
       "prompt_number": 63,
       "text": [
        "Matrix([\n",
        "[      z1,         z1_d,          z1_dd],\n",
        "[-z1 + z2, -z1_d + z2_d, -z1_dd + z2_dd]])"
       ]
      }
     ],
     "prompt_number": 63
    },
    {
     "cell_type": "code",
     "collapsed": false,
     "input": [
      "subslist = zip(mod1.qdds, qdd_new) + zip(mod1.qds, qd_new) + zip(mod1.qs, q_new) \n",
      "subslist"
     ],
     "language": "python",
     "metadata": {},
     "outputs": [
      {
       "metadata": {},
       "output_type": "pyout",
       "prompt_number": 64,
       "text": [
        "[(q1_dd, z1_dd),\n",
        " (q2_dd, -z1_dd + z2_dd),\n",
        " (q1_d, z1_d),\n",
        " (q2_d, -z1_d + z2_d),\n",
        " (q1, z1),\n",
        " (q2, -z1 + z2)]"
       ]
      }
     ],
     "prompt_number": 64
    },
    {
     "cell_type": "markdown",
     "metadata": {},
     "source": [
      "tempor\u00e4re Zwischenschritt-Matrix (sie ist noch nicht symmetrisch)"
     ]
    },
    {
     "cell_type": "code",
     "collapsed": false,
     "input": [
      "M_tmp = mod1.eq_list.subs(subslist).jacobian(mod2.qdds)\n",
      "M_tmp"
     ],
     "language": "python",
     "metadata": {},
     "outputs": [
      {
       "metadata": {},
       "output_type": "pyout",
       "prompt_number": 65,
       "text": [
        "Matrix([\n",
        "[I1 + l1**2*m1 + m2*(a1**2 + a1*l2*cos(z1 - z2)), I2 + m2*(a1*l2*cos(z1 - z2) + l2**2)],\n",
        "[                          a1*l2*m2*cos(z1 - z2),                        I2 + l2**2*m2]])"
       ]
      }
     ],
     "prompt_number": 65
    },
    {
     "cell_type": "markdown",
     "metadata": {},
     "source": [
      "Multiplikation von links (=linearkombination der Zeile (also der Gleichungen))"
     ]
    },
    {
     "cell_type": "code",
     "collapsed": false,
     "input": [
      "C = sp.Matrix([[1, -1], [0, 1]])"
     ],
     "language": "python",
     "metadata": {},
     "outputs": [],
     "prompt_number": 66
    },
    {
     "cell_type": "code",
     "collapsed": false,
     "input": [
      "res = C*M_tmp\n",
      "res.simplify()\n",
      "res"
     ],
     "language": "python",
     "metadata": {},
     "outputs": [
      {
       "metadata": {},
       "output_type": "pyout",
       "prompt_number": 67,
       "text": [
        "Matrix([\n",
        "[I1 + a1**2*m2 + l1**2*m1, a1*l2*m2*cos(z1 - z2)],\n",
        "[   a1*l2*m2*cos(z1 - z2),         I2 + l2**2*m2]])"
       ]
      }
     ],
     "prompt_number": 67
    },
    {
     "cell_type": "code",
     "collapsed": false,
     "input": [
      "res == Mz"
     ],
     "language": "python",
     "metadata": {},
     "outputs": [
      {
       "metadata": {},
       "output_type": "pyout",
       "prompt_number": 68,
       "text": [
        "True"
       ]
      }
     ],
     "prompt_number": 68
    },
    {
     "cell_type": "markdown",
     "metadata": {},
     "source": [
      "---\n",
      "Das klappt offensichtlich\n",
      "\n",
      "**Variante 2**: (so wollte ich es urspr\u00fcnglich machen):\n",
      "Wir wissen dass folgende Zusammenhange gelten:\n",
      "$$ z = S q$$\n",
      "$$ \\ddot z = S \\ddot q$$\n",
      "$$ \\ddot q = S^{-1} \\ddot z.$$\n",
      "\n",
      "Deswegen k\u00f6nnen wir auch schreiben:\n",
      "\n",
      "$$M \\ddot q + ... = M S^{-1} \\ddot z + ... \\enspace.$$\n",
      "\n",
      "Diese Matrix k\u00f6nnen wir dann auch von links mit einener Matrix multiplizieren (Linearkombination der Zeilen, also Gleichungen)\n",
      "Dazu w\u00e4hlt man die *Transponierte* der Matrix auf der rechten Seite. **Hier lag mein Fehler**, weil ich die *Inverse* von $S$ genommen hatte. Ma bekommt\n",
      "\n",
      "$$\\underbrace{ (S^{-1})^T M S^{-1} }_{\\hat M} \\ddot z + ... \\enspace .$$\n",
      "\n",
      "Das ist zwar etwas l\u00e4nger zu erkl\u00e4ren aber einfacher zu rechnen."
     ]
    },
    {
     "cell_type": "code",
     "collapsed": false,
     "input": [
      "res2 = S.inv().T*Mq*S.inv()\n",
      "res2 == Mz"
     ],
     "language": "python",
     "metadata": {},
     "outputs": [
      {
       "metadata": {},
       "output_type": "pyout",
       "prompt_number": 69,
       "text": [
        "False"
       ]
      }
     ],
     "prompt_number": 69
    },
    {
     "cell_type": "markdown",
     "metadata": {},
     "source": [
      "logisch. Die Massenmatrix h\u00e4ngt ja noch von $q$ bzw. $z$ ab."
     ]
    },
    {
     "cell_type": "code",
     "collapsed": false,
     "input": [
      "res2.subs(subslist) == Mz"
     ],
     "language": "python",
     "metadata": {},
     "outputs": [
      {
       "metadata": {},
       "output_type": "pyout",
       "prompt_number": 70,
       "text": [
        "True"
       ]
      }
     ],
     "prompt_number": 70
    },
    {
     "cell_type": "markdown",
     "metadata": {},
     "source": [
      "Aufl\u00f6sen der Bewegungsgleichungen nach den zweifachen Winkelableitungen"
     ]
    },
    {
     "cell_type": "code",
     "collapsed": false,
     "input": [
      "eq1 = mod1.eq_list[0]\n",
      "eq2 = mod1.eq_list[1]"
     ],
     "language": "python",
     "metadata": {},
     "outputs": [],
     "prompt_number": 175
    },
    {
     "cell_type": "code",
     "collapsed": false,
     "input": [
      "sol = sp.solve([eq1,eq2],mod1.qdds)\n",
      "sol"
     ],
     "language": "python",
     "metadata": {},
     "outputs": [
      {
       "metadata": {},
       "output_type": "pyout",
       "prompt_number": 177,
       "text": [
        "{q1_dd: ((I2 + l2**2*m2)*(F1 + 2*a1*l2*m2*q1_d*q2_d*sin(q2) + a1*l2*m2*q2_d**2*sin(q2) - k1*q1) + (-F2 + a1*l2*m2*q1_d**2*sin(q2) + k2*q2)*(I2 + a1*l2*m2*cos(q2) + l2**2*m2))/(I1*I2 + I1*l2**2*m2 + I2*a1**2*m2 + I2*l1**2*m1 + a1**2*l2**2*m2**2*sin(q2)**2 + l1**2*l2**2*m1*m2),\n",
        " q2_dd: -((-F2 + a1*l2*m2*q1_d**2*sin(q2) + k2*q2)*(I1 + I2 + a1**2*m2 + 2*a1*l2*m2*cos(q2) + l1**2*m1 + l2**2*m2) + (I2 + a1*l2*m2*cos(q2) + l2**2*m2)*(F1 + 2*a1*l2*m2*q1_d*q2_d*sin(q2) + a1*l2*m2*q2_d**2*sin(q2) - k1*q1))/(I1*I2 + I1*l2**2*m2 + I2*a1**2*m2 + I2*l1**2*m1 + a1**2*l2**2*m2**2*sin(q2)**2 + l1**2*l2**2*m1*m2)}"
       ]
      }
     ],
     "prompt_number": 177
    },
    {
     "cell_type": "code",
     "collapsed": false,
     "input": [
      "#dictionary verwenden um Parameter durch Werte zu ersetzen\n",
      "params_values = {m1:10, m2:5, I1:1 ,I2:1 ,a1:1 ,l1: 0.5 ,l2: 0.5, k1:1 ,k2:1 }"
     ],
     "language": "python",
     "metadata": {},
     "outputs": [],
     "prompt_number": 178
    },
    {
     "cell_type": "code",
     "collapsed": false,
     "input": [
      "q1_dd_expr = sol[mod1.qdds[0]].subs(params_values)\n",
      "q2_dd_expr = sol[mod1.qdds[1]].subs(params_values)\n",
      "print q1_dd_expr\n",
      "print q2_dd_expr"
     ],
     "language": "python",
     "metadata": {},
     "outputs": [
      {
       "output_type": "stream",
       "stream": "stdout",
       "text": [
        "(2.25*F1 - 2.25*q1 + 11.25*q1_d*q2_d*sin(q2) + 5.625*q2_d**2*sin(q2) + (2.5*cos(q2) + 2.25)*(-F2 + 2.5*q1_d**2*sin(q2) + q2))/(6.25*sin(q2)**2 + 12.875)\n",
        "-((2.5*cos(q2) + 2.25)*(F1 - q1 + 5.0*q1_d*q2_d*sin(q2) + 2.5*q2_d**2*sin(q2)) + (5.0*cos(q2) + 10.75)*(-F2 + 2.5*q1_d**2*sin(q2) + q2))/(6.25*sin(q2)**2 + 12.875)\n"
       ]
      }
     ],
     "prompt_number": 179
    },
    {
     "cell_type": "code",
     "collapsed": false,
     "input": [
      "#Umformen zu einer lambda function\n",
      "q1_dd_fnc = sp.lambdify([mod1.qs[0],mod1.qs[1], mod1.qds[0],mod1.qds[1],\\\n",
      "                         mod1.extforce_list[0],mod1.extforce_list[1]],q1_dd_expr,'numpy')\n",
      "q2_dd_fnc = sp.lambdify([mod1.qs[0],mod1.qs[1], mod1.qds[0],mod1.qds[1],\\\n",
      "                         mod1.extforce_list[0],mod1.extforce_list[1]],q2_dd_expr,'numpy')"
     ],
     "language": "python",
     "metadata": {},
     "outputs": [],
     "prompt_number": 181
    },
    {
     "cell_type": "code",
     "collapsed": false,
     "input": [
      "def get_zd(z,t):    \n",
      "    q1, q2, q1_d, q2_d = z\n",
      "    F = 0\n",
      "    q1_dd = q1_dd_fnc(q1, q2, q1_d, q2_d,F,F)\n",
      "    q2_dd = q2_dd_fnc(q1, q2, q1_d, q2_d,F,F)\n",
      "    #print q1_dd\n",
      "    #print q2_dd\n",
      "    return r_[q1_d,q2_d,q1_dd,q2_dd]"
     ],
     "language": "python",
     "metadata": {},
     "outputs": [],
     "prompt_number": 193
    },
    {
     "cell_type": "code",
     "collapsed": false,
     "input": [
      "t = np.linspace(1,100,101)\n",
      "\n",
      "z0 = r_[pi, 0.25*pi, 0, 0]\n",
      "z0\n",
      "lsg = odeint(get_zd,z0,t)\n",
      "#get_zd(z0,0)\n"
     ],
     "language": "python",
     "metadata": {},
     "outputs": [],
     "prompt_number": 194
    },
    {
     "cell_type": "code",
     "collapsed": false,
     "input": [
      "lsg"
     ],
     "language": "python",
     "metadata": {},
     "outputs": [
      {
       "metadata": {},
       "output_type": "pyout",
       "prompt_number": 195,
       "text": [
        "array([[  3.14159265e+00,   7.85398163e-01,   0.00000000e+00,   0.00000000e+00],\n",
        "       [  3.02536398e+00,   8.16312073e-01,  -2.27656813e-01,   3.92672708e-02],\n",
        "       [  2.71714767e+00,   7.88660760e-01,  -3.76508563e-01,  -1.37548517e-01],\n",
        "       [  2.31760760e+00,   4.89173870e-01,  -4.20265653e-01,  -4.59710306e-01],\n",
        "       [  1.84743455e+00,   4.01727321e-02,  -5.74890532e-01,  -3.04041516e-01],\n",
        "       [  1.13509394e+00,   4.58979784e-02,  -8.42105240e-01,   2.66251734e-01],\n",
        "       [  2.87943842e-01,   2.53271783e-01,  -8.09830748e-01,  -1.51023595e-02],\n",
        "       [ -4.21698517e-01,  -5.63445802e-02,  -6.54621723e-01,  -4.86976351e-01],\n",
        "       [ -1.11369496e+00,  -3.54578542e-01,  -7.62739325e-01,  -1.96323474e-02],\n",
        "       [ -1.87905357e+00,  -1.79913528e-01,  -7.31616566e-01,   2.29653583e-01],\n",
        "       [ -2.47117696e+00,  -1.69272888e-01,  -4.44447596e-01,  -2.62314504e-01],\n",
        "       [ -2.78759681e+00,  -6.02506361e-01,  -2.29072103e-01,  -5.05363661e-01],\n",
        "       [ -2.96311263e+00,  -1.01645500e+00,  -1.24148881e-01,  -2.99488250e-01],\n",
        "       [ -3.01583159e+00,  -1.17720618e+00,   2.49558126e-02,  -2.29304165e-02],\n",
        "       [ -2.91607218e+00,  -1.05173858e+00,   1.66158704e-01,   2.84279313e-01],\n",
        "       [ -2.71373831e+00,  -6.13675194e-01,   2.36786615e-01,   5.75091796e-01],\n",
        "       [ -2.40059994e+00,  -9.55009309e-02,   4.44612324e-01,   3.24716546e-01],\n",
        "       [ -1.78684746e+00,  -1.21895725e-01,   7.73379419e-01,  -3.21339259e-01],\n",
        "       [ -9.80863542e-01,  -3.90375509e-01,   7.90629924e-01,  -3.33609384e-02],\n",
        "       [ -2.90585219e-01,  -6.30471803e-02,   6.24154297e-01,   5.88630009e-01],\n",
        "       [  3.93615471e-01,   3.27021438e-01,   8.01708352e-01,   3.63096372e-02],\n",
        "       [  1.24934636e+00,   6.64636206e-02,   8.60097495e-01,  -3.71586393e-01],\n",
        "       [  1.96526936e+00,  -8.80041676e-03,   5.54228547e-01,   3.00637279e-01],\n",
        "       [  2.39028016e+00,   5.05670528e-01,   3.62625848e-01,   5.63621972e-01],\n",
        "       [  2.74146834e+00,   8.90476404e-01,   3.38250306e-01,   1.94490304e-01],\n",
        "       [  3.02072466e+00,   9.32999435e-01,   2.07173064e-01,  -7.04708472e-02],\n",
        "       [  3.12617900e+00,   8.25751400e-01,  -1.67572076e-03,  -1.15519947e-01],\n",
        "       [  3.01264160e+00,   7.34884244e-01,  -2.24415819e-01,  -7.10101528e-02],\n",
        "       [  2.69987586e+00,   6.46834773e-01,  -3.93573614e-01,  -1.35861568e-01],\n",
        "       [  2.26096254e+00,   4.23824951e-01,  -4.85125959e-01,  -3.12395299e-01],\n",
        "       [  1.72444568e+00,   1.16947728e-01,  -6.19655559e-01,  -2.29492362e-01],\n",
        "       [  1.01269607e+00,   6.41757862e-02,  -8.04784528e-01,   9.94804970e-02],\n",
        "       [  1.98096386e-01,   1.41292457e-01,  -8.02497548e-01,  -4.12038248e-02],\n",
        "       [ -5.43429494e-01,  -6.39472480e-02,  -7.09404545e-01,  -3.05411306e-01],\n",
        "       [ -1.25446350e+00,  -2.71959587e-01,  -7.35271295e-01,  -6.05952210e-02],\n",
        "       [ -1.96448914e+00,  -2.32751513e-01,  -6.66690719e-01,   6.01667951e-02],\n",
        "       [ -2.52010216e+00,  -2.95601496e-01,  -4.43532603e-01,  -2.15633119e-01],\n",
        "       [ -2.85321513e+00,  -6.12481579e-01,  -2.43967983e-01,  -3.70957890e-01],\n",
        "       [ -3.02072707e+00,  -9.42098540e-01,  -9.45532746e-02,  -2.68819987e-01],\n",
        "       [ -3.03300090e+00,  -1.11430531e+00,   7.24894395e-02,  -6.66077284e-02],\n",
        "       [ -2.88467485e+00,  -1.04310114e+00,   2.15121809e-01,   2.28741556e-01],\n",
        "       [ -2.64009362e+00,  -6.39059067e-01,   2.67610001e-01,   5.74340784e-01],\n",
        "       [ -2.31506421e+00,  -7.71017567e-02,   4.43539168e-01,   3.97107742e-01],\n",
        "       [ -1.69617624e+00,  -6.11605341e-02,   7.90501918e-01,  -3.29961562e-01],\n",
        "       [ -8.64330684e-01,  -3.80726414e-01,   8.18443378e-01,  -9.86007178e-02],\n",
        "       [ -1.59236777e-01,  -8.28127106e-02,   6.19222282e-01,   6.10295084e-01],\n",
        "       [  5.06969999e-01,   3.60303573e-01,   7.81028505e-01,   9.32230805e-02],\n",
        "       [  1.35062673e+00,   1.16489200e-01,   8.58868267e-01,  -4.08289075e-01],\n",
        "       [  2.06918811e+00,  -2.13793522e-02,   5.52448944e-01,   2.41402034e-01],\n",
        "       [  2.47226474e+00,   4.86193744e-01,   3.19850266e-01,   6.11473158e-01],\n",
        "       [  2.77565479e+00,   9.39385572e-01,   2.90258724e-01,   2.69232959e-01],\n",
        "       [  3.01179279e+00,   1.03915054e+00,   1.69043933e-01,  -3.99330251e-02],\n",
        "       [  3.08917615e+00,   9.16285267e-01,  -1.71658625e-02,  -1.83788247e-01],\n",
        "       [  2.97610584e+00,   7.11882384e-01,  -2.09915191e-01,  -2.16480556e-01],\n",
        "       [  2.67825866e+00,   5.04002779e-01,  -3.88777845e-01,  -1.98255736e-01],\n",
        "       [  2.21296372e+00,   3.27251570e-01,  -5.47466586e-01,  -1.55593373e-01],\n",
        "       [  1.60367793e+00,   1.98672531e-01,  -6.77079895e-01,  -1.05979684e-01],\n",
        "       [  8.88547725e-01,   1.06456789e-01,  -7.58183610e-01,  -8.78324039e-02],\n",
        "       [  1.20394389e-01,   1.50265547e-02,  -7.85864026e-01,  -9.69822524e-02],\n",
        "       [ -6.54025207e-01,  -7.92381154e-02,  -7.71718013e-01,  -9.06372040e-02],\n",
        "       [ -1.39125516e+00,  -1.68172613e-01,  -7.08227632e-01,  -9.54559669e-02],\n",
        "       [ -2.03843984e+00,  -2.81984284e-01,  -5.91606348e-01,  -1.38983314e-01],\n",
        "       [ -2.55128861e+00,  -4.44619373e-01,  -4.40204897e-01,  -1.87242809e-01],\n",
        "       [ -2.90297199e+00,  -6.45744240e-01,  -2.67065165e-01,  -2.14689400e-01],\n",
        "       [ -3.07457726e+00,  -8.57113295e-01,  -7.75300715e-02,  -2.02627223e-01],\n",
        "       [ -3.05529146e+00,  -1.01747231e+00,   1.14633388e-01,  -1.00515508e-01],\n",
        "       [ -2.86094715e+00,  -1.00429428e+00,   2.64593351e-01,   1.56421101e-01],\n",
        "       [ -2.56846985e+00,  -6.62855212e-01,   3.09946784e-01,   5.33996788e-01],\n",
        "       [ -2.22148632e+00,  -8.80749749e-02,   4.44571115e-01,   4.63135462e-01],\n",
        "       [ -1.60487031e+00,  -5.82181475e-03,   7.94136215e-01,  -2.93740975e-01],\n",
        "       [ -7.56517129e-01,  -3.48511131e-01,   8.44010458e-01,  -1.63989160e-01],\n",
        "       [ -3.02426338e-02,  -1.05445394e-01,   6.27011384e-01,   5.90695842e-01],\n",
        "       [  6.22712565e-01,   3.71852544e-01,   7.55307390e-01,   1.60756635e-01],\n",
        "       [  1.44439778e+00,   1.76853838e-01,   8.46280097e-01,  -4.04182535e-01],\n",
        "       [  2.16208470e+00,  -9.92796894e-03,   5.56880116e-01,   1.63898738e-01],\n",
        "       [  2.55531780e+00,   4.54364680e-01,   2.88367476e-01,   6.21884509e-01],\n",
        "       [  2.81463824e+00,   9.56167511e-01,   2.40189015e-01,   3.40134580e-01],\n",
        "       [  3.00292029e+00,   1.12260062e+00,   1.23710098e-01,   1.28974703e-02],\n",
        "       [  3.04227027e+00,   1.01597526e+00,  -4.49550670e-02,  -2.14092201e-01],\n",
        "       [  2.92076226e+00,   7.24492575e-01,  -1.97107827e-01,  -3.57219253e-01],\n",
        "       [  2.64490367e+00,   3.75031601e-01,  -3.72534797e-01,  -2.97331357e-01],\n",
        "       [  2.15995050e+00,   2.23052656e-01,  -6.07076947e-01,  -2.18040818e-03],\n",
        "       [  1.48006626e+00,   2.76361604e-01,  -7.34393519e-01,   2.54716622e-02],\n",
        "       [  7.60476706e-01,   1.53680579e-01,  -7.09700014e-01,  -2.71036967e-01],\n",
        "       [  4.24469559e-02,  -1.10201411e-01,  -7.67290474e-01,  -1.59703769e-01],\n",
        "       [ -7.61728887e-01,  -9.96668654e-02,  -8.29451858e-01,   1.21610683e-01],\n",
        "       [ -1.52486521e+00,  -6.31536825e-02,  -6.83217684e-01,  -1.19938342e-01],\n",
        "       [ -2.10815104e+00,  -3.23608826e-01,  -5.13845565e-01,  -3.35675029e-01],\n",
        "       [ -2.57388740e+00,  -5.97098197e-01,  -4.28028271e-01,  -1.88800864e-01],\n",
        "       [ -2.93442135e+00,  -7.13064530e-01,  -2.85305938e-01,  -7.29272740e-02],\n",
        "       [ -3.11482883e+00,  -7.92484218e-01,  -7.21397780e-02,  -1.01709279e-01],\n",
        "       [ -3.07517680e+00,  -9.05842970e-01,   1.47775257e-01,  -1.05073608e-01],\n",
        "       [ -2.84107166e+00,  -9.33524979e-01,   3.10121477e-01,   8.86867873e-02],\n",
        "       [ -2.50059034e+00,  -6.64548235e-01,   3.58494238e-01,   4.67280476e-01],\n",
        "       [ -2.11971896e+00,  -1.14763546e-01,   4.57572832e-01,   4.94046000e-01],\n",
        "       [ -1.50312940e+00,   2.85608558e-02,   7.90333763e-01,  -2.30445981e-01],\n",
        "       [ -6.48905021e-01,  -3.00425830e-01,   8.60548301e-01,  -2.02274519e-01],\n",
        "       [  9.75869659e-02,  -1.13701937e-01,   6.44108586e-01,   5.39290908e-01],\n",
        "       [  7.47010304e-01,   3.63704483e-01,   7.32846390e-01,   2.10278272e-01],\n",
        "       [  1.54157328e+00,   2.29259834e-01,   8.21264590e-01,  -3.59812419e-01],\n",
        "       [  2.24739853e+00,   2.94826235e-02,   5.56455396e-01,   1.01319892e-01]])"
       ]
      }
     ],
     "prompt_number": 195
    },
    {
     "cell_type": "code",
     "collapsed": false,
     "input": [
      "fig = plt.figure()\n",
      "ax = fig.add_subplot(1,1,1)\n",
      "ax.set_title(\"odeint\")\n",
      "ax.plot(t,lsg[:,1]*180/pi,t,lsg[:,0]*180/pi)\n",
      "ax.set_xlabel(\"$t$ in s\")\n",
      "ax.set_ylabel(\"$\\phi_2$\")\n",
      "ax.legend()              \n",
      "plt.show()"
     ],
     "language": "python",
     "metadata": {},
     "outputs": []
    },
    {
     "cell_type": "code",
     "collapsed": false,
     "input": [],
     "language": "python",
     "metadata": {},
     "outputs": []
    }
   ],
   "metadata": {}
  }
 ]
}