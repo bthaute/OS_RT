{
 "metadata": {
  "name": "",
  "signature": "sha256:cf0b6a43a3f6ad36a6d3d9c50da7f143b4dbb1c9d7f78d5d15bb7c55a01be074"
 },
 "nbformat": 3,
 "nbformat_minor": 0,
 "worksheets": [
  {
   "cells": [
    {
     "cell_type": "heading",
     "level": 2,
     "metadata": {},
     "source": [
      "Vorgabe reale Werte Betonpumpe"
     ]
    },
    {
     "cell_type": "heading",
     "level": 3,
     "metadata": {},
     "source": [
      "Berechnung Tr\u00e4gheitsmomente"
     ]
    },
    {
     "cell_type": "heading",
     "level": 4,
     "metadata": {},
     "source": [
      "Hohlrechtecktr\u00e4ger"
     ]
    },
    {
     "cell_type": "markdown",
     "metadata": {},
     "source": [
      "H...H\u00f6he\n",
      "\n",
      "B...Breite\n",
      "\n",
      "L...L\u00e4nge\n",
      "\n",
      "D...Wandst\u00e4rke\n",
      "\n",
      "M...Masse"
     ]
    },
    {
     "cell_type": "code",
     "collapsed": false,
     "input": [
      "import sympy as sp"
     ],
     "language": "python",
     "metadata": {},
     "outputs": [],
     "prompt_number": 55
    },
    {
     "cell_type": "code",
     "collapsed": false,
     "input": [
      "parameter = sp.symbols(\"H, B, L, D, M\")\n",
      "H, B, L, D, M = parameter"
     ],
     "language": "python",
     "metadata": {},
     "outputs": [],
     "prompt_number": 56
    },
    {
     "cell_type": "code",
     "collapsed": false,
     "input": [
      "V1 = H*B*L\n",
      "V2 = (B - 2*D)*(H - 2*D)*L\n",
      "M1 = M*(V1/(V1-V2))\n",
      "M2 = M*(V2/(V1-V2))"
     ],
     "language": "python",
     "metadata": {},
     "outputs": [],
     "prompt_number": 57
    },
    {
     "cell_type": "code",
     "collapsed": false,
     "input": [
      "Jx1 = (M1*(H**2 + L**2))/12\n",
      "Jy1 = (M1*(B**2 + L**2))/12\n",
      "Jz1 = (M1*(B**2 + H**2))/12\n",
      "Jx2 = (M1*((H - 2*D)**2 + L**2))/12\n",
      "Jy2 = (M1*((B - 2*D)**2 + L**2))/12\n",
      "Jz2 = (M1*((B - 2*D)**2 + (H - 2*D)**2))/12"
     ],
     "language": "python",
     "metadata": {},
     "outputs": [],
     "prompt_number": 58
    },
    {
     "cell_type": "code",
     "collapsed": false,
     "input": [
      "Jx = Jx1 - Jx2\n",
      "Jy = Jy1 - Jy2\n",
      "Jz = Jz1 - Jz2\n",
      "Jx.simplify()\n",
      "Jy.simplify()\n",
      "Jz.simplify()"
     ],
     "language": "python",
     "metadata": {},
     "outputs": [
      {
       "metadata": {},
       "output_type": "pyout",
       "prompt_number": 59,
       "text": [
        "B*H*M/6"
       ]
      }
     ],
     "prompt_number": 59
    },
    {
     "cell_type": "heading",
     "level": 3,
     "metadata": {},
     "source": [
      "Vorgabe "
     ]
    },
    {
     "cell_type": "markdown",
     "metadata": {},
     "source": [
      "Konstanten"
     ]
    },
    {
     "cell_type": "code",
     "collapsed": false,
     "input": [
      "# g in [m/s^2]\n",
      "g =  9.80665"
     ],
     "language": "python",
     "metadata": {},
     "outputs": [],
     "prompt_number": 60
    },
    {
     "cell_type": "markdown",
     "metadata": {},
     "source": [
      "Massen der Arme inkl. Gelenke in [kg]"
     ]
    },
    {
     "cell_type": "code",
     "collapsed": false,
     "input": [
      "m1 = (1.6 + 0.95)*1000\n",
      "m2 = (1.1 + 0.6)*1000\n",
      "m3 = (0.8 + 0.55)*1000\n",
      "m4 = (0.5 + 0.4)*1000\n",
      "m5 = (0.28 + 0.2)*1000"
     ],
     "language": "python",
     "metadata": {},
     "outputs": [],
     "prompt_number": 1
    },
    {
     "cell_type": "code",
     "collapsed": false,
     "input": [
      "m2"
     ],
     "language": "python",
     "metadata": {},
     "outputs": [
      {
       "metadata": {},
       "output_type": "pyout",
       "prompt_number": 3,
       "text": [
        "1700.0000000000002"
       ]
      }
     ],
     "prompt_number": 3
    },
    {
     "cell_type": "markdown",
     "metadata": {},
     "source": [
      "L\u00e4ngen der Arme in [m]"
     ]
    },
    {
     "cell_type": "code",
     "collapsed": false,
     "input": [
      "l1 = 9\n",
      "l2 = 8\n",
      "l3 = 7\n",
      "l4 = 7\n",
      "l5 = 6"
     ],
     "language": "python",
     "metadata": {},
     "outputs": [],
     "prompt_number": 62
    },
    {
     "cell_type": "markdown",
     "metadata": {},
     "source": [
      "Schwerpunkte Annahme bei der halben L\u00e4nge"
     ]
    },
    {
     "cell_type": "code",
     "collapsed": false,
     "input": [
      "a1 = l1\n",
      "a2 = l2\n",
      "a3 = l3\n",
      "a4 = l4\n",
      "a5 = l5"
     ],
     "language": "python",
     "metadata": {},
     "outputs": [],
     "prompt_number": 63
    },
    {
     "cell_type": "markdown",
     "metadata": {},
     "source": [
      "H\u00f6hen, Breiten und Dicken der Arme bei Annahme eines rechteckigen Hohtr\u00e4gers"
     ]
    },
    {
     "cell_type": "code",
     "collapsed": false,
     "input": [
      "# H\u00f6hen in [m]\n",
      "h1 = 0.5\n",
      "h2 = 0.35\n",
      "h3 = 0.3\n",
      "h4 = 0.25\n",
      "h5 = 0.2\n",
      "# Breiten in [m]\n",
      "b1 = 0.5\n",
      "b2 = 0.35\n",
      "b3 = 0.3\n",
      "b4 = 0.25\n",
      "b5 = 0.2\n",
      "# Dicken in [m]\n",
      "d1 = 0.02\n",
      "d2 = 0.015\n",
      "d3 = 0.015\n",
      "d4 = 0.01\n",
      "d5 = 0.01"
     ],
     "language": "python",
     "metadata": {},
     "outputs": [],
     "prompt_number": 64
    },
    {
     "cell_type": "markdown",
     "metadata": {},
     "source": [
      "Federkonstanten -> noch keine Ahnung"
     ]
    },
    {
     "cell_type": "code",
     "collapsed": false,
     "input": [
      "k1 = 0\n",
      "k2 = 0\n",
      "k3 = 0\n",
      "k4 = 0\n",
      "k5 = 0"
     ],
     "language": "python",
     "metadata": {},
     "outputs": [],
     "prompt_number": 65
    },
    {
     "cell_type": "heading",
     "level": 6,
     "metadata": {},
     "source": [
      "Tr\u00e4gheitsmomente Beachte: Bei uns wird momentan nur Tr\u00e4gheit in x ben\u00f6tigt in[kg*m^2]"
     ]
    },
    {
     "cell_type": "markdown",
     "metadata": {},
     "source": [
      "F\u00fcr Arm 1"
     ]
    },
    {
     "cell_type": "code",
     "collapsed": false,
     "input": [
      "subslist = zip([H],[h1]) + zip([B],[b1]) + zip([L],[l1]) + zip([M],[m1]) + zip([D],[d1])\n",
      "Jx1 = Jx.subs(subslist)\n",
      "Jy1 = Jy.subs(subslist)\n",
      "Jz1 = Jz.subs(subslist)\n",
      "Jx1"
     ],
     "language": "python",
     "metadata": {},
     "outputs": [
      {
       "metadata": {},
       "output_type": "pyout",
       "prompt_number": 66,
       "text": [
        "53.1249999999854"
       ]
      }
     ],
     "prompt_number": 66
    },
    {
     "cell_type": "markdown",
     "metadata": {},
     "source": [
      "F\u00fcr Arm 2"
     ]
    },
    {
     "cell_type": "code",
     "collapsed": false,
     "input": [
      "subslist = zip([H],[h2]) + zip([B],[b2]) + zip([L],[l2]) + zip([M],[m2]) + zip([D],[d2])\n",
      "Jx2 = Jx.subs(subslist)\n",
      "Jy2 = Jy.subs(subslist)\n",
      "Jz2 = Jz.subs(subslist)\n",
      "Jx2"
     ],
     "language": "python",
     "metadata": {},
     "outputs": [
      {
       "metadata": {},
       "output_type": "pyout",
       "prompt_number": 67,
       "text": [
        "17.3541666666642"
       ]
      }
     ],
     "prompt_number": 67
    },
    {
     "cell_type": "markdown",
     "metadata": {},
     "source": [
      "F\u00fcr Arm 3"
     ]
    },
    {
     "cell_type": "code",
     "collapsed": false,
     "input": [
      "subslist = zip([H],[h3]) + zip([B],[b3]) + zip([L],[l3]) + zip([M],[m3]) + zip([D],[d3])\n",
      "Jx3 = Jx.subs(subslist)\n",
      "Jy3 = Jy.subs(subslist)\n",
      "Jz3 = Jz.subs(subslist)\n",
      "Jx3"
     ],
     "language": "python",
     "metadata": {},
     "outputs": [
      {
       "metadata": {},
       "output_type": "pyout",
       "prompt_number": 68,
       "text": [
        "10.1250000000073"
       ]
      }
     ],
     "prompt_number": 68
    },
    {
     "cell_type": "markdown",
     "metadata": {},
     "source": [
      "F\u00fcr Arm 4"
     ]
    },
    {
     "cell_type": "code",
     "collapsed": false,
     "input": [
      "subslist = zip([H],[h4]) + zip([B],[b4]) + zip([L],[l4]) + zip([M],[m4]) + zip([D],[d4])\n",
      "Jx4 = Jx.subs(subslist)\n",
      "Jy4 = Jy.subs(subslist)\n",
      "Jz4 = Jz.subs(subslist)\n",
      "Jx4"
     ],
     "language": "python",
     "metadata": {},
     "outputs": [
      {
       "metadata": {},
       "output_type": "pyout",
       "prompt_number": 69,
       "text": [
        "4.68750000000364"
       ]
      }
     ],
     "prompt_number": 69
    },
    {
     "cell_type": "markdown",
     "metadata": {},
     "source": [
      "F\u00fcr Arm 5"
     ]
    },
    {
     "cell_type": "code",
     "collapsed": false,
     "input": [
      "subslist = zip([H],[h5]) + zip([B],[b5]) + zip([L],[l5]) + zip([M],[m5]) + zip([D],[d5])\n",
      "Jx5 = Jx.subs(subslist)\n",
      "Jy5 = Jy.subs(subslist)\n",
      "Jz5 = Jz.subs(subslist)\n",
      "Jx5"
     ],
     "language": "python",
     "metadata": {},
     "outputs": [
      {
       "metadata": {},
       "output_type": "pyout",
       "prompt_number": 70,
       "text": [
        "1.59999999999945"
       ]
      }
     ],
     "prompt_number": 70
    },
    {
     "cell_type": "code",
     "collapsed": false,
     "input": [
      "I1 = Jx1\n",
      "I2 = Jx2\n",
      "I3 = Jx3\n",
      "I4 = Jx4\n",
      "I5 = Jx5"
     ],
     "language": "python",
     "metadata": {},
     "outputs": [],
     "prompt_number": 71
    },
    {
     "cell_type": "code",
     "collapsed": false,
     "input": [],
     "language": "python",
     "metadata": {},
     "outputs": [],
     "prompt_number": 71
    },
    {
     "cell_type": "code",
     "collapsed": false,
     "input": [],
     "language": "python",
     "metadata": {},
     "outputs": []
    }
   ],
   "metadata": {}
  }
 ]
}